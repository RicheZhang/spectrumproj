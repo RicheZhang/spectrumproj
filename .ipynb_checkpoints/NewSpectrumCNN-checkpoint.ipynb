{
 "cells": [
  {
   "cell_type": "markdown",
   "metadata": {},
   "source": [
    "## Modulation Recognition Example: RML2016.10a Dataset + VT-CNN2 Mod-Rec Network\n",
    "\n",
    "More information on this classification method can be found at\n",
    "https://arxiv.org/abs/1602.04105\n",
    "\n",
    "More information on the RML2016.10a dataset can be found at\n",
    "http://pubs.gnuradio.org/index.php/grcon/article/view/11\n",
    "\n",
    "Please cite derivative works\n",
    "\n",
    "```\n",
    "@article{convnetmodrec,\n",
    "  title={Convolutional Radio Modulation Recognition Networks},\n",
    "  author={O'Shea, Timothy J and Corgan, Johnathan and Clancy, T. Charles},\n",
    "  journal={arXiv preprint arXiv:1602.04105},\n",
    "  year={2016}\n",
    "}\n",
    "@article{rml_datasets,\n",
    "  title={Radio Machine Learning Dataset Generation with GNU Radio},\n",
    "  author={O'Shea, Timothy J and West, Nathan},\n",
    "  journal={Proceedings of the 6th GNU Radio Conference},\n",
    "  year={2016}\n",
    "}\n",
    "```\n",
    "\n",
    "To run this example, you will need to download or generate the RML2016.10a dataset (https://radioml.com/datasets/)\n",
    "You will also need Keras installed with either the Theano or Tensor Flow backend working.\n",
    "\n",
    "Have fun!"
   ]
  },
  {
   "cell_type": "code",
   "execution_count": 1,
   "metadata": {},
   "outputs": [
    {
     "name": "stderr",
     "output_type": "stream",
     "text": [
      "Using TensorFlow backend.\n"
     ]
    }
   ],
   "source": [
    "# Import all the things we need ---\n",
    "#   by setting env variables before Keras import you can set up which backend and which GPU it uses\n",
    "%matplotlib inline\n",
    "import os,random\n",
    "#os.environ[\"KERAS_BACKEND\"] = \"theano\"\n",
    "os.environ[\"KERAS_BACKEND\"] = \"tensorflow\"\n",
    "#os.environ[\"THEANO_FLAGS\"]  = \"device=gpu%d\"%(1)\n",
    "import numpy as np\n",
    "import theano as th\n",
    "import theano.tensor as T\n",
    "from keras.utils import np_utils\n",
    "import keras.models as models\n",
    "from keras.layers.core import Permute,Reshape,Dense,Dropout,Activation,Flatten\n",
    "from keras.layers.noise import GaussianNoise\n",
    "from keras.layers.convolutional import Conv2D, Conv1D, MaxPooling2D, ZeroPadding2D, ZeroPadding1D\n",
    "from keras.layers.advanced_activations import LeakyReLU\n",
    "from keras.layers.pooling import GlobalAveragePooling2D\n",
    "from keras.layers.normalization import BatchNormalization\n",
    "from keras.regularizers import *\n",
    "from keras.optimizers import adam\n",
    "import matplotlib.pyplot as plt\n",
    "#import seaborn as sns\n",
    "import cPickle, random, sys, keras\n",
    "#import h5py as h5py"
   ]
  },
  {
   "cell_type": "markdown",
   "metadata": {},
   "source": [
    "# Test the datapoints to see if they're OK"
   ]
  },
  {
   "cell_type": "code",
   "execution_count": 2,
   "metadata": {},
   "outputs": [
    {
     "name": "stdout",
     "output_type": "stream",
     "text": [
      "[[ 0.01346349  0.0119444  -0.00954858 ...,  0.00447895 -0.00522324\n",
      "  -0.01982257]\n",
      " [-0.20404874  0.26667246 -0.33074903 ...,  0.13233228  0.08513734\n",
      "   0.21854825]\n",
      " [-0.02506982  0.12726684 -0.08917022 ..., -0.13461225 -0.00177922\n",
      "   0.03746549]\n",
      " ..., \n",
      " [-0.03792795 -0.04472325  0.11600647 ...,  0.03873757 -0.03610742\n",
      "   0.10806829]\n",
      " [ 0.06016326 -0.03280114  0.16800864 ..., -0.05054957  0.00303447\n",
      "  -0.06166642]\n",
      " [-0.12077822 -0.00040703 -0.05052126 ...,  0.01042341 -0.0743439\n",
      "   0.02389801]]\n",
      "(128, 128)\n"
     ]
    },
    {
     "data": {
      "text/plain": [
       "<matplotlib.collections.QuadMesh at 0x7f0a5d70fc50>"
      ]
     },
     "execution_count": 2,
     "metadata": {},
     "output_type": "execute_result"
    },
    {
     "data": {
      "image/png": "[encoded data removed]",
      "text/plain": [
       "<matplotlib.figure.Figure at 0x7f0ac438c410>"
      ]
     },
     "metadata": {},
     "output_type": "display_data"
    }
   ],
   "source": [
    "import matplotlib.pyplot as plt\n",
    "import os\n",
    "\n",
    "path = \"trainingdataset/\"\n",
    "\n",
    "datapoint = cPickle.load(open(os.path.join(path,'object_generated0.dat')))\n",
    "\n",
    "print datapoint['data'][:,:,0]\n",
    "print datapoint['data'][:,:,0].shape\n",
    "#t = datapoint['segment_t']\n",
    "#f = datapoint['sample_f']\n",
    "#x = 1024\n",
    "#y = 293\n",
    "#plt.pcolormesh(t, f, datapoint['data'][:,:,0])\n",
    "plt.pcolormesh(datapoint['data'][:,:,0])\n",
    "#print datapoint['center']"
   ]
  },
  {
   "cell_type": "markdown",
   "metadata": {},
   "source": [
    "# Create the dataset using generator"
   ]
  },
  {
   "cell_type": "code",
   "execution_count": 2,
   "metadata": {},
   "outputs": [],
   "source": [
    "from dataset.dataset_model import dataset_model\n",
    "\n",
    "# Set up some params\n",
    "nb_epoch = 100     # number of epochs to train on\n",
    "batch_size = 32  # training batch size\n",
    "\n",
    "train_set = dataset_model('trainingdataset/')\n",
    "test_set = dataset_model('testdataset/')\n",
    "\n",
    "\n",
    "train_set_gen = train_set.dataset_generator(batch_size)\n",
    "test_set_gen = test_set.dataset_generator(batch_size)\n",
    "\n",
    "num_classes = len(train_set.class_types)\n"
   ]
  },
  {
   "cell_type": "code",
   "execution_count": 15,
   "metadata": {},
   "outputs": [
    {
     "name": "stdout",
     "output_type": "stream",
     "text": [
      "(array([[[[  4.92451954e-06,   5.79701918e-06],\n",
      "         [ -8.66525681e-07,  -3.87266823e-07],\n",
      "         [ -1.31725426e-06,   3.36991957e-06],\n",
      "         ..., \n",
      "         [ -4.53594566e-06,   1.37932773e-06],\n",
      "         [  5.53638131e-07,  -9.60094076e-06],\n",
      "         [ -2.87848570e-06,  -5.25102814e-06]],\n",
      "\n",
      "        [[ -3.46789166e-05,  -5.27302727e-05],\n",
      "         [ -8.84960809e-06,   1.34653728e-05],\n",
      "         [  5.99269406e-05,  -5.42308517e-05],\n",
      "         ..., \n",
      "         [ -3.25765141e-05,   2.69181510e-06],\n",
      "         [ -3.01265209e-05,  -2.48120250e-05],\n",
      "         [  3.04534678e-05,   4.59571384e-05]],\n",
      "\n",
      "        [[ -3.05395297e-05,  -1.38872736e-07],\n",
      "         [ -8.99900715e-06,   2.44555486e-05],\n",
      "         [  1.46974016e-05,  -4.18293821e-05],\n",
      "         ..., \n",
      "         [ -4.75369634e-05,  -2.59895041e-05],\n",
      "         [  1.36293447e-05,   2.51636411e-05],\n",
      "         [  4.20515462e-05,  -1.57574468e-05]],\n",
      "\n",
      "        ..., \n",
      "        [[ -2.20920028e-05,  -6.41421320e-06],\n",
      "         [ -2.51653291e-05,  -2.07361827e-05],\n",
      "         [ -3.19222127e-05,  -8.02275372e-06],\n",
      "         ..., \n",
      "         [  3.88727494e-06,  -2.43344093e-05],\n",
      "         [ -5.14453950e-06,   1.80469669e-05],\n",
      "         [  1.25874822e-05,  -8.18196804e-06]],\n",
      "\n",
      "        [[ -1.34588799e-05,  -4.80151357e-06],\n",
      "         [  7.84825534e-06,   1.00414218e-05],\n",
      "         [ -1.42653644e-05,   2.10581729e-05],\n",
      "         ..., \n",
      "         [ -2.27534274e-05,   1.23486980e-05],\n",
      "         [  1.12344042e-05,  -1.38336518e-05],\n",
      "         [ -5.95447682e-06,  -1.34610605e-06]],\n",
      "\n",
      "        [[  2.06057539e-05,   5.66986319e-06],\n",
      "         [  2.20141237e-06,  -1.81398900e-05],\n",
      "         [ -2.32625262e-05,   1.58567345e-05],\n",
      "         ..., \n",
      "         [ -1.25530532e-05,  -1.08605800e-05],\n",
      "         [ -2.31852646e-05,   5.31752303e-05],\n",
      "         [ -2.59816279e-05,  -1.50119413e-05]]],\n",
      "\n",
      "\n",
      "       [[[  1.39863891e-06,   1.90427374e-06],\n",
      "         [  2.74476224e-06,  -5.09222809e-06],\n",
      "         [ -5.42580381e-07,   2.31922263e-06],\n",
      "         ..., \n",
      "         [ -1.67170549e-06,  -1.35797620e-07],\n",
      "         [  1.08959284e-06,   1.46895695e-06],\n",
      "         [ -1.02136266e-06,  -1.55662053e-06]],\n",
      "\n",
      "        [[  3.73773146e-05,   1.08848308e-05],\n",
      "         [  2.64174992e-06,   1.10378096e-05],\n",
      "         [ -2.62877838e-05,   8.87744591e-06],\n",
      "         ..., \n",
      "         [ -1.58391194e-05,   2.54290671e-06],\n",
      "         [ -1.33131198e-05,   1.14533505e-05],\n",
      "         [ -1.08678105e-05,  -1.16960819e-05]],\n",
      "\n",
      "        [[ -1.53653964e-05,   3.20319964e-06],\n",
      "         [ -2.06465556e-05,  -5.75271679e-06],\n",
      "         [  3.20300569e-05,   3.38553909e-05],\n",
      "         ..., \n",
      "         [  1.68543647e-05,  -1.65374622e-05],\n",
      "         [  1.67953822e-05,   1.28160136e-05],\n",
      "         [  2.10455732e-06,  -2.19981284e-05]],\n",
      "\n",
      "        ..., \n",
      "        [[  3.66299264e-06,   1.51202739e-05],\n",
      "         [ -1.44937922e-05,  -1.84665969e-05],\n",
      "         [  3.24965913e-06,  -7.59734803e-06],\n",
      "         ..., \n",
      "         [ -8.42234840e-06,   4.99545740e-06],\n",
      "         [  1.46061611e-05,  -1.16512419e-05],\n",
      "         [  8.39396398e-06,  -1.69058130e-05]],\n",
      "\n",
      "        [[ -1.59490719e-05,  -7.17874627e-06],\n",
      "         [ -1.30090002e-05,  -3.38756145e-05],\n",
      "         [  7.90782360e-06,  -9.16879435e-06],\n",
      "         ..., \n",
      "         [ -1.23738964e-05,  -2.86805207e-05],\n",
      "         [ -7.52543428e-07,  -1.67932794e-05],\n",
      "         [  1.70451931e-05,   1.91234503e-05]],\n",
      "\n",
      "        [[  5.84626468e-06,  -7.88165835e-06],\n",
      "         [  2.93829714e-07,  -1.54066656e-05],\n",
      "         [ -2.61011010e-05,  -1.06024436e-05],\n",
      "         ..., \n",
      "         [  2.09470381e-05,   2.25015301e-05],\n",
      "         [  5.62380865e-06,  -4.83493750e-06],\n",
      "         [  6.29055512e-06,  -6.32788488e-06]]],\n",
      "\n",
      "\n",
      "       [[[ -2.41504767e-06,  -3.76319622e-06],\n",
      "         [ -4.50151811e-06,   2.88021897e-06],\n",
      "         [ -4.23294478e-06,  -1.91663048e-06],\n",
      "         ..., \n",
      "         [ -1.52442101e-06,   4.07978223e-06],\n",
      "         [  6.01355987e-06,  -3.89069373e-06],\n",
      "         [  5.89887168e-06,   1.60344428e-06]],\n",
      "\n",
      "        [[  1.54456109e-06,  -2.39242763e-05],\n",
      "         [ -5.43292845e-06,  -9.49423156e-06],\n",
      "         [  6.16999932e-06,  -5.69867370e-06],\n",
      "         ..., \n",
      "         [  8.94745790e-06,   3.49384682e-05],\n",
      "         [  2.79660053e-05,  -4.20070955e-06],\n",
      "         [ -2.24229152e-05,   2.12626437e-05]],\n",
      "\n",
      "        [[  8.43004091e-06,  -3.19428659e-06],\n",
      "         [ -1.63290879e-05,  -1.04026485e-05],\n",
      "         [ -2.38863558e-05,  -9.81903395e-06],\n",
      "         ..., \n",
      "         [ -1.10478886e-05,   1.10103601e-05],\n",
      "         [  3.24967846e-06,   1.77916645e-05],\n",
      "         [  5.74358501e-06,  -1.31060654e-06]],\n",
      "\n",
      "        ..., \n",
      "        [[ -7.57758471e-06,   2.24806663e-05],\n",
      "         [ -2.99499261e-05,   1.64405974e-05],\n",
      "         [  1.63608202e-05,   1.82749118e-05],\n",
      "         ..., \n",
      "         [ -1.19449842e-05,  -3.55741940e-05],\n",
      "         [  1.09664234e-05,  -1.81997748e-05],\n",
      "         [  8.45379816e-07,  -1.65055626e-05]],\n",
      "\n",
      "        [[  1.32059304e-05,   3.28855895e-05],\n",
      "         [ -2.02277643e-05,  -1.33059330e-05],\n",
      "         [  2.72661709e-05,  -2.19510603e-05],\n",
      "         ..., \n",
      "         [  1.18779608e-05,   1.26536688e-05],\n",
      "         [  1.76316644e-05,   7.54075290e-06],\n",
      "         [  1.92251196e-06,  -4.48675273e-05]],\n",
      "\n",
      "        [[  1.85129229e-05,  -2.93133735e-06],\n",
      "         [ -2.60867764e-05,   1.56151782e-05],\n",
      "         [ -1.42220179e-05,  -1.09663133e-05],\n",
      "         ..., \n",
      "         [ -1.83333377e-05,   2.35131247e-05],\n",
      "         [ -2.23693442e-05,   2.02830397e-05],\n",
      "         [ -2.37046497e-05,   4.93340394e-07]]],\n",
      "\n",
      "\n",
      "       ..., \n",
      "       [[[  6.86540773e-07,  -5.29461090e-07],\n",
      "         [ -1.78281891e-06,   1.50938035e-06],\n",
      "         [  7.63140463e-07,   3.73331432e-06],\n",
      "         ..., \n",
      "         [  2.99567262e-07,   4.07163861e-06],\n",
      "         [ -1.45503907e-06,  -3.12570319e-06],\n",
      "         [ -1.37182769e-06,   1.91500590e-06]],\n",
      "\n",
      "        [[ -9.68383210e-06,  -1.01169405e-06],\n",
      "         [ -1.30305807e-05,   1.31506931e-05],\n",
      "         [  4.17588308e-05,  -4.62902699e-06],\n",
      "         ..., \n",
      "         [ -2.59863609e-05,  -2.70843202e-06],\n",
      "         [ -3.48189315e-06,  -1.93325668e-05],\n",
      "         [  2.72171328e-05,  -5.51216453e-06]],\n",
      "\n",
      "        [[  1.86795314e-05,  -2.14421489e-05],\n",
      "         [ -4.00788485e-06,  -2.68461354e-05],\n",
      "         [ -2.20088568e-05,   2.50486755e-06],\n",
      "         ..., \n",
      "         [ -1.26160476e-05,   2.29189072e-06],\n",
      "         [ -3.25705764e-06,  -1.18841417e-05],\n",
      "         [ -1.72789769e-05,   2.59314111e-05]],\n",
      "\n",
      "        ..., \n",
      "        [[ -6.13350812e-06,   1.36214239e-05],\n",
      "         [ -1.10167875e-05,  -1.28337897e-05],\n",
      "         [  1.69406721e-05,  -1.68755960e-05],\n",
      "         ..., \n",
      "         [ -8.34903858e-06,  -1.88015256e-05],\n",
      "         [  1.09938919e-05,  -4.05698620e-06],\n",
      "         [  7.44500721e-06,  -7.56896770e-06]],\n",
      "\n",
      "        [[  9.65278105e-06,   9.58297369e-06],\n",
      "         [  1.27514636e-06,   1.93711239e-05],\n",
      "         [ -2.22718591e-05,  -2.49957793e-05],\n",
      "         ..., \n",
      "         [ -2.55533741e-05,  -1.95629673e-05],\n",
      "         [  4.43133376e-06,  -1.49693433e-05],\n",
      "         [  5.24721008e-06,  -7.37960181e-06]],\n",
      "\n",
      "        [[  1.09934017e-05,  -6.08157370e-06],\n",
      "         [ -6.33399350e-06,  -1.24387961e-05],\n",
      "         [ -8.93099241e-06,   3.30958173e-05],\n",
      "         ..., \n",
      "         [ -4.79081655e-06,  -2.51409779e-06],\n",
      "         [ -8.95520134e-06,  -3.51231865e-05],\n",
      "         [ -1.66730224e-05,   9.97973621e-06]]],\n",
      "\n",
      "\n",
      "       [[[  6.80987796e-06,  -1.15519415e-05],\n",
      "         [  6.95484914e-06,   1.24692524e-05],\n",
      "         [  5.19131981e-06,  -1.01366959e-06],\n",
      "         ..., \n",
      "         [ -8.83387145e-07,   1.14913009e-05],\n",
      "         [  1.20210580e-05,   8.85440204e-06],\n",
      "         [ -1.08875804e-06,   1.25801116e-05]],\n",
      "\n",
      "        [[  3.42418898e-05,   5.91259450e-05],\n",
      "         [  4.79224364e-05,  -4.68899179e-06],\n",
      "         [  5.29061981e-06,  -4.03299528e-05],\n",
      "         ..., \n",
      "         [  6.95310009e-05,   1.11273906e-07],\n",
      "         [  5.06720862e-05,  -6.04476190e-06],\n",
      "         [  7.28451414e-06,  -4.23711863e-05]],\n",
      "\n",
      "        [[ -2.19625017e-05,  -5.11557118e-05],\n",
      "         [ -1.49281159e-05,   1.89089351e-05],\n",
      "         [  4.61719173e-05,  -9.51070524e-06],\n",
      "         ..., \n",
      "         [ -1.45963613e-05,   6.41453335e-06],\n",
      "         [ -1.93597207e-05,   2.30905516e-05],\n",
      "         [  5.15341635e-05,   1.02599799e-04]],\n",
      "\n",
      "        ..., \n",
      "        [[ -1.23582395e-05,  -1.93350170e-05],\n",
      "         [ -2.43947028e-07,   9.02620668e-05],\n",
      "         [  1.11064528e-05,  -6.45122927e-05],\n",
      "         ..., \n",
      "         [ -1.92503576e-05,   5.81392396e-06],\n",
      "         [ -3.99554883e-05,   6.93636639e-06],\n",
      "         [ -2.80007116e-05,   1.92059942e-05]],\n",
      "\n",
      "        [[ -2.51550337e-05,  -8.50935176e-05],\n",
      "         [ -1.39209978e-05,   5.75858139e-05],\n",
      "         [  2.76604824e-05,  -4.16780786e-05],\n",
      "         ..., \n",
      "         [ -2.54883289e-05,   5.04499585e-05],\n",
      "         [  1.85901245e-05,   6.39623322e-05],\n",
      "         [  4.98487025e-05,  -2.41981547e-06]],\n",
      "\n",
      "        [[  9.79202559e-06,   1.62997003e-05],\n",
      "         [ -3.95067727e-05,   4.31770131e-05],\n",
      "         [  2.75455259e-05,   2.24252362e-05],\n",
      "         ..., \n",
      "         [ -3.68472465e-05,  -2.07209887e-05],\n",
      "         [ -2.40830759e-05,   4.12589798e-05],\n",
      "         [  1.55310008e-05,  -2.51948768e-05]]],\n",
      "\n",
      "\n",
      "       [[[ -4.82224186e-06,  -1.45396015e-07],\n",
      "         [ -3.14776287e-07,   2.35155630e-06],\n",
      "         [  2.14227924e-07,   4.20199967e-06],\n",
      "         ..., \n",
      "         [ -1.01401101e-05,   4.26253291e-06],\n",
      "         [  3.20284266e-06,   4.74093758e-06],\n",
      "         [  7.70763017e-06,  -1.65101528e-06]],\n",
      "\n",
      "        [[ -9.62119375e-05,  -6.74218245e-06],\n",
      "         [ -3.19244282e-05,   4.33760579e-06],\n",
      "         [ -2.72595444e-05,   1.37062889e-05],\n",
      "         ..., \n",
      "         [  1.33284993e-05,  -2.10250273e-05],\n",
      "         [  1.57583854e-05,  -1.38447092e-06],\n",
      "         [  8.34547682e-05,   3.20829968e-05]],\n",
      "\n",
      "        [[ -3.38497775e-05,   6.98077201e-06],\n",
      "         [ -2.60764064e-05,   2.97087608e-05],\n",
      "         [  1.96951078e-05,  -7.71637860e-06],\n",
      "         ..., \n",
      "         [ -4.57863871e-06,   1.37713241e-05],\n",
      "         [  3.44680052e-06,   2.49414097e-05],\n",
      "         [  2.51943766e-05,  -2.94532038e-05]],\n",
      "\n",
      "        ..., \n",
      "        [[  4.67937534e-05,  -4.63596771e-05],\n",
      "         [ -1.06115467e-05,  -2.42812603e-05],\n",
      "         [ -5.47898117e-06,   5.82972825e-06],\n",
      "         ..., \n",
      "         [ -3.10787982e-05,   5.55148545e-05],\n",
      "         [  3.44298451e-06,  -2.89083400e-05],\n",
      "         [ -3.64222251e-05,   5.07104487e-05]],\n",
      "\n",
      "        [[ -5.35502204e-06,  -4.95062122e-05],\n",
      "         [ -4.75663292e-05,   1.28457368e-05],\n",
      "         [ -1.41644668e-05,   8.20434161e-06],\n",
      "         ..., \n",
      "         [ -1.26788345e-05,   1.80203479e-05],\n",
      "         [  2.64519513e-05,  -7.50518257e-06],\n",
      "         [  4.17071569e-05,   6.13251759e-05]],\n",
      "\n",
      "        [[  2.53301314e-05,  -1.81504729e-05],\n",
      "         [  1.09932380e-05,   5.17715534e-06],\n",
      "         [ -1.84737178e-06,   1.90383435e-05],\n",
      "         ..., \n",
      "         [  6.73614340e-06,   2.46304317e-05],\n",
      "         [ -1.22259571e-05,  -1.93235410e-05],\n",
      "         [ -3.21287807e-05,   1.76966000e-06]]]]), array([[ 0.,  0.,  1.,  0.,  0.,  0.,  0.,  0.],\n",
      "       [ 0.,  0.,  0.,  0.,  1.,  0.,  0.,  0.],\n",
      "       [ 0.,  0.,  0.,  0.,  0.,  0.,  1.,  0.],\n",
      "       [ 1.,  0.,  0.,  0.,  0.,  0.,  0.,  0.],\n",
      "       [ 0.,  0.,  1.,  0.,  0.,  0.,  0.,  0.],\n",
      "       [ 0.,  0.,  0.,  0.,  0.,  0.,  0.,  1.],\n",
      "       [ 0.,  0.,  0.,  0.,  1.,  0.,  0.,  0.],\n",
      "       [ 0.,  0.,  0.,  0.,  1.,  0.,  0.,  0.],\n",
      "       [ 0.,  1.,  0.,  0.,  0.,  0.,  0.,  0.],\n",
      "       [ 0.,  0.,  0.,  0.,  0.,  0.,  1.,  0.],\n",
      "       [ 0.,  1.,  0.,  0.,  0.,  0.,  0.,  0.],\n",
      "       [ 0.,  0.,  0.,  1.,  0.,  0.,  0.,  0.],\n",
      "       [ 0.,  0.,  0.,  0.,  0.,  0.,  0.,  1.],\n",
      "       [ 0.,  0.,  0.,  0.,  1.,  0.,  0.,  0.],\n",
      "       [ 0.,  0.,  0.,  0.,  1.,  0.,  0.,  0.],\n",
      "       [ 0.,  0.,  0.,  0.,  0.,  1.,  0.,  0.],\n",
      "       [ 0.,  0.,  0.,  0.,  0.,  0.,  0.,  1.],\n",
      "       [ 1.,  0.,  0.,  0.,  0.,  0.,  0.,  0.],\n",
      "       [ 0.,  0.,  0.,  0.,  0.,  1.,  0.,  0.],\n",
      "       [ 0.,  0.,  0.,  0.,  0.,  1.,  0.,  0.],\n",
      "       [ 0.,  0.,  1.,  0.,  0.,  0.,  0.,  0.],\n",
      "       [ 0.,  0.,  0.,  1.,  0.,  0.,  0.,  0.],\n",
      "       [ 0.,  0.,  0.,  0.,  0.,  1.,  0.,  0.],\n",
      "       [ 0.,  0.,  0.,  0.,  0.,  1.,  0.,  0.],\n",
      "       [ 0.,  1.,  0.,  0.,  0.,  0.,  0.,  0.],\n",
      "       [ 0.,  0.,  0.,  0.,  0.,  0.,  1.,  0.],\n",
      "       [ 1.,  0.,  0.,  0.,  0.,  0.,  0.,  0.],\n",
      "       [ 0.,  1.,  0.,  0.,  0.,  0.,  0.,  0.],\n",
      "       [ 0.,  0.,  1.,  0.,  0.,  0.,  0.,  0.],\n",
      "       [ 0.,  0.,  0.,  0.,  0.,  0.,  1.,  0.],\n",
      "       [ 0.,  0.,  0.,  0.,  0.,  0.,  0.,  1.],\n",
      "       [ 0.,  0.,  0.,  0.,  0.,  1.,  0.,  0.]]))\n"
     ]
    }
   ],
   "source": [
    "print next(train_set_gen)"
   ]
  },
  {
   "cell_type": "markdown",
   "metadata": {},
   "source": [
    "We also want to see how well we can classify on Fourier transforms of the signal. This will provide a clue as to how well it will work on Spectograms. "
   ]
  },
  {
   "cell_type": "markdown",
   "metadata": {},
   "source": [
    "## Let's try the Darknet Reference Model\n",
    "\n",
    "The Darknet Reference Model is commonly used in conjunction with the YOLO object detection methodology. It is significantly faster than GoogLeNet v1, which will be important for us. "
   ]
  },
  {
   "cell_type": "code",
   "execution_count": 3,
   "metadata": {},
   "outputs": [
    {
     "name": "stdout",
     "output_type": "stream",
     "text": [
      "_________________________________________________________________\n",
      "Layer (type)                 Output Shape              Param #   \n",
      "=================================================================\n",
      "conv1 (Conv2D)               (None, 128, 128, 16)      304       \n",
      "_________________________________________________________________\n",
      "leaky_re_lu_1 (LeakyReLU)    (None, 128, 128, 16)      0         \n",
      "_________________________________________________________________\n",
      "max_pooling2d_1 (MaxPooling2 (None, 64, 64, 16)        0         \n",
      "_________________________________________________________________\n",
      "conv2 (Conv2D)               (None, 64, 64, 32)        4640      \n",
      "_________________________________________________________________\n",
      "leaky_re_lu_2 (LeakyReLU)    (None, 64, 64, 32)        0         \n",
      "_________________________________________________________________\n",
      "max_pooling2d_2 (MaxPooling2 (None, 32, 32, 32)        0         \n",
      "_________________________________________________________________\n",
      "conv3 (Conv2D)               (None, 32, 32, 64)        18496     \n",
      "_________________________________________________________________\n",
      "leaky_re_lu_3 (LeakyReLU)    (None, 32, 32, 64)        0         \n",
      "_________________________________________________________________\n",
      "max_pooling2d_3 (MaxPooling2 (None, 16, 16, 64)        0         \n",
      "_________________________________________________________________\n",
      "conv4 (Conv2D)               (None, 16, 16, 128)       73856     \n",
      "_________________________________________________________________\n",
      "leaky_re_lu_4 (LeakyReLU)    (None, 16, 16, 128)       0         \n",
      "_________________________________________________________________\n",
      "max_pooling2d_4 (MaxPooling2 (None, 8, 8, 128)         0         \n",
      "_________________________________________________________________\n",
      "conv5 (Conv2D)               (None, 8, 8, 256)         295168    \n",
      "_________________________________________________________________\n",
      "leaky_re_lu_5 (LeakyReLU)    (None, 8, 8, 256)         0         \n",
      "_________________________________________________________________\n",
      "max_pooling2d_5 (MaxPooling2 (None, 4, 4, 256)         0         \n",
      "_________________________________________________________________\n",
      "conv6 (Conv2D)               (None, 4, 4, 512)         1180160   \n",
      "_________________________________________________________________\n",
      "leaky_re_lu_6 (LeakyReLU)    (None, 4, 4, 512)         0         \n",
      "_________________________________________________________________\n",
      "max_pooling2d_6 (MaxPooling2 (None, 2, 2, 512)         0         \n",
      "_________________________________________________________________\n",
      "conv7 (Conv2D)               (None, 2, 2, 1024)        4719616   \n",
      "_________________________________________________________________\n",
      "leaky_re_lu_7 (LeakyReLU)    (None, 2, 2, 1024)        0         \n",
      "_________________________________________________________________\n",
      "conv8 (Conv2D)               (None, 2, 2, 8)           73736     \n",
      "_________________________________________________________________\n",
      "global_average_pooling2d_1 ( (None, 8)                 0         \n",
      "_________________________________________________________________\n",
      "activation_1 (Activation)    (None, 8)                 0         \n",
      "_________________________________________________________________\n",
      "reshape_1 (Reshape)          (None, 8)                 0         \n",
      "=================================================================\n",
      "Total params: 6,365,976\n",
      "Trainable params: 6,365,976\n",
      "Non-trainable params: 0\n",
      "_________________________________________________________________\n",
      "None\n"
     ]
    }
   ],
   "source": [
    "dr = 0.5\n",
    "conv_size = (3,3)\n",
    "model = models.Sequential()\n",
    "model.add(Conv2D(16, conv_size, padding=\"same\", strides=(1, 1), input_shape=(128, 128,2), name='conv1'))\n",
    "#model.add(BatchNormalization(name='batchnorm1')) # We don't add any axis as last is correct \n",
    "model.add(LeakyReLU(alpha=0.1))\n",
    "model.add(MaxPooling2D(pool_size=(2, 2)))\n",
    "\n",
    "model.add(Conv2D(32, conv_size, padding=\"same\", name='conv2'))\n",
    "#model.add(BatchNormalization(name='batchnorm2'))\n",
    "model.add(LeakyReLU(alpha=0.1))\n",
    "model.add(MaxPooling2D(pool_size=(2, 2),padding='valid'))\n",
    "\n",
    "model.add(Conv2D(64, conv_size, padding=\"same\", name='conv3'))\n",
    "#model.add(BatchNormalization(name='batchnorm3'))\n",
    "model.add(LeakyReLU(alpha=0.1))\n",
    "model.add(MaxPooling2D(pool_size=(2, 2),padding='valid'))\n",
    "\n",
    "model.add(Conv2D(128, conv_size, padding=\"same\", name='conv4'))\n",
    "#model.add(BatchNormalization(name='batchnorm4'))\n",
    "model.add(LeakyReLU(alpha=0.1))\n",
    "model.add(MaxPooling2D(pool_size=(2, 2),padding='valid'))\n",
    "\n",
    "model.add(Conv2D(256, conv_size, padding=\"same\", name='conv5'))\n",
    "#model.add(BatchNormalization(name='batchnorm5'))\n",
    "model.add(LeakyReLU(alpha=0.1))\n",
    "model.add(MaxPooling2D(pool_size=(2, 2),padding='valid'))\n",
    "\n",
    "model.add(Conv2D(512, conv_size, padding=\"same\", name='conv6'))\n",
    "#model.add(BatchNormalization(name='batchnorm6'))\n",
    "model.add(LeakyReLU(alpha=0.1))\n",
    "model.add(MaxPooling2D(pool_size=(2, 2),padding='valid'))\n",
    "\n",
    "model.add(Conv2D(1024, conv_size, padding=\"same\", name='conv7'))\n",
    "#model.add(BatchNormalization(name='batchnorm7'))\n",
    "model.add(LeakyReLU(alpha=0.1))\n",
    "\n",
    "model.add(Conv2D(num_classes, conv_size, padding=\"same\", name='conv8'))\n",
    "model.add(GlobalAveragePooling2D())\n",
    "\n",
    "model.add(Activation('softmax'))\n",
    "model.add(Reshape([num_classes]))\n",
    "\n",
    "model.compile(loss='categorical_crossentropy', optimizer='adam', metrics=['accuracy'])\n",
    "print(model.summary())"
   ]
  },
  {
   "cell_type": "code",
   "execution_count": 9,
   "metadata": {},
   "outputs": [
    {
     "name": "stdout",
     "output_type": "stream",
     "text": [
      "[{'label': 'PSK16', 'snr': 0, 'filename': 'object_generated111.dat'}, {'label': 'PSK4', 'snr': 0, 'filename': 'object_generated317.dat'}, {'label': 'QAM64', 'snr': 0, 'filename': 'object_generated122.dat'}, {'label': 'QAM4', 'snr': 0, 'filename': 'object_generated840.dat'}, {'label': 'QAM256', 'snr': 0, 'filename': 'object_generated427.dat'}, {'label': 'PSK8', 'snr': 0, 'filename': 'object_generated1542.dat'}, {'label': 'PSK2', 'snr': 0, 'filename': 'object_generated636.dat'}, {'label': 'QAM16', 'snr': 0, 'filename': 'object_generated865.dat'}, {'label': 'PSK4', 'snr': 0, 'filename': 'object_generated733.dat'}, {'label': 'PSK16', 'snr': 0, 'filename': 'object_generated359.dat'}, {'label': 'QAM4', 'snr': 0, 'filename': 'object_generated1168.dat'}, {'label': 'PSK16', 'snr': 0, 'filename': 'object_generated655.dat'}, {'label': 'QAM64', 'snr': 0, 'filename': 'object_generated546.dat'}, {'label': 'QAM16', 'snr': 0, 'filename': 'object_generated1185.dat'}, {'label': 'PSK4', 'snr': 0, 'filename': 'object_generated1469.dat'}, {'label': 'QAM16', 'snr': 0, 'filename': 'object_generated1089.dat'}, {'label': 'PSK4', 'snr': 0, 'filename': 'object_generated1653.dat'}, {'label': 'PSK8', 'snr': 0, 'filename': 'object_generated1630.dat'}, {'label': 'PSK2', 'snr': 0, 'filename': 'object_generated388.dat'}, {'label': 'PSK4', 'snr': 0, 'filename': 'object_generated813.dat'}, {'label': 'QAM64', 'snr': 0, 'filename': 'object_generated1066.dat'}, {'label': 'QAM4', 'snr': 0, 'filename': 'object_generated1688.dat'}, {'label': 'PSK8', 'snr': 0, 'filename': 'object_generated1390.dat'}, {'label': 'QAM16', 'snr': 0, 'filename': 'object_generated1257.dat'}, {'label': 'PSK4', 'snr': 0, 'filename': 'object_generated261.dat'}, {'label': 'PSK8', 'snr': 0, 'filename': 'object_generated494.dat'}, {'label': 'QAM256', 'snr': 0, 'filename': 'object_generated1763.dat'}, {'label': 'QAM64', 'snr': 0, 'filename': 'object_generated82.dat'}, {'label': 'QAM16', 'snr': 0, 'filename': 'object_generated753.dat'}, {'label': 'PSK2', 'snr': 0, 'filename': 'object_generated28.dat'}, {'label': 'QAM16', 'snr': 0, 'filename': 'object_generated841.dat'}, {'label': 'QAM16', 'snr': 0, 'filename': 'object_generated1585.dat'}, {'label': 'QAM64', 'snr': 0, 'filename': 'object_generated1274.dat'}, {'label': 'QAM4', 'snr': 0, 'filename': 'object_generated848.dat'}, {'label': 'PSK8', 'snr': 0, 'filename': 'object_generated1142.dat'}, {'label': 'PSK2', 'snr': 0, 'filename': 'object_generated476.dat'}, {'label': 'PSK16', 'snr': 0, 'filename': 'object_generated471.dat'}, {'label': 'QAM16', 'snr': 0, 'filename': 'object_generated209.dat'}, {'label': 'PSK4', 'snr': 0, 'filename': 'object_generated1269.dat'}, {'label': 'QAM4', 'snr': 0, 'filename': 'object_generated1776.dat'}, {'label': 'QAM256', 'snr': 0, 'filename': 'object_generated931.dat'}, {'label': 'PSK8', 'snr': 0, 'filename': 'object_generated478.dat'}, {'label': 'PSK8', 'snr': 0, 'filename': 'object_generated38.dat'}, {'label': 'QAM16', 'snr': 0, 'filename': 'object_generated681.dat'}, {'label': 'PSK4', 'snr': 0, 'filename': 'object_generated1221.dat'}, {'label': 'QAM256', 'snr': 0, 'filename': 'object_generated1779.dat'}, {'label': 'QAM64', 'snr': 0, 'filename': 'object_generated634.dat'}, {'label': 'QAM16', 'snr': 0, 'filename': 'object_generated785.dat'}, {'label': 'QAM16', 'snr': 0, 'filename': 'object_generated1641.dat'}, {'label': 'QAM16', 'snr': 0, 'filename': 'object_generated1545.dat'}, {'label': 'PSK4', 'snr': 0, 'filename': 'object_generated1437.dat'}, {'label': 'PSK16', 'snr': 0, 'filename': 'object_generated679.dat'}, {'label': 'PSK16', 'snr': 0, 'filename': 'object_generated1247.dat'}, {'label': 'PSK4', 'snr': 0, 'filename': 'object_generated1405.dat'}, {'label': 'QAM256', 'snr': 0, 'filename': 'object_generated843.dat'}, {'label': 'QAM64', 'snr': 0, 'filename': 'object_generated274.dat'}, {'label': 'QAM4', 'snr': 0, 'filename': 'object_generated744.dat'}, {'label': 'PSK4', 'snr': 0, 'filename': 'object_generated901.dat'}, {'label': 'QAM64', 'snr': 0, 'filename': 'object_generated58.dat'}, {'label': 'QAM256', 'snr': 0, 'filename': 'object_generated1027.dat'}, {'label': 'QAM4', 'snr': 0, 'filename': 'object_generated1352.dat'}, {'label': 'QAM256', 'snr': 0, 'filename': 'object_generated179.dat'}, {'label': 'PSK8', 'snr': 0, 'filename': 'object_generated1438.dat'}, {'label': 'QAM256', 'snr': 0, 'filename': 'object_generated195.dat'}, {'label': 'QAM64', 'snr': 0, 'filename': 'object_generated1034.dat'}, {'label': 'QAM4', 'snr': 0, 'filename': 'object_generated696.dat'}, {'label': 'PSK4', 'snr': 0, 'filename': 'object_generated101.dat'}, {'label': 'QAM64', 'snr': 0, 'filename': 'object_generated10.dat'}, {'label': 'QAM256', 'snr': 0, 'filename': 'object_generated707.dat'}, {'label': 'QAM16', 'snr': 0, 'filename': 'object_generated1321.dat'}, {'label': 'PSK16', 'snr': 0, 'filename': 'object_generated639.dat'}, {'label': 'QAM64', 'snr': 0, 'filename': 'object_generated1618.dat'}, {'label': 'QAM16', 'snr': 0, 'filename': 'object_generated1737.dat'}, {'label': 'QAM256', 'snr': 0, 'filename': 'object_generated1059.dat'}, {'label': 'PSK4', 'snr': 0, 'filename': 'object_generated1749.dat'}, {'label': 'PSK4', 'snr': 0, 'filename': 'object_generated829.dat'}, {'label': 'QAM4', 'snr': 0, 'filename': 'object_generated616.dat'}, {'label': 'PSK4', 'snr': 0, 'filename': 'object_generated549.dat'}, {'label': 'PSK8', 'snr': 0, 'filename': 'object_generated1454.dat'}, {'label': 'PSK4', 'snr': 0, 'filename': 'object_generated1229.dat'}, {'label': 'PSK16', 'snr': 0, 'filename': 'object_generated535.dat'}, {'label': 'QAM16', 'snr': 0, 'filename': 'object_generated169.dat'}, {'label': 'QAM16', 'snr': 0, 'filename': 'object_generated1129.dat'}, {'label': 'QAM4', 'snr': 0, 'filename': 'object_generated832.dat'}, {'label': 'QAM4', 'snr': 0, 'filename': 'object_generated1112.dat'}, {'label': 'PSK16', 'snr': 0, 'filename': 'object_generated1759.dat'}, {'label': 'QAM4', 'snr': 0, 'filename': 'object_generated1360.dat'}, {'label': 'QAM256', 'snr': 0, 'filename': 'object_generated1411.dat'}, {'label': 'PSK2', 'snr': 0, 'filename': 'object_generated1540.dat'}, {'label': 'PSK8', 'snr': 0, 'filename': 'object_generated406.dat'}, {'label': 'PSK16', 'snr': 0, 'filename': 'object_generated1375.dat'}, {'label': 'PSK16', 'snr': 0, 'filename': 'object_generated1167.dat'}, {'label': 'PSK8', 'snr': 0, 'filename': 'object_generated1742.dat'}, {'label': 'PSK16', 'snr': 0, 'filename': 'object_generated55.dat'}, {'label': 'PSK8', 'snr': 0, 'filename': 'object_generated1102.dat'}, {'label': 'PSK16', 'snr': 0, 'filename': 'object_generated87.dat'}, {'label': 'PSK4', 'snr': 0, 'filename': 'object_generated1485.dat'}, {'label': 'QAM64', 'snr': 0, 'filename': 'object_generated178.dat'}, {'label': 'PSK8', 'snr': 0, 'filename': 'object_generated1150.dat'}, {'label': 'PSK16', 'snr': 0, 'filename': 'object_generated1559.dat'}, {'label': 'PSK4', 'snr': 0, 'filename': 'object_generated1549.dat'}, {'label': 'PSK16', 'snr': 0, 'filename': 'object_generated23.dat'}, {'label': 'PSK4', 'snr': 0, 'filename': 'object_generated1461.dat'}, {'label': 'QAM4', 'snr': 0, 'filename': 'object_generated1280.dat'}, {'label': 'PSK2', 'snr': 0, 'filename': 'object_generated1316.dat'}, {'label': 'QAM4', 'snr': 0, 'filename': 'object_generated1544.dat'}, {'label': 'PSK4', 'snr': 0, 'filename': 'object_generated997.dat'}, {'label': 'QAM16', 'snr': 0, 'filename': 'object_generated1233.dat'}, {'label': 'QAM256', 'snr': 0, 'filename': 'object_generated1491.dat'}, {'label': 'PSK2', 'snr': 0, 'filename': 'object_generated1740.dat'}, {'label': 'PSK2', 'snr': 0, 'filename': 'object_generated548.dat'}, {'label': 'QAM256', 'snr': 0, 'filename': 'object_generated1019.dat'}, {'label': 'PSK2', 'snr': 0, 'filename': 'object_generated1644.dat'}, {'label': 'PSK2', 'snr': 0, 'filename': 'object_generated1068.dat'}, {'label': 'QAM64', 'snr': 0, 'filename': 'object_generated1778.dat'}, {'label': 'QAM4', 'snr': 0, 'filename': 'object_generated888.dat'}, {'label': 'QAM256', 'snr': 0, 'filename': 'object_generated1739.dat'}, {'label': 'PSK16', 'snr': 0, 'filename': 'object_generated127.dat'}, {'label': 'QAM16', 'snr': 0, 'filename': 'object_generated897.dat'}, {'label': 'QAM16', 'snr': 0, 'filename': 'object_generated673.dat'}, {'label': 'QAM256', 'snr': 0, 'filename': 'object_generated859.dat'}, {'label': 'PSK8', 'snr': 0, 'filename': 'object_generated342.dat'}, {'label': 'PSK16', 'snr': 0, 'filename': 'object_generated1159.dat'}, {'label': 'QAM256', 'snr': 0, 'filename': 'object_generated1107.dat'}, {'label': 'QAM64', 'snr': 0, 'filename': 'object_generated18.dat'}, {'label': 'QAM16', 'snr': 0, 'filename': 'object_generated1609.dat'}, {'label': 'QAM64', 'snr': 0, 'filename': 'object_generated1754.dat'}, {'label': 'QAM64', 'snr': 0, 'filename': 'object_generated1458.dat'}, {'label': 'QAM16', 'snr': 0, 'filename': 'object_generated409.dat'}, {'label': 'PSK4', 'snr': 0, 'filename': 'object_generated269.dat'}, {'label': 'PSK2', 'snr': 0, 'filename': 'object_generated1108.dat'}, {'label': 'QAM4', 'snr': 0, 'filename': 'object_generated304.dat'}, {'label': 'PSK2', 'snr': 0, 'filename': 'object_generated108.dat'}, {'label': 'QAM64', 'snr': 0, 'filename': 'object_generated138.dat'}, {'label': 'QAM16', 'snr': 0, 'filename': 'object_generated1625.dat'}, {'label': 'PSK4', 'snr': 0, 'filename': 'object_generated77.dat'}, {'label': 'QAM4', 'snr': 0, 'filename': 'object_generated40.dat'}, {'label': 'QAM256', 'snr': 0, 'filename': 'object_generated1659.dat'}, {'label': 'PSK4', 'snr': 0, 'filename': 'object_generated365.dat'}, {'label': 'QAM16', 'snr': 0, 'filename': 'object_generated1313.dat'}, {'label': 'PSK4', 'snr': 0, 'filename': 'object_generated605.dat'}, {'label': 'QAM256', 'snr': 0, 'filename': 'object_generated1283.dat'}, {'label': 'PSK4', 'snr': 0, 'filename': 'object_generated1165.dat'}, {'label': 'QAM64', 'snr': 0, 'filename': 'object_generated154.dat'}, {'label': 'PSK8', 'snr': 0, 'filename': 'object_generated630.dat'}, {'label': 'PSK2', 'snr': 0, 'filename': 'object_generated732.dat'}, {'label': 'PSK16', 'snr': 0, 'filename': 'object_generated1711.dat'}, {'label': 'QAM256', 'snr': 0, 'filename': 'object_generated1051.dat'}, {'label': 'QAM4', 'snr': 0, 'filename': 'object_generated1552.dat'}, {'label': 'QAM16', 'snr': 0, 'filename': 'object_generated49.dat'}, {'label': 'PSK16', 'snr': 0, 'filename': 'object_generated119.dat'}, {'label': 'PSK2', 'snr': 0, 'filename': 'object_generated1572.dat'}, {'label': 'PSK2', 'snr': 0, 'filename': 'object_generated1748.dat'}, {'label': 'QAM16', 'snr': 0, 'filename': 'object_generated1009.dat'}, {'label': 'QAM4', 'snr': 0, 'filename': 'object_generated1272.dat'}, {'label': 'PSK2', 'snr': 0, 'filename': 'object_generated1092.dat'}, {'label': 'PSK2', 'snr': 0, 'filename': 'object_generated4.dat'}, {'label': 'QAM4', 'snr': 0, 'filename': 'object_generated1128.dat'}, {'label': 'QAM4', 'snr': 0, 'filename': 'object_generated1160.dat'}, {'label': 'PSK4', 'snr': 0, 'filename': 'object_generated429.dat'}, {'label': 'PSK4', 'snr': 0, 'filename': 'object_generated1669.dat'}, {'label': 'PSK8', 'snr': 0, 'filename': 'object_generated430.dat'}, {'label': 'PSK8', 'snr': 0, 'filename': 'object_generated254.dat'}, {'label': 'PSK4', 'snr': 0, 'filename': 'object_generated1021.dat'}, {'label': 'QAM256', 'snr': 0, 'filename': 'object_generated1747.dat'}, {'label': 'PSK16', 'snr': 0, 'filename': 'object_generated831.dat'}, {'label': 'PSK8', 'snr': 0, 'filename': 'object_generated222.dat'}, {'label': 'PSK4', 'snr': 0, 'filename': 'object_generated741.dat'}, {'label': 'QAM256', 'snr': 0, 'filename': 'object_generated971.dat'}, {'label': 'PSK16', 'snr': 0, 'filename': 'object_generated695.dat'}, {'label': 'PSK4', 'snr': 0, 'filename': 'object_generated517.dat'}, {'label': 'QAM64', 'snr': 0, 'filename': 'object_generated626.dat'}, {'label': 'QAM64', 'snr': 0, 'filename': 'object_generated1698.dat'}, {'label': 'QAM64', 'snr': 0, 'filename': 'object_generated90.dat'}, {'label': 'PSK2', 'snr': 0, 'filename': 'object_generated1012.dat'}, {'label': 'QAM4', 'snr': 0, 'filename': 'object_generated1672.dat'}, {'label': 'QAM256', 'snr': 0, 'filename': 'object_generated1251.dat'}, {'label': 'PSK8', 'snr': 0, 'filename': 'object_generated806.dat'}, {'label': 'PSK16', 'snr': 0, 'filename': 'object_generated927.dat'}, {'label': 'PSK2', 'snr': 0, 'filename': 'object_generated1044.dat'}, {'label': 'QAM4', 'snr': 0, 'filename': 'object_generated32.dat'}, {'label': 'PSK16', 'snr': 0, 'filename': 'object_generated551.dat'}, {'label': 'PSK2', 'snr': 0, 'filename': 'object_generated180.dat'}, {'label': 'PSK8', 'snr': 0, 'filename': 'object_generated1710.dat'}, {'label': 'QAM64', 'snr': 0, 'filename': 'object_generated330.dat'}, {'label': 'PSK4', 'snr': 0, 'filename': 'object_generated229.dat'}, {'label': 'QAM64', 'snr': 0, 'filename': 'object_generated1026.dat'}, {'label': 'PSK4', 'snr': 0, 'filename': 'object_generated445.dat'}, {'label': 'PSK16', 'snr': 0, 'filename': 'object_generated1543.dat'}, {'label': 'PSK16', 'snr': 0, 'filename': 'object_generated911.dat'}, {'label': 'PSK8', 'snr': 0, 'filename': 'object_generated622.dat'}, {'label': 'PSK16', 'snr': 0, 'filename': 'object_generated1223.dat'}, {'label': 'QAM16', 'snr': 0, 'filename': 'object_generated1785.dat'}, {'label': 'PSK4', 'snr': 0, 'filename': 'object_generated13.dat'}, {'label': 'PSK16', 'snr': 0, 'filename': 'object_generated1255.dat'}, {'label': 'PSK2', 'snr': 0, 'filename': 'object_generated52.dat'}, {'label': 'PSK4', 'snr': 0, 'filename': 'object_generated781.dat'}, {'label': 'PSK8', 'snr': 0, 'filename': 'object_generated1366.dat'}, {'label': 'QAM256', 'snr': 0, 'filename': 'object_generated835.dat'}, {'label': 'PSK2', 'snr': 0, 'filename': 'object_generated740.dat'}, {'label': 'PSK16', 'snr': 0, 'filename': 'object_generated983.dat'}, {'label': 'PSK2', 'snr': 0, 'filename': 'object_generated980.dat'}, {'label': 'QAM64', 'snr': 0, 'filename': 'object_generated1202.dat'}, {'label': 'QAM16', 'snr': 0, 'filename': 'object_generated81.dat'}, {'label': 'QAM256', 'snr': 0, 'filename': 'object_generated83.dat'}, {'label': 'QAM16', 'snr': 0, 'filename': 'object_generated1145.dat'}, {'label': 'PSK2', 'snr': 0, 'filename': 'object_generated908.dat'}, {'label': 'QAM256', 'snr': 0, 'filename': 'object_generated259.dat'}, {'label': 'QAM256', 'snr': 0, 'filename': 'object_generated1323.dat'}, {'label': 'QAM64', 'snr': 0, 'filename': 'object_generated202.dat'}, {'label': 'QAM16', 'snr': 0, 'filename': 'object_generated1289.dat'}, {'label': 'QAM256', 'snr': 0, 'filename': 'object_generated1435.dat'}, {'label': 'QAM4', 'snr': 0, 'filename': 'object_generated1424.dat'}, {'label': 'QAM64', 'snr': 0, 'filename': 'object_generated714.dat'}, {'label': 'QAM64', 'snr': 0, 'filename': 'object_generated1210.dat'}, {'label': 'PSK8', 'snr': 0, 'filename': 'object_generated214.dat'}, {'label': 'QAM4', 'snr': 0, 'filename': 'object_generated240.dat'}, {'label': 'PSK2', 'snr': 0, 'filename': 'object_generated756.dat'}, {'label': 'QAM16', 'snr': 0, 'filename': 'object_generated545.dat'}, {'label': 'PSK8', 'snr': 0, 'filename': 'object_generated1006.dat'}, {'label': 'QAM16', 'snr': 0, 'filename': 'object_generated641.dat'}, {'label': 'PSK4', 'snr': 0, 'filename': 'object_generated1325.dat'}, {'label': 'PSK8', 'snr': 0, 'filename': 'object_generated1342.dat'}, {'label': 'PSK8', 'snr': 0, 'filename': 'object_generated710.dat'}, {'label': 'QAM16', 'snr': 0, 'filename': 'object_generated1649.dat'}, {'label': 'QAM64', 'snr': 0, 'filename': 'object_generated1722.dat'}, {'label': 'QAM256', 'snr': 0, 'filename': 'object_generated1555.dat'}, {'label': 'QAM256', 'snr': 0, 'filename': 'object_generated755.dat'}, {'label': 'QAM64', 'snr': 0, 'filename': 'object_generated1042.dat'}, {'label': 'PSK2', 'snr': 0, 'filename': 'object_generated1628.dat'}, {'label': 'PSK2', 'snr': 0, 'filename': 'object_generated604.dat'}, {'label': 'QAM4', 'snr': 0, 'filename': 'object_generated160.dat'}, {'label': 'PSK8', 'snr': 0, 'filename': 'object_generated1382.dat'}, {'label': 'QAM64', 'snr': 0, 'filename': 'object_generated810.dat'}, {'label': 'QAM16', 'snr': 0, 'filename': 'object_generated649.dat'}, {'label': 'PSK4', 'snr': 0, 'filename': 'object_generated325.dat'}, {'label': 'PSK4', 'snr': 0, 'filename': 'object_generated1765.dat'}, {'label': 'QAM256', 'snr': 0, 'filename': 'object_generated1067.dat'}, {'label': 'PSK8', 'snr': 0, 'filename': 'object_generated606.dat'}, {'label': 'QAM64', 'snr': 0, 'filename': 'object_generated786.dat'}, {'label': 'PSK2', 'snr': 0, 'filename': 'object_generated412.dat'}, {'label': 'QAM256', 'snr': 0, 'filename': 'object_generated43.dat'}, {'label': 'QAM64', 'snr': 0, 'filename': 'object_generated1170.dat'}, {'label': 'PSK4', 'snr': 0, 'filename': 'object_generated29.dat'}, {'label': 'PSK16', 'snr': 0, 'filename': 'object_generated1599.dat'}, {'label': 'QAM16', 'snr': 0, 'filename': 'object_generated473.dat'}, {'label': 'QAM4', 'snr': 0, 'filename': 'object_generated1768.dat'}, {'label': 'QAM256', 'snr': 0, 'filename': 'object_generated963.dat'}, {'label': 'QAM4', 'snr': 0, 'filename': 'object_generated0.dat'}, {'label': 'QAM256', 'snr': 0, 'filename': 'object_generated555.dat'}, {'label': 'PSK4', 'snr': 0, 'filename': 'object_generated1709.dat'}, {'label': 'PSK2', 'snr': 0, 'filename': 'object_generated844.dat'}, {'label': 'QAM4', 'snr': 0, 'filename': 'object_generated56.dat'}, {'label': 'PSK4', 'snr': 0, 'filename': 'object_generated1773.dat'}, {'label': 'PSK16', 'snr': 0, 'filename': 'object_generated319.dat'}, {'label': 'QAM64', 'snr': 0, 'filename': 'object_generated450.dat'}, {'label': 'QAM64', 'snr': 0, 'filename': 'object_generated1530.dat'}, {'label': 'QAM64', 'snr': 0, 'filename': 'object_generated1610.dat'}, {'label': 'QAM16', 'snr': 0, 'filename': 'object_generated177.dat'}, {'label': 'QAM256', 'snr': 0, 'filename': 'object_generated587.dat'}, {'label': 'QAM4', 'snr': 0, 'filename': 'object_generated784.dat'}, {'label': 'QAM256', 'snr': 0, 'filename': 'object_generated243.dat'}, {'label': 'QAM16', 'snr': 0, 'filename': 'object_generated1385.dat'}, {'label': 'QAM256', 'snr': 0, 'filename': 'object_generated1675.dat'}, {'label': 'PSK2', 'snr': 0, 'filename': 'object_generated252.dat'}, {'label': 'QAM64', 'snr': 0, 'filename': 'object_generated514.dat'}, {'label': 'QAM16', 'snr': 0, 'filename': 'object_generated817.dat'}, {'label': 'QAM256', 'snr': 0, 'filename': 'object_generated307.dat'}, {'label': 'PSK4', 'snr': 0, 'filename': 'object_generated805.dat'}, {'label': 'PSK8', 'snr': 0, 'filename': 'object_generated382.dat'}, {'label': 'PSK2', 'snr': 0, 'filename': 'object_generated1604.dat'}, {'label': 'QAM64', 'snr': 0, 'filename': 'object_generated194.dat'}, {'label': 'QAM64', 'snr': 0, 'filename': 'object_generated962.dat'}, {'label': 'PSK8', 'snr': 0, 'filename': 'object_generated1662.dat'}, {'label': 'QAM4', 'snr': 0, 'filename': 'object_generated752.dat'}, {'label': 'PSK8', 'snr': 0, 'filename': 'object_generated1046.dat'}, {'label': 'QAM4', 'snr': 0, 'filename': 'object_generated144.dat'}, {'label': 'PSK8', 'snr': 0, 'filename': 'object_generated1358.dat'}, {'label': 'PSK2', 'snr': 0, 'filename': 'object_generated124.dat'}, {'label': 'PSK8', 'snr': 0, 'filename': 'object_generated1110.dat'}, {'label': 'QAM16', 'snr': 0, 'filename': 'object_generated593.dat'}, {'label': 'PSK2', 'snr': 0, 'filename': 'object_generated1036.dat'}, {'label': 'PSK4', 'snr': 0, 'filename': 'object_generated1605.dat'}, {'label': 'PSK2', 'snr': 0, 'filename': 'object_generated924.dat'}, {'label': 'PSK4', 'snr': 0, 'filename': 'object_generated1349.dat'}, {'label': 'QAM256', 'snr': 0, 'filename': 'object_generated1667.dat'}, {'label': 'PSK8', 'snr': 0, 'filename': 'object_generated1038.dat'}, {'label': 'PSK16', 'snr': 0, 'filename': 'object_generated335.dat'}, {'label': 'PSK4', 'snr': 0, 'filename': 'object_generated1733.dat'}, {'label': 'QAM64', 'snr': 0, 'filename': 'object_generated890.dat'}, {'label': 'PSK4', 'snr': 0, 'filename': 'object_generated965.dat'}, {'label': 'PSK2', 'snr': 0, 'filename': 'object_generated1284.dat'}, {'label': 'PSK2', 'snr': 0, 'filename': 'object_generated220.dat'}, {'label': 'QAM4', 'snr': 0, 'filename': 'object_generated1488.dat'}, {'label': 'PSK16', 'snr': 0, 'filename': 'object_generated575.dat'}, {'label': 'QAM64', 'snr': 0, 'filename': 'object_generated410.dat'}, {'label': 'PSK8', 'snr': 0, 'filename': 'object_generated982.dat'}, {'label': 'PSK8', 'snr': 0, 'filename': 'object_generated6.dat'}, {'label': 'PSK8', 'snr': 0, 'filename': 'object_generated1070.dat'}, {'label': 'PSK16', 'snr': 0, 'filename': 'object_generated1359.dat'}, {'label': 'PSK2', 'snr': 0, 'filename': 'object_generated1364.dat'}, {'label': 'PSK16', 'snr': 0, 'filename': 'object_generated791.dat'}, {'label': 'PSK4', 'snr': 0, 'filename': 'object_generated717.dat'}, {'label': 'QAM256', 'snr': 0, 'filename': 'object_generated827.dat'}, {'label': 'PSK2', 'snr': 0, 'filename': 'object_generated780.dat'}, {'label': 'QAM256', 'snr': 0, 'filename': 'object_generated923.dat'}, {'label': 'QAM256', 'snr': 0, 'filename': 'object_generated115.dat'}, {'label': 'PSK4', 'snr': 0, 'filename': 'object_generated909.dat'}, {'label': 'PSK2', 'snr': 0, 'filename': 'object_generated724.dat'}, {'label': 'QAM4', 'snr': 0, 'filename': 'object_generated1584.dat'}, {'label': 'QAM256', 'snr': 0, 'filename': 'object_generated611.dat'}, {'label': 'PSK2', 'snr': 0, 'filename': 'object_generated36.dat'}, {'label': 'PSK2', 'snr': 0, 'filename': 'object_generated628.dat'}, {'label': 'QAM64', 'snr': 0, 'filename': 'object_generated1650.dat'}, {'label': 'QAM4', 'snr': 0, 'filename': 'object_generated176.dat'}, {'label': 'QAM4', 'snr': 0, 'filename': 'object_generated328.dat'}, {'label': 'PSK4', 'snr': 0, 'filename': 'object_generated861.dat'}, {'label': 'QAM256', 'snr': 0, 'filename': 'object_generated1619.dat'}, {'label': 'QAM16', 'snr': 0, 'filename': 'object_generated433.dat'}, {'label': 'PSK4', 'snr': 0, 'filename': 'object_generated637.dat'}, {'label': 'QAM4', 'snr': 0, 'filename': 'object_generated1184.dat'}, {'label': 'PSK2', 'snr': 0, 'filename': 'object_generated868.dat'}, {'label': 'QAM64', 'snr': 0, 'filename': 'object_generated1122.dat'}, {'label': 'QAM64', 'snr': 0, 'filename': 'object_generated394.dat'}, {'label': 'PSK16', 'snr': 0, 'filename': 'object_generated271.dat'}, {'label': 'PSK16', 'snr': 0, 'filename': 'object_generated1431.dat'}, {'label': 'PSK2', 'snr': 0, 'filename': 'object_generated44.dat'}, {'label': 'PSK4', 'snr': 0, 'filename': 'object_generated245.dat'}, {'label': 'PSK2', 'snr': 0, 'filename': 'object_generated364.dat'}, {'label': 'QAM256', 'snr': 0, 'filename': 'object_generated1427.dat'}, {'label': 'QAM256', 'snr': 0, 'filename': 'object_generated507.dat'}, {'label': 'QAM256', 'snr': 0, 'filename': 'object_generated435.dat'}, {'label': 'QAM64', 'snr': 0, 'filename': 'object_generated1370.dat'}, {'label': 'PSK8', 'snr': 0, 'filename': 'object_generated1054.dat'}, {'label': 'PSK4', 'snr': 0, 'filename': 'object_generated533.dat'}, {'label': 'QAM256', 'snr': 0, 'filename': 'object_generated299.dat'}, {'label': 'PSK4', 'snr': 0, 'filename': 'object_generated1661.dat'}, {'label': 'QAM256', 'snr': 0, 'filename': 'object_generated1187.dat'}, {'label': 'QAM256', 'snr': 0, 'filename': 'object_generated315.dat'}, {'label': 'QAM16', 'snr': 0, 'filename': 'object_generated1521.dat'}, {'label': 'QAM4', 'snr': 0, 'filename': 'object_generated408.dat'}, {'label': 'PSK2', 'snr': 0, 'filename': 'object_generated260.dat'}, {'label': 'QAM4', 'snr': 0, 'filename': 'object_generated1312.dat'}, {'label': 'QAM256', 'snr': 0, 'filename': 'object_generated1595.dat'}, {'label': 'QAM16', 'snr': 0, 'filename': 'object_generated849.dat'}, {'label': 'QAM16', 'snr': 0, 'filename': 'object_generated1225.dat'}, {'label': 'PSK2', 'snr': 0, 'filename': 'object_generated1236.dat'}, {'label': 'PSK8', 'snr': 0, 'filename': 'object_generated1478.dat'}, {'label': 'PSK8', 'snr': 0, 'filename': 'object_generated374.dat'}, {'label': 'PSK4', 'snr': 0, 'filename': 'object_generated845.dat'}, {'label': 'QAM16', 'snr': 0, 'filename': 'object_generated945.dat'}, {'label': 'PSK4', 'snr': 0, 'filename': 'object_generated1245.dat'}, {'label': 'PSK2', 'snr': 0, 'filename': 'object_generated828.dat'}, {'label': 'PSK4', 'snr': 0, 'filename': 'object_generated1125.dat'}, {'label': 'QAM16', 'snr': 0, 'filename': 'object_generated361.dat'}, {'label': 'QAM256', 'snr': 0, 'filename': 'object_generated1123.dat'}, {'label': 'PSK16', 'snr': 0, 'filename': 'object_generated1127.dat'}, {'label': 'PSK8', 'snr': 0, 'filename': 'object_generated598.dat'}, {'label': 'QAM16', 'snr': 0, 'filename': 'object_generated1361.dat'}, {'label': 'PSK8', 'snr': 0, 'filename': 'object_generated502.dat'}, {'label': 'PSK4', 'snr': 0, 'filename': 'object_generated1429.dat'}, {'label': 'QAM256', 'snr': 0, 'filename': 'object_generated1683.dat'}, {'label': 'QAM4', 'snr': 0, 'filename': 'object_generated1136.dat'}, {'label': 'QAM4', 'snr': 0, 'filename': 'object_generated1576.dat'}, {'label': 'PSK4', 'snr': 0, 'filename': 'object_generated1637.dat'}, {'label': 'QAM64', 'snr': 0, 'filename': 'object_generated1762.dat'}, {'label': 'PSK4', 'snr': 0, 'filename': 'object_generated1197.dat'}, {'label': 'QAM64', 'snr': 0, 'filename': 'object_generated1010.dat'}, {'label': 'QAM16', 'snr': 0, 'filename': 'object_generated289.dat'}, {'label': 'PSK16', 'snr': 0, 'filename': 'object_generated1191.dat'}, {'label': 'PSK8', 'snr': 0, 'filename': 'object_generated694.dat'}, {'label': 'QAM64', 'snr': 0, 'filename': 'object_generated914.dat'}, {'label': 'PSK2', 'snr': 0, 'filename': 'object_generated1596.dat'}, {'label': 'PSK4', 'snr': 0, 'filename': 'object_generated213.dat'}, {'label': 'QAM16', 'snr': 0, 'filename': 'object_generated769.dat'}, {'label': 'PSK8', 'snr': 0, 'filename': 'object_generated582.dat'}, {'label': 'QAM4', 'snr': 0, 'filename': 'object_generated272.dat'}, {'label': 'QAM256', 'snr': 0, 'filename': 'object_generated483.dat'}, {'label': 'PSK8', 'snr': 0, 'filename': 'object_generated1118.dat'}, {'label': 'QAM16', 'snr': 0, 'filename': 'object_generated329.dat'}, {'label': 'PSK4', 'snr': 0, 'filename': 'object_generated661.dat'}, {'label': 'QAM4', 'snr': 0, 'filename': 'object_generated1696.dat'}, {'label': 'PSK4', 'snr': 0, 'filename': 'object_generated141.dat'}, {'label': 'QAM64', 'snr': 0, 'filename': 'object_generated930.dat'}, {'label': 'QAM64', 'snr': 0, 'filename': 'object_generated1682.dat'}, {'label': 'QAM16', 'snr': 0, 'filename': 'object_generated713.dat'}, {'label': 'PSK2', 'snr': 0, 'filename': 'object_generated988.dat'}, {'label': 'PSK4', 'snr': 0, 'filename': 'object_generated421.dat'}, {'label': 'QAM16', 'snr': 0, 'filename': 'object_generated273.dat'}, {'label': 'PSK2', 'snr': 0, 'filename': 'object_generated532.dat'}, {'label': 'PSK2', 'snr': 0, 'filename': 'object_generated1660.dat'}, {'label': 'QAM256', 'snr': 0, 'filename': 'object_generated1035.dat'}, {'label': 'PSK8', 'snr': 0, 'filename': 'object_generated102.dat'}, {'label': 'QAM16', 'snr': 0, 'filename': 'object_generated249.dat'}, {'label': 'QAM16', 'snr': 0, 'filename': 'object_generated1617.dat'}, {'label': 'PSK4', 'snr': 0, 'filename': 'object_generated949.dat'}, {'label': 'QAM64', 'snr': 0, 'filename': 'object_generated858.dat'}, {'label': 'PSK16', 'snr': 0, 'filename': 'object_generated1407.dat'}, {'label': 'QAM64', 'snr': 0, 'filename': 'object_generated938.dat'}, {'label': 'QAM64', 'snr': 0, 'filename': 'object_generated1234.dat'}, {'label': 'PSK4', 'snr': 0, 'filename': 'object_generated1253.dat'}, {'label': 'QAM16', 'snr': 0, 'filename': 'object_generated1305.dat'}, {'label': 'PSK16', 'snr': 0, 'filename': 'object_generated991.dat'}, {'label': 'QAM256', 'snr': 0, 'filename': 'object_generated747.dat'}, {'label': 'QAM4', 'snr': 0, 'filename': 'object_generated72.dat'}, {'label': 'PSK8', 'snr': 0, 'filename': 'object_generated846.dat'}, {'label': 'PSK8', 'snr': 0, 'filename': 'object_generated1246.dat'}, {'label': 'QAM16', 'snr': 0, 'filename': 'object_generated425.dat'}, {'label': 'QAM64', 'snr': 0, 'filename': 'object_generated1706.dat'}, {'label': 'PSK16', 'snr': 0, 'filename': 'object_generated191.dat'}, {'label': 'QAM64', 'snr': 0, 'filename': 'object_generated1730.dat'}, {'label': 'PSK8', 'snr': 0, 'filename': 'object_generated1014.dat'}, {'label': 'QAM4', 'snr': 0, 'filename': 'object_generated792.dat'}, {'label': 'QAM4', 'snr': 0, 'filename': 'object_generated1096.dat'}, {'label': 'PSK2', 'snr': 0, 'filename': 'object_generated996.dat'}, {'label': 'PSK2', 'snr': 0, 'filename': 'object_generated492.dat'}, {'label': 'PSK2', 'snr': 0, 'filename': 'object_generated92.dat'}, {'label': 'QAM256', 'snr': 0, 'filename': 'object_generated147.dat'}, {'label': 'QAM256', 'snr': 0, 'filename': 'object_generated1787.dat'}, {'label': 'PSK16', 'snr': 0, 'filename': 'object_generated503.dat'}, {'label': 'PSK8', 'snr': 0, 'filename': 'object_generated134.dat'}, {'label': 'QAM4', 'snr': 0, 'filename': 'object_generated936.dat'}, {'label': 'PSK2', 'snr': 0, 'filename': 'object_generated764.dat'}, {'label': 'QAM4', 'snr': 0, 'filename': 'object_generated1320.dat'}, {'label': 'QAM256', 'snr': 0, 'filename': 'object_generated715.dat'}, {'label': 'QAM64', 'snr': 0, 'filename': 'object_generated50.dat'}, {'label': 'QAM64', 'snr': 0, 'filename': 'object_generated610.dat'}, {'label': 'PSK16', 'snr': 0, 'filename': 'object_generated1775.dat'}, {'label': 'PSK8', 'snr': 0, 'filename': 'object_generated750.dat'}, {'label': 'QAM4', 'snr': 0, 'filename': 'object_generated280.dat'}, {'label': 'QAM4', 'snr': 0, 'filename': 'object_generated256.dat'}, {'label': 'PSK2', 'snr': 0, 'filename': 'object_generated1468.dat'}, {'label': 'QAM16', 'snr': 0, 'filename': 'object_generated1577.dat'}, {'label': 'QAM4', 'snr': 0, 'filename': 'object_generated232.dat'}, {'label': 'QAM256', 'snr': 0, 'filename': 'object_generated691.dat'}, {'label': 'QAM256', 'snr': 0, 'filename': 'object_generated11.dat'}, {'label': 'QAM256', 'snr': 0, 'filename': 'object_generated891.dat'}, {'label': 'PSK8', 'snr': 0, 'filename': 'object_generated1094.dat'}, {'label': 'PSK8', 'snr': 0, 'filename': 'object_generated390.dat'}, {'label': 'QAM64', 'snr': 0, 'filename': 'object_generated1354.dat'}, {'label': 'QAM256', 'snr': 0, 'filename': 'object_generated395.dat'}, {'label': 'PSK16', 'snr': 0, 'filename': 'object_generated343.dat'}, {'label': 'PSK8', 'snr': 0, 'filename': 'object_generated206.dat'}, {'label': 'PSK4', 'snr': 0, 'filename': 'object_generated1341.dat'}, {'label': 'PSK16', 'snr': 0, 'filename': 'object_generated183.dat'}, {'label': 'PSK8', 'snr': 0, 'filename': 'object_generated270.dat'}, {'label': 'QAM16', 'snr': 0, 'filename': 'object_generated153.dat'}, {'label': 'PSK2', 'snr': 0, 'filename': 'object_generated1220.dat'}, {'label': 'PSK8', 'snr': 0, 'filename': 'object_generated1062.dat'}, {'label': 'QAM64', 'snr': 0, 'filename': 'object_generated234.dat'}, {'label': 'PSK2', 'snr': 0, 'filename': 'object_generated1188.dat'}, {'label': 'PSK2', 'snr': 0, 'filename': 'object_generated1196.dat'}, {'label': 'QAM256', 'snr': 0, 'filename': 'object_generated651.dat'}, {'label': 'QAM64', 'snr': 0, 'filename': 'object_generated650.dat'}, {'label': 'QAM16', 'snr': 0, 'filename': 'object_generated57.dat'}, {'label': 'PSK2', 'snr': 0, 'filename': 'object_generated12.dat'}, {'label': 'PSK4', 'snr': 0, 'filename': 'object_generated85.dat'}, {'label': 'PSK4', 'snr': 0, 'filename': 'object_generated21.dat'}, {'label': 'QAM16', 'snr': 0, 'filename': 'object_generated801.dat'}, {'label': 'PSK8', 'snr': 0, 'filename': 'object_generated1558.dat'}, {'label': 'PSK2', 'snr': 0, 'filename': 'object_generated1532.dat'}, {'label': 'QAM4', 'snr': 0, 'filename': 'object_generated1456.dat'}, {'label': 'QAM4', 'snr': 0, 'filename': 'object_generated1088.dat'}, {'label': 'QAM256', 'snr': 0, 'filename': 'object_generated1587.dat'}, {'label': 'QAM64', 'snr': 0, 'filename': 'object_generated1466.dat'}, {'label': 'PSK2', 'snr': 0, 'filename': 'object_generated444.dat'}, {'label': 'QAM256', 'snr': 0, 'filename': 'object_generated59.dat'}, {'label': 'PSK4', 'snr': 0, 'filename': 'object_generated1213.dat'}, {'label': 'QAM4', 'snr': 0, 'filename': 'object_generated192.dat'}, {'label': 'PSK4', 'snr': 0, 'filename': 'object_generated1493.dat'}, {'label': 'PSK4', 'snr': 0, 'filename': 'object_generated205.dat'}, {'label': 'QAM64', 'snr': 0, 'filename': 'object_generated1426.dat'}, {'label': 'QAM4', 'snr': 0, 'filename': 'object_generated344.dat'}, {'label': 'PSK2', 'snr': 0, 'filename': 'object_generated156.dat'}, {'label': 'QAM256', 'snr': 0, 'filename': 'object_generated1531.dat'}, {'label': 'PSK2', 'snr': 0, 'filename': 'object_generated1244.dat'}, {'label': 'PSK4', 'snr': 0, 'filename': 'object_generated149.dat'}, {'label': 'PSK16', 'snr': 0, 'filename': 'object_generated943.dat'}, {'label': 'QAM16', 'snr': 0, 'filename': 'object_generated745.dat'}, {'label': 'PSK8', 'snr': 0, 'filename': 'object_generated1406.dat'}, {'label': 'PSK8', 'snr': 0, 'filename': 'object_generated126.dat'}, {'label': 'QAM4', 'snr': 0, 'filename': 'object_generated352.dat'}, {'label': 'QAM64', 'snr': 0, 'filename': 'object_generated978.dat'}, {'label': 'PSK2', 'snr': 0, 'filename': 'object_generated612.dat'}, {'label': 'PSK4', 'snr': 0, 'filename': 'object_generated1381.dat'}, {'label': 'PSK8', 'snr': 0, 'filename': 'object_generated590.dat'}, {'label': 'QAM16', 'snr': 0, 'filename': 'object_generated337.dat'}, {'label': 'PSK2', 'snr': 0, 'filename': 'object_generated1020.dat'}, {'label': 'PSK8', 'snr': 0, 'filename': 'object_generated358.dat'}, {'label': 'PSK16', 'snr': 0, 'filename': 'object_generated895.dat'}, {'label': 'PSK16', 'snr': 0, 'filename': 'object_generated879.dat'}, {'label': 'QAM16', 'snr': 0, 'filename': 'object_generated937.dat'}, {'label': 'QAM4', 'snr': 0, 'filename': 'object_generated1384.dat'}, {'label': 'PSK2', 'snr': 0, 'filename': 'object_generated1060.dat'}, {'label': 'PSK8', 'snr': 0, 'filename': 'object_generated646.dat'}, {'label': 'QAM4', 'snr': 0, 'filename': 'object_generated120.dat'}, {'label': 'PSK8', 'snr': 0, 'filename': 'object_generated1550.dat'}, {'label': 'QAM4', 'snr': 0, 'filename': 'object_generated1024.dat'}, {'label': 'PSK4', 'snr': 0, 'filename': 'object_generated725.dat'}, {'label': 'PSK16', 'snr': 0, 'filename': 'object_generated1391.dat'}, {'label': 'QAM64', 'snr': 0, 'filename': 'object_generated1474.dat'}, {'label': 'PSK16', 'snr': 0, 'filename': 'object_generated799.dat'}, {'label': 'QAM16', 'snr': 0, 'filename': 'object_generated1777.dat'}, {'label': 'QAM256', 'snr': 0, 'filename': 'object_generated107.dat'}, {'label': 'QAM4', 'snr': 0, 'filename': 'object_generated1104.dat'}, {'label': 'QAM16', 'snr': 0, 'filename': 'object_generated417.dat'}, {'label': 'QAM16', 'snr': 0, 'filename': 'object_generated489.dat'}, {'label': 'PSK2', 'snr': 0, 'filename': 'object_generated1156.dat'}, {'label': 'QAM16', 'snr': 0, 'filename': 'object_generated721.dat'}, {'label': 'PSK2', 'snr': 0, 'filename': 'object_generated1500.dat'}, {'label': 'QAM256', 'snr': 0, 'filename': 'object_generated987.dat'}, {'label': 'PSK2', 'snr': 0, 'filename': 'object_generated1460.dat'}, {'label': 'PSK4', 'snr': 0, 'filename': 'object_generated1701.dat'}, {'label': 'QAM256', 'snr': 0, 'filename': 'object_generated1307.dat'}, {'label': 'PSK4', 'snr': 0, 'filename': 'object_generated981.dat'}, {'label': 'QAM256', 'snr': 0, 'filename': 'object_generated1731.dat'}, {'label': 'PSK4', 'snr': 0, 'filename': 'object_generated37.dat'}, {'label': 'QAM64', 'snr': 0, 'filename': 'object_generated1554.dat'}, {'label': 'PSK4', 'snr': 0, 'filename': 'object_generated277.dat'}, {'label': 'PSK16', 'snr': 0, 'filename': 'object_generated1495.dat'}, {'label': 'QAM64', 'snr': 0, 'filename': 'object_generated1290.dat'}, {'label': 'QAM16', 'snr': 0, 'filename': 'object_generated833.dat'}, {'label': 'PSK8', 'snr': 0, 'filename': 'object_generated1086.dat'}, {'label': 'PSK16', 'snr': 0, 'filename': 'object_generated1583.dat'}, {'label': 'QAM16', 'snr': 0, 'filename': 'object_generated633.dat'}, {'label': 'QAM4', 'snr': 0, 'filename': 'object_generated48.dat'}, {'label': 'PSK8', 'snr': 0, 'filename': 'object_generated510.dat'}, {'label': 'QAM256', 'snr': 0, 'filename': 'object_generated163.dat'}, {'label': 'QAM256', 'snr': 0, 'filename': 'object_generated251.dat'}, {'label': 'QAM16', 'snr': 0, 'filename': 'object_generated1001.dat'}, {'label': 'PSK16', 'snr': 0, 'filename': 'object_generated1215.dat'}, {'label': 'QAM16', 'snr': 0, 'filename': 'object_generated145.dat'}, {'label': 'PSK4', 'snr': 0, 'filename': 'object_generated501.dat'}, {'label': 'QAM256', 'snr': 0, 'filename': 'object_generated667.dat'}, {'label': 'PSK16', 'snr': 0, 'filename': 'object_generated1623.dat'}, {'label': 'PSK2', 'snr': 0, 'filename': 'object_generated516.dat'}, {'label': 'QAM4', 'snr': 0, 'filename': 'object_generated1528.dat'}, {'label': 'QAM4', 'snr': 0, 'filename': 'object_generated1664.dat'}, {'label': 'PSK4', 'snr': 0, 'filename': 'object_generated1133.dat'}, {'label': 'QAM4', 'snr': 0, 'filename': 'object_generated896.dat'}, {'label': 'PSK4', 'snr': 0, 'filename': 'object_generated1797.dat'}, {'label': 'QAM16', 'snr': 0, 'filename': 'object_generated1681.dat'}, {'label': 'PSK8', 'snr': 0, 'filename': 'object_generated1782.dat'}, {'label': 'PSK8', 'snr': 0, 'filename': 'object_generated1622.dat'}, {'label': 'QAM16', 'snr': 0, 'filename': 'object_generated737.dat'}, {'label': 'QAM4', 'snr': 0, 'filename': 'object_generated984.dat'}, {'label': 'PSK4', 'snr': 0, 'filename': 'object_generated1077.dat'}, {'label': 'QAM4', 'snr': 0, 'filename': 'object_generated1536.dat'}, {'label': 'PSK4', 'snr': 0, 'filename': 'object_generated757.dat'}, {'label': 'PSK2', 'snr': 0, 'filename': 'object_generated1164.dat'}, {'label': 'PSK4', 'snr': 0, 'filename': 'object_generated1613.dat'}, {'label': 'PSK8', 'snr': 0, 'filename': 'object_generated734.dat'}, {'label': 'PSK16', 'snr': 0, 'filename': 'object_generated855.dat'}, {'label': 'PSK8', 'snr': 0, 'filename': 'object_generated902.dat'}, {'label': 'QAM4', 'snr': 0, 'filename': 'object_generated872.dat'}, {'label': 'PSK2', 'snr': 0, 'filename': 'object_generated324.dat'}, {'label': 'PSK8', 'snr': 0, 'filename': 'object_generated1414.dat'}, {'label': 'PSK8', 'snr': 0, 'filename': 'object_generated518.dat'}, {'label': 'QAM256', 'snr': 0, 'filename': 'object_generated499.dat'}, {'label': 'PSK2', 'snr': 0, 'filename': 'object_generated436.dat'}, {'label': 'PSK16', 'snr': 0, 'filename': 'object_generated511.dat'}, {'label': 'QAM16', 'snr': 0, 'filename': 'object_generated1137.dat'}, {'label': 'QAM64', 'snr': 0, 'filename': 'object_generated306.dat'}, {'label': 'PSK8', 'snr': 0, 'filename': 'object_generated726.dat'}, {'label': 'QAM4', 'snr': 0, 'filename': 'object_generated336.dat'}, {'label': 'QAM16', 'snr': 0, 'filename': 'object_generated881.dat'}, {'label': 'QAM16', 'snr': 0, 'filename': 'object_generated233.dat'}, {'label': 'PSK2', 'snr': 0, 'filename': 'object_generated1252.dat'}, {'label': 'PSK4', 'snr': 0, 'filename': 'object_generated1037.dat'}, {'label': 'QAM4', 'snr': 0, 'filename': 'object_generated152.dat'}, {'label': 'QAM4', 'snr': 0, 'filename': 'object_generated576.dat'}, {'label': 'QAM16', 'snr': 0, 'filename': 'object_generated1705.dat'}, {'label': 'PSK4', 'snr': 0, 'filename': 'object_generated1373.dat'}, {'label': 'PSK8', 'snr': 0, 'filename': 'object_generated566.dat'}, {'label': 'PSK4', 'snr': 0, 'filename': 'object_generated1757.dat'}, {'label': 'QAM16', 'snr': 0, 'filename': 'object_generated1097.dat'}, {'label': 'PSK8', 'snr': 0, 'filename': 'object_generated1286.dat'}, {'label': 'PSK8', 'snr': 0, 'filename': 'object_generated1686.dat'}, {'label': 'PSK2', 'snr': 0, 'filename': 'object_generated1380.dat'}, {'label': 'PSK8', 'snr': 0, 'filename': 'object_generated302.dat'}, {'label': 'PSK2', 'snr': 0, 'filename': 'object_generated1588.dat'}, {'label': 'PSK8', 'snr': 0, 'filename': 'object_generated422.dat'}, {'label': 'QAM16', 'snr': 0, 'filename': 'object_generated305.dat'}, {'label': 'QAM64', 'snr': 0, 'filename': 'object_generated1306.dat'}, {'label': 'QAM256', 'snr': 0, 'filename': 'object_generated1475.dat'}, {'label': 'QAM256', 'snr': 0, 'filename': 'object_generated131.dat'}, {'label': 'QAM64', 'snr': 0, 'filename': 'object_generated1282.dat'}, {'label': 'QAM256', 'snr': 0, 'filename': 'object_generated995.dat'}, {'label': 'QAM4', 'snr': 0, 'filename': 'object_generated808.dat'}, {'label': 'PSK2', 'snr': 0, 'filename': 'object_generated484.dat'}, {'label': 'QAM64', 'snr': 0, 'filename': 'object_generated442.dat'}, {'label': 'PSK8', 'snr': 0, 'filename': 'object_generated86.dat'}, {'label': 'QAM16', 'snr': 0, 'filename': 'object_generated953.dat'}, {'label': 'QAM64', 'snr': 0, 'filename': 'object_generated1538.dat'}, {'label': 'QAM4', 'snr': 0, 'filename': 'object_generated992.dat'}, {'label': 'QAM4', 'snr': 0, 'filename': 'object_generated368.dat'}, {'label': 'QAM256', 'snr': 0, 'filename': 'object_generated187.dat'}, {'label': 'QAM64', 'snr': 0, 'filename': 'object_generated1090.dat'}, {'label': 'QAM64', 'snr': 0, 'filename': 'object_generated522.dat'}, {'label': 'PSK8', 'snr': 0, 'filename': 'object_generated366.dat'}, {'label': 'QAM256', 'snr': 0, 'filename': 'object_generated1483.dat'}, {'label': 'PSK16', 'snr': 0, 'filename': 'object_generated1615.dat'}, {'label': 'QAM4', 'snr': 0, 'filename': 'object_generated264.dat'}, {'label': 'PSK4', 'snr': 0, 'filename': 'object_generated509.dat'}, {'label': 'QAM16', 'snr': 0, 'filename': 'object_generated89.dat'}, {'label': 'PSK16', 'snr': 0, 'filename': 'object_generated1679.dat'}, {'label': 'QAM64', 'snr': 0, 'filename': 'object_generated418.dat'}, {'label': 'PSK16', 'snr': 0, 'filename': 'object_generated631.dat'}, {'label': 'PSK4', 'snr': 0, 'filename': 'object_generated1277.dat'}, {'label': 'QAM64', 'snr': 0, 'filename': 'object_generated1714.dat'}, {'label': 'PSK8', 'snr': 0, 'filename': 'object_generated182.dat'}, {'label': 'QAM256', 'snr': 0, 'filename': 'object_generated1331.dat'}, {'label': 'PSK2', 'snr': 0, 'filename': 'object_generated1388.dat'}, {'label': 'QAM4', 'snr': 0, 'filename': 'object_generated1464.dat'}, {'label': 'PSK4', 'snr': 0, 'filename': 'object_generated197.dat'}, {'label': 'PSK16', 'snr': 0, 'filename': 'object_generated663.dat'}, {'label': 'QAM4', 'snr': 0, 'filename': 'object_generated1480.dat'}, {'label': 'PSK8', 'snr': 0, 'filename': 'object_generated1702.dat'}, {'label': 'QAM64', 'snr': 0, 'filename': 'object_generated1786.dat'}, {'label': 'QAM256', 'snr': 0, 'filename': 'object_generated547.dat'}, {'label': 'QAM64', 'snr': 0, 'filename': 'object_generated1770.dat'}, {'label': 'PSK4', 'snr': 0, 'filename': 'object_generated869.dat'}, {'label': 'QAM64', 'snr': 0, 'filename': 'object_generated682.dat'}, {'label': 'QAM16', 'snr': 0, 'filename': 'object_generated809.dat'}, {'label': 'PSK16', 'snr': 0, 'filename': 'object_generated495.dat'}, {'label': 'PSK2', 'snr': 0, 'filename': 'object_generated1404.dat'}, {'label': 'PSK2', 'snr': 0, 'filename': 'object_generated660.dat'}, {'label': 'QAM16', 'snr': 0, 'filename': 'object_generated1017.dat'}, {'label': 'QAM16', 'snr': 0, 'filename': 'object_generated345.dat'}, {'label': 'PSK16', 'snr': 0, 'filename': 'object_generated559.dat'}, {'label': 'PSK2', 'snr': 0, 'filename': 'object_generated684.dat'}, {'label': 'PSK2', 'snr': 0, 'filename': 'object_generated1004.dat'}, {'label': 'QAM4', 'snr': 0, 'filename': 'object_generated672.dat'}, {'label': 'QAM16', 'snr': 0, 'filename': 'object_generated9.dat'}, {'label': 'QAM64', 'snr': 0, 'filename': 'object_generated1186.dat'}, {'label': 'PSK16', 'snr': 0, 'filename': 'object_generated391.dat'}, {'label': 'PSK4', 'snr': 0, 'filename': 'object_generated597.dat'}, {'label': 'QAM256', 'snr': 0, 'filename': 'object_generated203.dat'}, {'label': 'PSK4', 'snr': 0, 'filename': 'object_generated1205.dat'}, {'label': 'QAM64', 'snr': 0, 'filename': 'object_generated458.dat'}, {'label': 'QAM64', 'snr': 0, 'filename': 'object_generated1674.dat'}, {'label': 'PSK8', 'snr': 0, 'filename': 'object_generated638.dat'}, {'label': 'PSK2', 'snr': 0, 'filename': 'object_generated900.dat'}, {'label': 'PSK8', 'snr': 0, 'filename': 'object_generated534.dat'}, {'label': 'PSK4', 'snr': 0, 'filename': 'object_generated1789.dat'}, {'label': 'QAM64', 'snr': 0, 'filename': 'object_generated1002.dat'}, {'label': 'QAM64', 'snr': 0, 'filename': 'object_generated602.dat'}, {'label': 'PSK4', 'snr': 0, 'filename': 'object_generated1645.dat'}, {'label': 'PSK2', 'snr': 0, 'filename': 'object_generated1172.dat'}, {'label': 'PSK8', 'snr': 0, 'filename': 'object_generated1798.dat'}, {'label': 'QAM4', 'snr': 0, 'filename': 'object_generated864.dat'}, {'label': 'QAM64', 'snr': 0, 'filename': 'object_generated1178.dat'}, {'label': 'PSK2', 'snr': 0, 'filename': 'object_generated1396.dat'}, {'label': 'QAM4', 'snr': 0, 'filename': 'object_generated1496.dat'}, {'label': 'QAM16', 'snr': 0, 'filename': 'object_generated1217.dat'}, {'label': 'QAM4', 'snr': 0, 'filename': 'object_generated536.dat'}, {'label': 'QAM16', 'snr': 0, 'filename': 'object_generated985.dat'}, {'label': 'QAM4', 'snr': 0, 'filename': 'object_generated552.dat'}, {'label': 'PSK4', 'snr': 0, 'filename': 'object_generated1149.dat'}, {'label': 'PSK2', 'snr': 0, 'filename': 'object_generated588.dat'}, {'label': 'QAM64', 'snr': 0, 'filename': 'object_generated362.dat'}, {'label': 'PSK16', 'snr': 0, 'filename': 'object_generated1023.dat'}, {'label': 'QAM256', 'snr': 0, 'filename': 'object_generated411.dat'}, {'label': 'QAM16', 'snr': 0, 'filename': 'object_generated777.dat'}, {'label': 'PSK8', 'snr': 0, 'filename': 'object_generated782.dat'}, {'label': 'QAM4', 'snr': 0, 'filename': 'object_generated376.dat'}, {'label': 'PSK2', 'snr': 0, 'filename': 'object_generated1452.dat'}, {'label': 'QAM256', 'snr': 0, 'filename': 'object_generated323.dat'}, {'label': 'QAM16', 'snr': 0, 'filename': 'object_generated17.dat'}, {'label': 'PSK8', 'snr': 0, 'filename': 'object_generated1430.dat'}, {'label': 'QAM256', 'snr': 0, 'filename': 'object_generated155.dat'}, {'label': 'QAM256', 'snr': 0, 'filename': 'object_generated723.dat'}, {'label': 'PSK2', 'snr': 0, 'filename': 'object_generated284.dat'}, {'label': 'PSK8', 'snr': 0, 'filename': 'object_generated1022.dat'}, {'label': 'QAM256', 'snr': 0, 'filename': 'object_generated763.dat'}, {'label': 'PSK4', 'snr': 0, 'filename': 'object_generated5.dat'}, {'label': 'QAM16', 'snr': 0, 'filename': 'object_generated369.dat'}, {'label': 'QAM64', 'snr': 0, 'filename': 'object_generated882.dat'}, {'label': 'PSK2', 'snr': 0, 'filename': 'object_generated932.dat'}, {'label': 'QAM16', 'snr': 0, 'filename': 'object_generated1433.dat'}, {'label': 'QAM16', 'snr': 0, 'filename': 'object_generated1345.dat'}, {'label': 'PSK2', 'snr': 0, 'filename': 'object_generated692.dat'}, {'label': 'PSK4', 'snr': 0, 'filename': 'object_generated1541.dat'}, {'label': 'PSK4', 'snr': 0, 'filename': 'object_generated1501.dat'}, {'label': 'QAM256', 'snr': 0, 'filename': 'object_generated1523.dat'}, {'label': 'PSK16', 'snr': 0, 'filename': 'object_generated1351.dat'}, {'label': 'PSK2', 'snr': 0, 'filename': 'object_generated396.dat'}, {'label': 'PSK16', 'snr': 0, 'filename': 'object_generated599.dat'}, {'label': 'PSK4', 'snr': 0, 'filename': 'object_generated189.dat'}, {'label': 'QAM64', 'snr': 0, 'filename': 'object_generated1602.dat'}, {'label': 'PSK4', 'snr': 0, 'filename': 'object_generated653.dat'}, {'label': 'PSK4', 'snr': 0, 'filename': 'object_generated1085.dat'}, {'label': 'PSK2', 'snr': 0, 'filename': 'object_generated524.dat'}, {'label': 'QAM4', 'snr': 0, 'filename': 'object_generated448.dat'}, {'label': 'QAM16', 'snr': 0, 'filename': 'object_generated1721.dat'}, {'label': 'QAM256', 'snr': 0, 'filename': 'object_generated907.dat'}, {'label': 'QAM64', 'snr': 0, 'filename': 'object_generated250.dat'}, {'label': 'QAM256', 'snr': 0, 'filename': 'object_generated1211.dat'}, {'label': 'PSK2', 'snr': 0, 'filename': 'object_generated1796.dat'}, {'label': 'QAM16', 'snr': 0, 'filename': 'object_generated1497.dat'}, {'label': 'PSK16', 'snr': 0, 'filename': 'object_generated1103.dat'}, {'label': 'QAM16', 'snr': 0, 'filename': 'object_generated321.dat'}, {'label': 'QAM4', 'snr': 0, 'filename': 'object_generated648.dat'}, {'label': 'PSK16', 'snr': 0, 'filename': 'object_generated79.dat'}, {'label': 'QAM4', 'snr': 0, 'filename': 'object_generated856.dat'}, {'label': 'PSK4', 'snr': 0, 'filename': 'object_generated1357.dat'}, {'label': 'PSK4', 'snr': 0, 'filename': 'object_generated469.dat'}, {'label': 'PSK16', 'snr': 0, 'filename': 'object_generated351.dat'}, {'label': 'PSK8', 'snr': 0, 'filename': 'object_generated1270.dat'}, {'label': 'PSK16', 'snr': 0, 'filename': 'object_generated239.dat'}, {'label': 'QAM4', 'snr': 0, 'filename': 'object_generated96.dat'}, {'label': 'QAM16', 'snr': 0, 'filename': 'object_generated993.dat'}, {'label': 'PSK8', 'snr': 0, 'filename': 'object_generated190.dat'}, {'label': 'PSK4', 'snr': 0, 'filename': 'object_generated973.dat'}, {'label': 'QAM16', 'snr': 0, 'filename': 'object_generated665.dat'}, {'label': 'QAM64', 'snr': 0, 'filename': 'object_generated1226.dat'}, {'label': 'QAM64', 'snr': 0, 'filename': 'object_generated778.dat'}, {'label': 'QAM64', 'snr': 0, 'filename': 'object_generated282.dat'}, {'label': 'PSK4', 'snr': 0, 'filename': 'object_generated1317.dat'}, {'label': 'PSK16', 'snr': 0, 'filename': 'object_generated1503.dat'}, {'label': 'QAM64', 'snr': 0, 'filename': 'object_generated1402.dat'}, {'label': 'PSK16', 'snr': 0, 'filename': 'object_generated775.dat'}, {'label': 'QAM16', 'snr': 0, 'filename': 'object_generated689.dat'}, {'label': 'PSK8', 'snr': 0, 'filename': 'object_generated942.dat'}, {'label': 'PSK2', 'snr': 0, 'filename': 'object_generated1412.dat'}, {'label': 'QAM16', 'snr': 0, 'filename': 'object_generated1409.dat'}, {'label': 'PSK16', 'snr': 0, 'filename': 'object_generated1031.dat'}, {'label': 'QAM256', 'snr': 0, 'filename': 'object_generated443.dat'}, {'label': 'PSK8', 'snr': 0, 'filename': 'object_generated870.dat'}, {'label': 'QAM256', 'snr': 0, 'filename': 'object_generated595.dat'}, {'label': 'QAM256', 'snr': 0, 'filename': 'object_generated1355.dat'}, {'label': 'QAM64', 'snr': 0, 'filename': 'object_generated1690.dat'}, {'label': 'PSK4', 'snr': 0, 'filename': 'object_generated1261.dat'}, {'label': 'PSK16', 'snr': 0, 'filename': 'object_generated207.dat'}, {'label': 'PSK2', 'snr': 0, 'filename': 'object_generated1716.dat'}, {'label': 'PSK2', 'snr': 0, 'filename': 'object_generated1684.dat'}, {'label': 'PSK4', 'snr': 0, 'filename': 'object_generated357.dat'}, {'label': 'PSK8', 'snr': 0, 'filename': 'object_generated1254.dat'}, {'label': 'QAM64', 'snr': 0, 'filename': 'object_generated1362.dat'}, {'label': 'PSK2', 'snr': 0, 'filename': 'object_generated1148.dat'}, {'label': 'PSK4', 'snr': 0, 'filename': 'object_generated165.dat'}, {'label': 'PSK8', 'snr': 0, 'filename': 'object_generated470.dat'}, {'label': 'QAM4', 'snr': 0, 'filename': 'object_generated1792.dat'}, {'label': 'QAM64', 'snr': 0, 'filename': 'object_generated34.dat'}, {'label': 'QAM64', 'snr': 0, 'filename': 'object_generated1490.dat'}, {'label': 'QAM16', 'snr': 0, 'filename': 'object_generated201.dat'}, {'label': 'PSK8', 'snr': 0, 'filename': 'object_generated246.dat'}, {'label': 'PSK16', 'snr': 0, 'filename': 'object_generated407.dat'}, {'label': 'QAM16', 'snr': 0, 'filename': 'object_generated377.dat'}, {'label': 'PSK2', 'snr': 0, 'filename': 'object_generated164.dat'}, {'label': 'PSK2', 'snr': 0, 'filename': 'object_generated1212.dat'}, {'label': 'PSK8', 'snr': 0, 'filename': 'object_generated574.dat'}, {'label': 'QAM64', 'snr': 0, 'filename': 'object_generated146.dat'}, {'label': 'PSK16', 'snr': 0, 'filename': 'object_generated1327.dat'}, {'label': 'PSK16', 'snr': 0, 'filename': 'object_generated607.dat'}, {'label': 'QAM4', 'snr': 0, 'filename': 'object_generated704.dat'}, {'label': 'QAM4', 'snr': 0, 'filename': 'object_generated768.dat'}, {'label': 'QAM64', 'snr': 0, 'filename': 'object_generated506.dat'}, {'label': 'QAM16', 'snr': 0, 'filename': 'object_generated1449.dat'}, {'label': 'QAM16', 'snr': 0, 'filename': 'object_generated1201.dat'}, {'label': 'QAM4', 'snr': 0, 'filename': 'object_generated1000.dat'}, {'label': 'QAM64', 'snr': 0, 'filename': 'object_generated426.dat'}, {'label': 'PSK4', 'snr': 0, 'filename': 'object_generated669.dat'}, {'label': 'QAM256', 'snr': 0, 'filename': 'object_generated1691.dat'}, {'label': 'QAM16', 'snr': 0, 'filename': 'object_generated1465.dat'}, {'label': 'QAM256', 'snr': 0, 'filename': 'object_generated1171.dat'}, {'label': 'QAM64', 'snr': 0, 'filename': 'object_generated1410.dat'}, {'label': 'QAM256', 'snr': 0, 'filename': 'object_generated1643.dat'}, {'label': 'QAM256', 'snr': 0, 'filename': 'object_generated419.dat'}, {'label': 'PSK2', 'snr': 0, 'filename': 'object_generated460.dat'}, {'label': 'QAM256', 'snr': 0, 'filename': 'object_generated27.dat'}, {'label': 'PSK16', 'snr': 0, 'filename': 'object_generated1367.dat'}, {'label': 'PSK2', 'snr': 0, 'filename': 'object_generated1476.dat'}, {'label': 'QAM16', 'snr': 0, 'filename': 'object_generated1105.dat'}, {'label': 'PSK8', 'snr': 0, 'filename': 'object_generated966.dat'}, {'label': 'QAM16', 'snr': 0, 'filename': 'object_generated1353.dat'}, {'label': 'PSK2', 'snr': 0, 'filename': 'object_generated892.dat'}, {'label': 'QAM4', 'snr': 0, 'filename': 'object_generated584.dat'}, {'label': 'QAM64', 'snr': 0, 'filename': 'object_generated1250.dat'}, {'label': 'QAM256', 'snr': 0, 'filename': 'object_generated771.dat'}, {'label': 'QAM4', 'snr': 0, 'filename': 'object_generated168.dat'}, {'label': 'PSK2', 'snr': 0, 'filename': 'object_generated1564.dat'}, {'label': 'PSK2', 'snr': 0, 'filename': 'object_generated132.dat'}, {'label': 'QAM4', 'snr': 0, 'filename': 'object_generated88.dat'}, {'label': 'PSK16', 'snr': 0, 'filename': 'object_generated39.dat'}, {'label': 'PSK16', 'snr': 0, 'filename': 'object_generated1671.dat'}, {'label': 'QAM16', 'snr': 0, 'filename': 'object_generated1569.dat'}, {'label': 'PSK2', 'snr': 0, 'filename': 'object_generated332.dat'}, {'label': 'PSK8', 'snr': 0, 'filename': 'object_generated62.dat'}, {'label': 'PSK8', 'snr': 0, 'filename': 'object_generated350.dat'}, {'label': 'PSK4', 'snr': 0, 'filename': 'object_generated933.dat'}, {'label': 'PSK4', 'snr': 0, 'filename': 'object_generated1781.dat'}, {'label': 'QAM16', 'snr': 0, 'filename': 'object_generated1249.dat'}, {'label': 'PSK4', 'snr': 0, 'filename': 'object_generated957.dat'}, {'label': 'QAM16', 'snr': 0, 'filename': 'object_generated977.dat'}, {'label': 'QAM64', 'snr': 0, 'filename': 'object_generated1482.dat'}, {'label': 'QAM4', 'snr': 0, 'filename': 'object_generated1120.dat'}, {'label': 'QAM256', 'snr': 0, 'filename': 'object_generated635.dat'}, {'label': 'QAM256', 'snr': 0, 'filename': 'object_generated1339.dat'}, {'label': 'PSK16', 'snr': 0, 'filename': 'object_generated615.dat'}, {'label': 'QAM256', 'snr': 0, 'filename': 'object_generated1275.dat'}, {'label': 'PSK4', 'snr': 0, 'filename': 'object_generated541.dat'}, {'label': 'PSK2', 'snr': 0, 'filename': 'object_generated404.dat'}, {'label': 'QAM256', 'snr': 0, 'filename': 'object_generated1115.dat'}, {'label': 'QAM64', 'snr': 0, 'filename': 'object_generated498.dat'}, {'label': 'QAM4', 'snr': 0, 'filename': 'object_generated16.dat'}, {'label': 'PSK4', 'snr': 0, 'filename': 'object_generated621.dat'}, {'label': 'PSK16', 'snr': 0, 'filename': 'object_generated1055.dat'}, {'label': 'QAM16', 'snr': 0, 'filename': 'object_generated1481.dat'}, {'label': 'QAM64', 'snr': 0, 'filename': 'object_generated906.dat'}, {'label': 'QAM16', 'snr': 0, 'filename': 'object_generated961.dat'}, {'label': 'PSK16', 'snr': 0, 'filename': 'object_generated31.dat'}, {'label': 'PSK2', 'snr': 0, 'filename': 'object_generated76.dat'}, {'label': 'QAM16', 'snr': 0, 'filename': 'object_generated25.dat'}, {'label': 'QAM16', 'snr': 0, 'filename': 'object_generated1369.dat'}, {'label': 'QAM64', 'snr': 0, 'filename': 'object_generated1082.dat'}, {'label': 'QAM4', 'snr': 0, 'filename': 'object_generated1600.dat'}, {'label': 'PSK2', 'snr': 0, 'filename': 'object_generated1756.dat'}, {'label': 'QAM256', 'snr': 0, 'filename': 'object_generated1563.dat'}, {'label': 'QAM16', 'snr': 0, 'filename': 'object_generated193.dat'}, {'label': 'QAM64', 'snr': 0, 'filename': 'object_generated818.dat'}, {'label': 'QAM4', 'snr': 0, 'filename': 'object_generated384.dat'}, {'label': 'QAM256', 'snr': 0, 'filename': 'object_generated1515.dat'}, {'label': 'QAM64', 'snr': 0, 'filename': 'object_generated754.dat'}, {'label': 'PSK4', 'snr': 0, 'filename': 'object_generated1069.dat'}, {'label': 'PSK8', 'snr': 0, 'filename': 'object_generated278.dat'}, {'label': 'QAM16', 'snr': 0, 'filename': 'object_generated921.dat'}, {'label': 'QAM4', 'snr': 0, 'filename': 'object_generated1144.dat'}, {'label': 'PSK4', 'snr': 0, 'filename': 'object_generated437.dat'}, {'label': 'PSK8', 'snr': 0, 'filename': 'object_generated1566.dat'}, {'label': 'QAM16', 'snr': 0, 'filename': 'object_generated353.dat'}, {'label': 'QAM16', 'snr': 0, 'filename': 'object_generated97.dat'}, {'label': 'PSK4', 'snr': 0, 'filename': 'object_generated821.dat'}, {'label': 'QAM16', 'snr': 0, 'filename': 'object_generated505.dat'}, {'label': 'QAM64', 'snr': 0, 'filename': 'object_generated210.dat'}, {'label': 'QAM64', 'snr': 0, 'filename': 'object_generated1018.dat'}, {'label': 'QAM64', 'snr': 0, 'filename': 'object_generated946.dat'}, {'label': 'QAM256', 'snr': 0, 'filename': 'object_generated1795.dat'}, {'label': 'PSK4', 'snr': 0, 'filename': 'object_generated1565.dat'}, {'label': 'QAM256', 'snr': 0, 'filename': 'object_generated363.dat'}, {'label': 'PSK16', 'snr': 0, 'filename': 'object_generated1087.dat'}, {'label': 'PSK8', 'snr': 0, 'filename': 'object_generated1302.dat'}, {'label': 'PSK8', 'snr': 0, 'filename': 'object_generated654.dat'}, {'label': 'PSK16', 'snr': 0, 'filename': 'object_generated519.dat'}, {'label': 'QAM16', 'snr': 0, 'filename': 'object_generated585.dat'}, {'label': 'QAM4', 'snr': 0, 'filename': 'object_generated496.dat'}, {'label': 'PSK2', 'snr': 0, 'filename': 'object_generated748.dat'}, {'label': 'PSK2', 'snr': 0, 'filename': 'object_generated1524.dat'}, {'label': 'PSK2', 'snr': 0, 'filename': 'object_generated836.dat'}, {'label': 'PSK4', 'snr': 0, 'filename': 'object_generated1397.dat'}, {'label': 'PSK2', 'snr': 0, 'filename': 'object_generated1260.dat'}, {'label': 'PSK8', 'snr': 0, 'filename': 'object_generated686.dat'}, {'label': 'QAM256', 'snr': 0, 'filename': 'object_generated227.dat'}, {'label': 'PSK16', 'snr': 0, 'filename': 'object_generated311.dat'}, {'label': 'PSK8', 'snr': 0, 'filename': 'object_generated1638.dat'}, {'label': 'QAM16', 'snr': 0, 'filename': 'object_generated553.dat'}, {'label': 'PSK16', 'snr': 0, 'filename': 'object_generated1751.dat'}, {'label': 'QAM16', 'snr': 0, 'filename': 'object_generated529.dat'}, {'label': 'QAM4', 'snr': 0, 'filename': 'object_generated1296.dat'}, {'label': 'PSK4', 'snr': 0, 'filename': 'object_generated1421.dat'}, {'label': 'PSK8', 'snr': 0, 'filename': 'object_generated462.dat'}, {'label': 'PSK16', 'snr': 0, 'filename': 'object_generated1287.dat'}, {'label': 'QAM4', 'snr': 0, 'filename': 'object_generated1568.dat'}, {'label': 'PSK8', 'snr': 0, 'filename': 'object_generated958.dat'}, {'label': 'QAM16', 'snr': 0, 'filename': 'object_generated1177.dat'}, {'label': 'PSK4', 'snr': 0, 'filename': 'object_generated629.dat'}, {'label': 'PSK8', 'snr': 0, 'filename': 'object_generated438.dat'}, {'label': 'PSK16', 'snr': 0, 'filename': 'object_generated1151.dat'}, {'label': 'QAM4', 'snr': 0, 'filename': 'object_generated520.dat'}, {'label': 'PSK4', 'snr': 0, 'filename': 'object_generated53.dat'}, {'label': 'QAM256', 'snr': 0, 'filename': 'object_generated467.dat'}, {'label': 'PSK16', 'snr': 0, 'filename': 'object_generated999.dat'}, {'label': 'QAM64', 'snr': 0, 'filename': 'object_generated1058.dat'}, {'label': 'QAM4', 'snr': 0, 'filename': 'object_generated200.dat'}, {'label': 'PSK8', 'snr': 0, 'filename': 'object_generated670.dat'}, {'label': 'QAM256', 'snr': 0, 'filename': 'object_generated571.dat'}, {'label': 'QAM64', 'snr': 0, 'filename': 'object_generated586.dat'}, {'label': 'PSK2', 'snr': 0, 'filename': 'object_generated956.dat'}, {'label': 'PSK2', 'snr': 0, 'filename': 'object_generated652.dat'}, {'label': 'QAM256', 'snr': 0, 'filename': 'object_generated1755.dat'}, {'label': 'PSK16', 'snr': 0, 'filename': 'object_generated1015.dat'}, {'label': 'PSK8', 'snr': 0, 'filename': 'object_generated1614.dat'}, {'label': 'QAM16', 'snr': 0, 'filename': 'object_generated225.dat'}, {'label': 'QAM16', 'snr': 0, 'filename': 'object_generated521.dat'}, {'label': 'PSK16', 'snr': 0, 'filename': 'object_generated479.dat'}, {'label': 'PSK2', 'snr': 0, 'filename': 'object_generated812.dat'}, {'label': 'QAM4', 'snr': 0, 'filename': 'object_generated1216.dat'}, {'label': 'PSK4', 'snr': 0, 'filename': 'object_generated1725.dat'}, {'label': 'QAM16', 'snr': 0, 'filename': 'object_generated385.dat'}, {'label': 'PSK4', 'snr': 0, 'filename': 'object_generated557.dat'}, {'label': 'PSK4', 'snr': 0, 'filename': 'object_generated573.dat'}, {'label': 'QAM256', 'snr': 0, 'filename': 'object_generated899.dat'}, {'label': 'QAM256', 'snr': 0, 'filename': 'object_generated1651.dat'}, {'label': 'QAM4', 'snr': 0, 'filename': 'object_generated632.dat'}, {'label': 'PSK2', 'snr': 0, 'filename': 'object_generated20.dat'}, {'label': 'PSK8', 'snr': 0, 'filename': 'object_generated198.dat'}, {'label': 'PSK16', 'snr': 0, 'filename': 'object_generated1591.dat'}, {'label': 'PSK16', 'snr': 0, 'filename': 'object_generated255.dat'}, {'label': 'PSK2', 'snr': 0, 'filename': 'object_generated1676.dat'}, {'label': 'QAM256', 'snr': 0, 'filename': 'object_generated91.dat'}, {'label': 'PSK16', 'snr': 0, 'filename': 'object_generated1783.dat'}, {'label': 'QAM16', 'snr': 0, 'filename': 'object_generated857.dat'}, {'label': 'QAM64', 'snr': 0, 'filename': 'object_generated1442.dat'}, {'label': 'PSK4', 'snr': 0, 'filename': 'object_generated61.dat'}, {'label': 'QAM64', 'snr': 0, 'filename': 'object_generated642.dat'}, {'label': 'PSK16', 'snr': 0, 'filename': 'object_generated1383.dat'}, {'label': 'QAM4', 'snr': 0, 'filename': 'object_generated1720.dat'}, {'label': 'PSK16', 'snr': 0, 'filename': 'object_generated623.dat'}, {'label': 'QAM4', 'snr': 0, 'filename': 'object_generated136.dat'}, {'label': 'PSK8', 'snr': 0, 'filename': 'object_generated1422.dat'}, {'label': 'PSK4', 'snr': 0, 'filename': 'object_generated117.dat'}, {'label': 'PSK4', 'snr': 0, 'filename': 'object_generated525.dat'}, {'label': 'QAM16', 'snr': 0, 'filename': 'object_generated465.dat'}, {'label': 'QAM64', 'snr': 0, 'filename': 'object_generated730.dat'}, {'label': 'PSK2', 'snr': 0, 'filename': 'object_generated1556.dat'}, {'label': 'PSK8', 'snr': 0, 'filename': 'object_generated22.dat'}, {'label': 'QAM256', 'snr': 0, 'filename': 'object_generated1163.dat'}, {'label': 'QAM4', 'snr': 0, 'filename': 'object_generated1408.dat'}, {'label': 'PSK16', 'snr': 0, 'filename': 'object_generated151.dat'}, {'label': 'PSK4', 'snr': 0, 'filename': 'object_generated581.dat'}, {'label': 'PSK4', 'snr': 0, 'filename': 'object_generated453.dat'}, {'label': 'QAM256', 'snr': 0, 'filename': 'object_generated795.dat'}, {'label': 'QAM16', 'snr': 0, 'filename': 'object_generated761.dat'}, {'label': 'QAM4', 'snr': 0, 'filename': 'object_generated816.dat'}, {'label': 'PSK8', 'snr': 0, 'filename': 'object_generated118.dat'}, {'label': 'PSK2', 'snr': 0, 'filename': 'object_generated236.dat'}, {'label': 'QAM256', 'snr': 0, 'filename': 'object_generated1371.dat'}, {'label': 'PSK16', 'snr': 0, 'filename': 'object_generated1639.dat'}, {'label': 'QAM64', 'snr': 0, 'filename': 'object_generated1570.dat'}, {'label': 'QAM16', 'snr': 0, 'filename': 'object_generated1505.dat'}, {'label': 'PSK2', 'snr': 0, 'filename': 'object_generated876.dat'}, {'label': 'QAM64', 'snr': 0, 'filename': 'object_generated674.dat'}, {'label': 'PSK8', 'snr': 0, 'filename': 'object_generated894.dat'}, {'label': 'QAM64', 'snr': 0, 'filename': 'object_generated530.dat'}, {'label': 'QAM4', 'snr': 0, 'filename': 'object_generated1176.dat'}, {'label': 'QAM256', 'snr': 0, 'filename': 'object_generated219.dat'}, {'label': 'QAM16', 'snr': 0, 'filename': 'object_generated1417.dat'}, {'label': 'PSK8', 'snr': 0, 'filename': 'object_generated1398.dat'}, {'label': 'QAM16', 'snr': 0, 'filename': 'object_generated1793.dat'}, {'label': 'QAM64', 'snr': 0, 'filename': 'object_generated1154.dat'}, {'label': 'PSK16', 'snr': 0, 'filename': 'object_generated1095.dat'}, {'label': 'PSK16', 'snr': 0, 'filename': 'object_generated1415.dat'}, {'label': 'PSK8', 'snr': 0, 'filename': 'object_generated1030.dat'}, {'label': 'PSK16', 'snr': 0, 'filename': 'object_generated863.dat'}, {'label': 'PSK8', 'snr': 0, 'filename': 'object_generated766.dat'}, {'label': 'QAM256', 'snr': 0, 'filename': 'object_generated139.dat'}, {'label': 'PSK4', 'snr': 0, 'filename': 'object_generated181.dat'}, {'label': 'PSK2', 'snr': 0, 'filename': 'object_generated1116.dat'}, {'label': 'QAM4', 'snr': 0, 'filename': 'object_generated1704.dat'}, {'label': 'QAM16', 'snr': 0, 'filename': 'object_generated537.dat'}, {'label': 'PSK8', 'snr': 0, 'filename': 'object_generated1446.dat'}, {'label': 'QAM4', 'snr': 0, 'filename': 'object_generated1608.dat'}, {'label': 'PSK16', 'snr': 0, 'filename': 'object_generated783.dat'}, {'label': 'PSK4', 'snr': 0, 'filename': 'object_generated1525.dat'}, {'label': 'QAM64', 'snr': 0, 'filename': 'object_generated106.dat'}, {'label': 'PSK4', 'snr': 0, 'filename': 'object_generated301.dat'}, {'label': 'QAM64', 'snr': 0, 'filename': 'object_generated1298.dat'}, {'label': 'QAM16', 'snr': 0, 'filename': 'object_generated1441.dat'}, {'label': 'PSK8', 'snr': 0, 'filename': 'object_generated918.dat'}, {'label': 'PSK4', 'snr': 0, 'filename': 'object_generated1141.dat'}, {'label': 'QAM256', 'snr': 0, 'filename': 'object_generated875.dat'}, {'label': 'PSK2', 'snr': 0, 'filename': 'object_generated68.dat'}, {'label': 'QAM64', 'snr': 0, 'filename': 'object_generated1130.dat'}, {'label': 'QAM16', 'snr': 0, 'filename': 'object_generated449.dat'}, {'label': 'PSK16', 'snr': 0, 'filename': 'object_generated263.dat'}, {'label': 'QAM16', 'snr': 0, 'filename': 'object_generated497.dat'}, {'label': 'QAM256', 'snr': 0, 'filename': 'object_generated275.dat'}, {'label': 'QAM16', 'snr': 0, 'filename': 'object_generated281.dat'}, {'label': 'PSK2', 'snr': 0, 'filename': 'object_generated188.dat'}, {'label': 'QAM16', 'snr': 0, 'filename': 'object_generated1033.dat'}, {'label': 'PSK16', 'snr': 0, 'filename': 'object_generated743.dat'}, {'label': 'PSK8', 'snr': 0, 'filename': 'object_generated318.dat'}, {'label': 'PSK4', 'snr': 0, 'filename': 'object_generated93.dat'}, {'label': 'PSK4', 'snr': 0, 'filename': 'object_generated221.dat'}, {'label': 'QAM4', 'snr': 0, 'filename': 'object_generated760.dat'}, {'label': 'PSK2', 'snr': 0, 'filename': 'object_generated1708.dat'}, {'label': 'PSK4', 'snr': 0, 'filename': 'object_generated397.dat'}, {'label': 'PSK2', 'snr': 0, 'filename': 'object_generated1692.dat'}, {'label': 'QAM256', 'snr': 0, 'filename': 'object_generated803.dat'}, {'label': 'PSK8', 'snr': 0, 'filename': 'object_generated1262.dat'}, {'label': 'QAM16', 'snr': 0, 'filename': 'object_generated1457.dat'}, {'label': 'PSK16', 'snr': 0, 'filename': 'object_generated303.dat'}, {'label': 'QAM64', 'snr': 0, 'filename': 'object_generated1106.dat'}, {'label': 'QAM256', 'snr': 0, 'filename': 'object_generated1139.dat'}, {'label': 'PSK2', 'snr': 0, 'filename': 'object_generated1124.dat'}, {'label': 'QAM256', 'snr': 0, 'filename': 'object_generated355.dat'}, {'label': 'QAM64', 'snr': 0, 'filename': 'object_generated1626.dat'}, {'label': 'PSK2', 'snr': 0, 'filename': 'object_generated1084.dat'}, {'label': 'PSK16', 'snr': 0, 'filename': 'object_generated1607.dat'}, {'label': 'PSK16', 'snr': 0, 'filename': 'object_generated1743.dat'}, {'label': 'PSK16', 'snr': 0, 'filename': 'object_generated1791.dat'}, {'label': 'QAM64', 'snr': 0, 'filename': 'object_generated554.dat'}, {'label': 'PSK2', 'snr': 0, 'filename': 'object_generated556.dat'}, {'label': 'PSK16', 'snr': 0, 'filename': 'object_generated231.dat'}, {'label': 'QAM256', 'snr': 0, 'filename': 'object_generated867.dat'}, {'label': 'QAM256', 'snr': 0, 'filename': 'object_generated915.dat'}, {'label': 'PSK2', 'snr': 0, 'filename': 'object_generated820.dat'}, {'label': 'QAM256', 'snr': 0, 'filename': 'object_generated51.dat'}, {'label': 'PSK4', 'snr': 0, 'filename': 'object_generated373.dat'}, {'label': 'PSK16', 'snr': 0, 'filename': 'object_generated727.dat'}, {'label': 'QAM4', 'snr': 0, 'filename': 'object_generated416.dat'}, {'label': 'PSK16', 'snr': 0, 'filename': 'object_generated591.dat'}, {'label': 'QAM64', 'snr': 0, 'filename': 'object_generated706.dat'}, {'label': 'PSK2', 'snr': 0, 'filename': 'object_generated1100.dat'}, {'label': 'QAM64', 'snr': 0, 'filename': 'object_generated474.dat'}, {'label': 'QAM4', 'snr': 0, 'filename': 'object_generated1056.dat'}, {'label': 'PSK4', 'snr': 0, 'filename': 'object_generated893.dat'}, {'label': 'QAM256', 'snr': 0, 'filename': 'object_generated1547.dat'}, {'label': 'PSK4', 'snr': 0, 'filename': 'object_generated989.dat'}, {'label': 'QAM4', 'snr': 0, 'filename': 'object_generated720.dat'}, {'label': 'PSK8', 'snr': 0, 'filename': 'object_generated1238.dat'}, {'label': 'QAM256', 'snr': 0, 'filename': 'object_generated739.dat'}, {'label': 'QAM256', 'snr': 0, 'filename': 'object_generated1259.dat'}, {'label': 'PSK16', 'snr': 0, 'filename': 'object_generated1135.dat'}, {'label': 'PSK16', 'snr': 0, 'filename': 'object_generated1767.dat'}, {'label': 'QAM64', 'snr': 0, 'filename': 'object_generated874.dat'}, {'label': 'PSK16', 'snr': 0, 'filename': 'object_generated1311.dat'}, {'label': 'QAM64', 'snr': 0, 'filename': 'object_generated466.dat'}, {'label': 'PSK8', 'snr': 0, 'filename': 'object_generated150.dat'}, {'label': 'PSK2', 'snr': 0, 'filename': 'object_generated804.dat'}, {'label': 'QAM64', 'snr': 0, 'filename': 'object_generated762.dat'}, {'label': 'QAM64', 'snr': 0, 'filename': 'object_generated1546.dat'}, {'label': 'QAM4', 'snr': 0, 'filename': 'object_generated296.dat'}, {'label': 'QAM16', 'snr': 0, 'filename': 'object_generated41.dat'}, {'label': 'PSK16', 'snr': 0, 'filename': 'object_generated1455.dat'}, {'label': 'PSK4', 'snr': 0, 'filename': 'object_generated1557.dat'}, {'label': 'PSK16', 'snr': 0, 'filename': 'object_generated887.dat'}, {'label': 'PSK16', 'snr': 0, 'filename': 'object_generated1111.dat'}, {'label': 'PSK16', 'snr': 0, 'filename': 'object_generated1279.dat'}, {'label': 'PSK16', 'snr': 0, 'filename': 'object_generated295.dat'}, {'label': 'PSK16', 'snr': 0, 'filename': 'object_generated951.dat'}, {'label': 'PSK4', 'snr': 0, 'filename': 'object_generated1389.dat'}, {'label': 'PSK2', 'snr': 0, 'filename': 'object_generated356.dat'}, {'label': 'QAM4', 'snr': 0, 'filename': 'object_generated568.dat'}, {'label': 'PSK4', 'snr': 0, 'filename': 'object_generated1301.dat'}, {'label': 'PSK2', 'snr': 0, 'filename': 'object_generated204.dat'}, {'label': 'PSK16', 'snr': 0, 'filename': 'object_generated279.dat'}, {'label': 'QAM4', 'snr': 0, 'filename': 'object_generated1760.dat'}, {'label': 'PSK8', 'snr': 0, 'filename': 'object_generated1670.dat'}, {'label': 'QAM64', 'snr': 0, 'filename': 'object_generated562.dat'}, {'label': 'QAM64', 'snr': 0, 'filename': 'object_generated266.dat'}, {'label': 'QAM256', 'snr': 0, 'filename': 'object_generated1315.dat'}, {'label': 'PSK8', 'snr': 0, 'filename': 'object_generated1574.dat'}, {'label': 'PSK2', 'snr': 0, 'filename': 'object_generated1764.dat'}, {'label': 'PSK16', 'snr': 0, 'filename': 'object_generated759.dat'}, {'label': 'QAM16', 'snr': 0, 'filename': 'object_generated73.dat'}, {'label': 'QAM4', 'snr': 0, 'filename': 'object_generated928.dat'}, {'label': 'PSK2', 'snr': 0, 'filename': 'object_generated1300.dat'}, {'label': 'PSK4', 'snr': 0, 'filename': 'object_generated1717.dat'}, {'label': 'PSK4', 'snr': 0, 'filename': 'object_generated1109.dat'}, {'label': 'PSK4', 'snr': 0, 'filename': 'object_generated349.dat'}, {'label': 'QAM256', 'snr': 0, 'filename': 'object_generated1635.dat'}, {'label': 'QAM256', 'snr': 0, 'filename': 'object_generated1539.dat'}, {'label': 'PSK4', 'snr': 0, 'filename': 'object_generated1173.dat'}, {'label': 'QAM4', 'snr': 0, 'filename': 'object_generated1336.dat'}, {'label': 'QAM4', 'snr': 0, 'filename': 'object_generated776.dat'}, {'label': 'PSK2', 'snr': 0, 'filename': 'object_generated852.dat'}, {'label': 'PSK8', 'snr': 0, 'filename': 'object_generated1334.dat'}, {'label': 'QAM64', 'snr': 0, 'filename': 'object_generated434.dat'}, {'label': 'PSK16', 'snr': 0, 'filename': 'object_generated327.dat'}, {'label': 'QAM256', 'snr': 0, 'filename': 'object_generated1347.dat'}, {'label': 'QAM64', 'snr': 0, 'filename': 'object_generated1594.dat'}, {'label': 'QAM4', 'snr': 0, 'filename': 'object_generated1680.dat'}, {'label': 'QAM4', 'snr': 0, 'filename': 'object_generated1368.dat'}, {'label': 'QAM16', 'snr': 0, 'filename': 'object_generated1401.dat'}, {'label': 'PSK2', 'snr': 0, 'filename': 'object_generated116.dat'}, {'label': 'PSK8', 'snr': 0, 'filename': 'object_generated1190.dat'}, {'label': 'PSK2', 'snr': 0, 'filename': 'object_generated1620.dat'}, {'label': 'QAM4', 'snr': 0, 'filename': 'object_generated1224.dat'}, {'label': 'QAM256', 'snr': 0, 'filename': 'object_generated619.dat'}, {'label': 'PSK2', 'snr': 0, 'filename': 'object_generated1428.dat'}, {'label': 'QAM16', 'snr': 0, 'filename': 'object_generated1329.dat'}, {'label': 'QAM64', 'snr': 0, 'filename': 'object_generated354.dat'}, {'label': 'PSK4', 'snr': 0, 'filename': 'object_generated1597.dat'}, {'label': 'QAM64', 'snr': 0, 'filename': 'object_generated378.dat'}, {'label': 'QAM256', 'snr': 0, 'filename': 'object_generated1771.dat'}, {'label': 'QAM64', 'snr': 0, 'filename': 'object_generated1162.dat'}, {'label': 'QAM4', 'snr': 0, 'filename': 'object_generated1784.dat'}, {'label': 'QAM64', 'snr': 0, 'filename': 'object_generated1242.dat'}, {'label': 'QAM4', 'snr': 0, 'filename': 'object_generated1240.dat'}, {'label': 'PSK8', 'snr': 0, 'filename': 'object_generated1790.dat'}, {'label': 'PSK16', 'snr': 0, 'filename': 'object_generated1487.dat'}, {'label': 'PSK2', 'snr': 0, 'filename': 'object_generated1492.dat'}, {'label': 'QAM256', 'snr': 0, 'filename': 'object_generated67.dat'}, {'label': 'PSK4', 'snr': 0, 'filename': 'object_generated1045.dat'}, {'label': 'QAM64', 'snr': 0, 'filename': 'object_generated1346.dat'}, {'label': 'QAM4', 'snr': 0, 'filename': 'object_generated8.dat'}, {'label': 'QAM4', 'snr': 0, 'filename': 'object_generated488.dat'}, {'label': 'PSK4', 'snr': 0, 'filename': 'object_generated333.dat'}, {'label': 'PSK2', 'snr': 0, 'filename': 'object_generated308.dat'}, {'label': 'PSK16', 'snr': 0, 'filename': 'object_generated1207.dat'}, {'label': 'PSK2', 'snr': 0, 'filename': 'object_generated1436.dat'}, {'label': 'PSK16', 'snr': 0, 'filename': 'object_generated175.dat'}, {'label': 'QAM16', 'snr': 0, 'filename': 'object_generated1729.dat'}, {'label': 'QAM16', 'snr': 0, 'filename': 'object_generated1057.dat'}, {'label': 'PSK8', 'snr': 0, 'filename': 'object_generated398.dat'}, {'label': 'PSK16', 'snr': 0, 'filename': 'object_generated1143.dat'}, {'label': 'QAM256', 'snr': 0, 'filename': 'object_generated515.dat'}, {'label': 'PSK4', 'snr': 0, 'filename': 'object_generated477.dat'}, {'label': 'PSK8', 'snr': 0, 'filename': 'object_generated1374.dat'}, {'label': 'PSK8', 'snr': 0, 'filename': 'object_generated678.dat'}, {'label': 'QAM256', 'snr': 0, 'filename': 'object_generated123.dat'}, {'label': 'QAM256', 'snr': 0, 'filename': 'object_generated939.dat'}, {'label': 'QAM16', 'snr': 0, 'filename': 'object_generated889.dat'}, {'label': 'QAM256', 'snr': 0, 'filename': 'object_generated1499.dat'}, {'label': 'QAM256', 'snr': 0, 'filename': 'object_generated779.dat'}, {'label': 'PSK16', 'snr': 0, 'filename': 'object_generated1703.dat'}, {'label': 'PSK2', 'snr': 0, 'filename': 'object_generated244.dat'}, {'label': 'QAM64', 'snr': 0, 'filename': 'object_generated690.dat'}, {'label': 'QAM4', 'snr': 0, 'filename': 'object_generated224.dat'}, {'label': 'QAM256', 'snr': 0, 'filename': 'object_generated283.dat'}, {'label': 'QAM64', 'snr': 0, 'filename': 'object_generated698.dat'}, {'label': 'QAM256', 'snr': 0, 'filename': 'object_generated851.dat'}, {'label': 'QAM64', 'snr': 0, 'filename': 'object_generated1378.dat'}, {'label': 'PSK2', 'snr': 0, 'filename': 'object_generated316.dat'}, {'label': 'QAM256', 'snr': 0, 'filename': 'object_generated579.dat'}, {'label': 'PSK2', 'snr': 0, 'filename': 'object_generated1516.dat'}, {'label': 'QAM4', 'snr': 0, 'filename': 'object_generated1592.dat'}, {'label': 'PSK4', 'snr': 0, 'filename': 'object_generated389.dat'}, {'label': 'QAM16', 'snr': 0, 'filename': 'object_generated33.dat'}, {'label': 'PSK4', 'snr': 0, 'filename': 'object_generated253.dat'}, {'label': 'QAM64', 'snr': 0, 'filename': 'object_generated1434.dat'}, {'label': 'PSK4', 'snr': 0, 'filename': 'object_generated709.dat'}, {'label': 'QAM4', 'snr': 0, 'filename': 'object_generated624.dat'}, {'label': 'QAM4', 'snr': 0, 'filename': 'object_generated464.dat'}, {'label': 'PSK4', 'snr': 0, 'filename': 'object_generated1181.dat'}, {'label': 'PSK8', 'snr': 0, 'filename': 'object_generated1206.dat'}, {'label': 'PSK16', 'snr': 0, 'filename': 'object_generated1335.dat'}, {'label': 'QAM256', 'snr': 0, 'filename': 'object_generated1011.dat'}, {'label': 'PSK8', 'snr': 0, 'filename': 'object_generated1582.dat'}, {'label': 'QAM4', 'snr': 0, 'filename': 'object_generated528.dat'}, {'label': 'PSK2', 'snr': 0, 'filename': 'object_generated276.dat'}, {'label': 'QAM4', 'snr': 0, 'filename': 'object_generated1416.dat'}, {'label': 'PSK2', 'snr': 0, 'filename': 'object_generated1484.dat'}, {'label': 'PSK16', 'snr': 0, 'filename': 'object_generated1263.dat'}, {'label': 'QAM16', 'snr': 0, 'filename': 'object_generated825.dat'}, {'label': 'PSK16', 'snr': 0, 'filename': 'object_generated63.dat'}, {'label': 'QAM256', 'snr': 0, 'filename': 'object_generated235.dat'}, {'label': 'PSK8', 'snr': 0, 'filename': 'object_generated54.dat'}, {'label': 'PSK16', 'snr': 0, 'filename': 'object_generated703.dat'}, {'label': 'PSK16', 'snr': 0, 'filename': 'object_generated767.dat'}, {'label': 'QAM256', 'snr': 0, 'filename': 'object_generated1235.dat'}, {'label': 'PSK2', 'snr': 0, 'filename': 'object_generated140.dat'}, {'label': 'QAM4', 'snr': 0, 'filename': 'object_generated456.dat'}, {'label': 'QAM4', 'snr': 0, 'filename': 'object_generated1040.dat'}, {'label': 'QAM4', 'snr': 0, 'filename': 'object_generated592.dat'}, {'label': 'PSK16', 'snr': 0, 'filename': 'object_generated159.dat'}, {'label': 'PSK4', 'snr': 0, 'filename': 'object_generated1573.dat'}, {'label': 'QAM16', 'snr': 0, 'filename': 'object_generated1697.dat'}, {'label': 'QAM256', 'snr': 0, 'filename': 'object_generated3.dat'}, {'label': 'QAM64', 'snr': 0, 'filename': 'object_generated170.dat'}, {'label': 'PSK2', 'snr': 0, 'filename': 'object_generated668.dat'}, {'label': 'QAM64', 'snr': 0, 'filename': 'object_generated834.dat'}, {'label': 'PSK16', 'snr': 0, 'filename': 'object_generated1071.dat'}, {'label': 'PSK2', 'snr': 0, 'filename': 'object_generated884.dat'}, {'label': 'PSK16', 'snr': 0, 'filename': 'object_generated1239.dat'}, {'label': 'QAM256', 'snr': 0, 'filename': 'object_generated267.dat'}, {'label': 'PSK2', 'snr': 0, 'filename': 'object_generated1324.dat'}, {'label': 'QAM64', 'snr': 0, 'filename': 'object_generated1266.dat'}, {'label': 'PSK16', 'snr': 0, 'filename': 'object_generated287.dat'}, {'label': 'PSK2', 'snr': 0, 'filename': 'object_generated1636.dat'}, {'label': 'QAM16', 'snr': 0, 'filename': 'object_generated1113.dat'}, {'label': 'QAM4', 'snr': 0, 'filename': 'object_generated1640.dat'}, {'label': 'QAM256', 'snr': 0, 'filename': 'object_generated1467.dat'}, {'label': 'PSK4', 'snr': 0, 'filename': 'object_generated1453.dat'}, {'label': 'QAM64', 'snr': 0, 'filename': 'object_generated298.dat'}, {'label': 'QAM16', 'snr': 0, 'filename': 'object_generated1073.dat'}, {'label': 'QAM256', 'snr': 0, 'filename': 'object_generated1219.dat'}, {'label': 'QAM64', 'snr': 0, 'filename': 'object_generated994.dat'}, {'label': 'QAM64', 'snr': 0, 'filename': 'object_generated1666.dat'}, {'label': 'PSK4', 'snr': 0, 'filename': 'object_generated685.dat'}, {'label': 'PSK8', 'snr': 0, 'filename': 'object_generated94.dat'}, {'label': 'PSK8', 'snr': 0, 'filename': 'object_generated1678.dat'}, {'label': 'PSK8', 'snr': 0, 'filename': 'object_generated1534.dat'}, {'label': 'PSK2', 'snr': 0, 'filename': 'object_generated1788.dat'}, {'label': 'PSK2', 'snr': 0, 'filename': 'object_generated1356.dat'}, {'label': 'PSK2', 'snr': 0, 'filename': 'object_generated860.dat'}, {'label': 'PSK4', 'snr': 0, 'filename': 'object_generated941.dat'}, {'label': 'QAM256', 'snr': 0, 'filename': 'object_generated523.dat'}, {'label': 'QAM64', 'snr': 0, 'filename': 'object_generated130.dat'}, {'label': 'QAM16', 'snr': 0, 'filename': 'object_generated1041.dat'}, {'label': 'QAM256', 'snr': 0, 'filename': 'object_generated491.dat'}, {'label': 'QAM256', 'snr': 0, 'filename': 'object_generated1715.dat'}, {'label': 'PSK2', 'snr': 0, 'filename': 'object_generated1076.dat'}, {'label': 'QAM4', 'snr': 0, 'filename': 'object_generated320.dat'}, {'label': 'QAM256', 'snr': 0, 'filename': 'object_generated19.dat'}, {'label': 'QAM16', 'snr': 0, 'filename': 'object_generated185.dat'}, {'label': 'QAM64', 'snr': 0, 'filename': 'object_generated538.dat'}, {'label': 'PSK16', 'snr': 0, 'filename': 'object_generated1663.dat'}, {'label': 'QAM4', 'snr': 0, 'filename': 'object_generated1032.dat'}, {'label': 'PSK4', 'snr': 0, 'filename': 'object_generated413.dat'}, {'label': 'PSK2', 'snr': 0, 'filename': 'object_generated540.dat'}, {'label': 'QAM4', 'snr': 0, 'filename': 'object_generated1440.dat'}, {'label': 'QAM64', 'snr': 0, 'filename': 'object_generated1586.dat'}, {'label': 'QAM4', 'snr': 0, 'filename': 'object_generated288.dat'}, {'label': 'QAM64', 'snr': 0, 'filename': 'object_generated314.dat'}, {'label': 'PSK4', 'snr': 0, 'filename': 'object_generated1005.dat'}, {'label': 'QAM4', 'snr': 0, 'filename': 'object_generated24.dat'}, {'label': 'QAM4', 'snr': 0, 'filename': 'object_generated1376.dat'}, {'label': 'PSK8', 'snr': 0, 'filename': 'object_generated550.dat'}, {'label': 'PSK16', 'snr': 0, 'filename': 'object_generated967.dat'}, {'label': 'PSK2', 'snr': 0, 'filename': 'object_generated1372.dat'}, {'label': 'PSK16', 'snr': 0, 'filename': 'object_generated71.dat'}, {'label': 'PSK4', 'snr': 0, 'filename': 'object_generated173.dat'}, {'label': 'QAM16', 'snr': 0, 'filename': 'object_generated1769.dat'}, {'label': 'QAM4', 'snr': 0, 'filename': 'object_generated432.dat'}, {'label': 'QAM64', 'snr': 0, 'filename': 'object_generated578.dat'}, {'label': 'QAM4', 'snr': 0, 'filename': 'object_generated1304.dat'}, {'label': 'QAM16', 'snr': 0, 'filename': 'object_generated1025.dat'}, {'label': 'QAM4', 'snr': 0, 'filename': 'object_generated440.dat'}, {'label': 'QAM16', 'snr': 0, 'filename': 'object_generated1537.dat'}, {'label': 'PSK4', 'snr': 0, 'filename': 'object_generated309.dat'}, {'label': 'PSK2', 'snr': 0, 'filename': 'object_generated620.dat'}, {'label': 'QAM4', 'snr': 0, 'filename': 'object_generated1624.dat'}, {'label': 'PSK2', 'snr': 0, 'filename': 'object_generated1668.dat'}, {'label': 'QAM256', 'snr': 0, 'filename': 'object_generated291.dat'}, {'label': 'PSK8', 'snr': 0, 'filename': 'object_generated990.dat'}, {'label': 'PSK16', 'snr': 0, 'filename': 'object_generated1719.dat'}, {'label': 'PSK8', 'snr': 0, 'filename': 'object_generated326.dat'}, {'label': 'QAM4', 'snr': 0, 'filename': 'object_generated944.dat'}, {'label': 'PSK4', 'snr': 0, 'filename': 'object_generated1677.dat'}, {'label': 'PSK8', 'snr': 0, 'filename': 'object_generated110.dat'}, {'label': 'QAM64', 'snr': 0, 'filename': 'object_generated482.dat'}, {'label': 'QAM64', 'snr': 0, 'filename': 'object_generated162.dat'}, {'label': 'PSK16', 'snr': 0, 'filename': 'object_generated487.dat'}, {'label': 'PSK16', 'snr': 0, 'filename': 'object_generated871.dat'}, {'label': 'QAM4', 'snr': 0, 'filename': 'object_generated1712.dat'}, {'label': 'PSK2', 'snr': 0, 'filename': 'object_generated1332.dat'}, {'label': 'PSK16', 'snr': 0, 'filename': 'object_generated839.dat'}, {'label': 'PSK8', 'snr': 0, 'filename': 'object_generated886.dat'}, {'label': 'QAM4', 'snr': 0, 'filename': 'object_generated824.dat'}, {'label': 'PSK4', 'snr': 0, 'filename': 'object_generated1685.dat'}, {'label': 'QAM4', 'snr': 0, 'filename': 'object_generated216.dat'}, {'label': 'PSK2', 'snr': 0, 'filename': 'object_generated1652.dat'}, {'label': 'QAM64', 'snr': 0, 'filename': 'object_generated1322.dat'}, {'label': 'QAM16', 'snr': 0, 'filename': 'object_generated513.dat'}, {'label': 'PSK16', 'snr': 0, 'filename': 'object_generated1647.dat'}, {'label': 'PSK16', 'snr': 0, 'filename': 'object_generated167.dat'}, {'label': 'QAM4', 'snr': 0, 'filename': 'object_generated1208.dat'}, {'label': 'QAM4', 'snr': 0, 'filename': 'object_generated112.dat'}, {'label': 'PSK2', 'snr': 0, 'filename': 'object_generated212.dat'}, {'label': 'PSK16', 'snr': 0, 'filename': 'object_generated1727.dat'}, {'label': 'PSK16', 'snr': 0, 'filename': 'object_generated1231.dat'}, {'label': 'PSK8', 'snr': 0, 'filename': 'object_generated294.dat'}, {'label': 'QAM256', 'snr': 0, 'filename': 'object_generated1459.dat'}, {'label': 'QAM64', 'snr': 0, 'filename': 'object_generated1642.dat'}, {'label': 'QAM4', 'snr': 0, 'filename': 'object_generated728.dat'}, {'label': 'QAM64', 'snr': 0, 'filename': 'object_generated594.dat'}, {'label': 'QAM256', 'snr': 0, 'filename': 'object_generated1243.dat'}, {'label': 'PSK4', 'snr': 0, 'filename': 'object_generated797.dat'}, {'label': 'QAM16', 'snr': 0, 'filename': 'object_generated569.dat'}, {'label': 'QAM4', 'snr': 0, 'filename': 'object_generated952.dat'}, {'label': 'QAM4', 'snr': 0, 'filename': 'object_generated1288.dat'}, {'label': 'QAM4', 'snr': 0, 'filename': 'object_generated1616.dat'}, {'label': 'QAM64', 'snr': 0, 'filename': 'object_generated1746.dat'}, {'label': 'QAM16', 'snr': 0, 'filename': 'object_generated1065.dat'}, {'label': 'QAM64', 'snr': 0, 'filename': 'object_generated794.dat'}, {'label': 'PSK2', 'snr': 0, 'filename': 'object_generated508.dat'}, {'label': 'QAM4', 'snr': 0, 'filename': 'object_generated1448.dat'}, {'label': 'PSK8', 'snr': 0, 'filename': 'object_generated878.dat'}, {'label': 'QAM4', 'snr': 0, 'filename': 'object_generated1328.dat'}, {'label': 'QAM256', 'snr': 0, 'filename': 'object_generated979.dat'}, {'label': 'PSK2', 'snr': 0, 'filename': 'object_generated1292.dat'}, {'label': 'QAM16', 'snr': 0, 'filename': 'object_generated601.dat'}, {'label': 'PSK16', 'snr': 0, 'filename': 'object_generated447.dat'}, {'label': 'PSK16', 'snr': 0, 'filename': 'object_generated455.dat'}, {'label': 'QAM16', 'snr': 0, 'filename': 'object_generated657.dat'}, {'label': 'QAM64', 'snr': 0, 'filename': 'object_generated1314.dat'}, {'label': 'QAM4', 'snr': 0, 'filename': 'object_generated688.dat'}, {'label': 'PSK4', 'snr': 0, 'filename': 'object_generated109.dat'}, {'label': 'PSK8', 'snr': 0, 'filename': 'object_generated166.dat'}, {'label': 'QAM4', 'snr': 0, 'filename': 'object_generated1752.dat'}, {'label': 'PSK16', 'snr': 0, 'filename': 'object_generated367.dat'}, {'label': 'PSK16', 'snr': 0, 'filename': 'object_generated1295.dat'}, {'label': 'PSK16', 'snr': 0, 'filename': 'object_generated375.dat'}, {'label': 'QAM256', 'snr': 0, 'filename': 'object_generated379.dat'}, {'label': 'PSK4', 'snr': 0, 'filename': 'object_generated693.dat'}, {'label': 'QAM256', 'snr': 0, 'filename': 'object_generated1179.dat'}, {'label': 'QAM16', 'snr': 0, 'filename': 'object_generated793.dat'}, {'label': 'PSK8', 'snr': 0, 'filename': 'object_generated742.dat'}, {'label': 'PSK8', 'snr': 0, 'filename': 'object_generated1598.dat'}, {'label': 'QAM64', 'snr': 0, 'filename': 'object_generated1218.dat'}, {'label': 'PSK16', 'snr': 0, 'filename': 'object_generated1463.dat'}, {'label': 'QAM16', 'snr': 0, 'filename': 'object_generated129.dat'}, {'label': 'PSK16', 'snr': 0, 'filename': 'object_generated671.dat'}, {'label': 'PSK16', 'snr': 0, 'filename': 'object_generated415.dat'}, {'label': 'PSK4', 'snr': 0, 'filename': 'object_generated1061.dat'}, {'label': 'QAM64', 'snr': 0, 'filename': 'object_generated2.dat'}, {'label': 'QAM16', 'snr': 0, 'filename': 'object_generated1673.dat'}, {'label': 'QAM16', 'snr': 0, 'filename': 'object_generated1601.dat'}, {'label': 'PSK2', 'snr': 0, 'filename': 'object_generated1268.dat'}, {'label': 'QAM16', 'snr': 0, 'filename': 'object_generated1561.dat'}, {'label': 'QAM256', 'snr': 0, 'filename': 'object_generated99.dat'}, {'label': 'QAM16', 'snr': 0, 'filename': 'object_generated969.dat'}, {'label': 'QAM256', 'snr': 0, 'filename': 'object_generated659.dat'}, {'label': 'PSK2', 'snr': 0, 'filename': 'object_generated564.dat'}, {'label': 'PSK2', 'snr': 0, 'filename': 'object_generated708.dat'}, {'label': 'PSK2', 'snr': 0, 'filename': 'object_generated1420.dat'}, {'label': 'PSK8', 'snr': 0, 'filename': 'object_generated1758.dat'}, {'label': 'QAM64', 'snr': 0, 'filename': 'object_generated322.dat'}, {'label': 'QAM256', 'snr': 0, 'filename': 'object_generated1267.dat'}, {'label': 'QAM256', 'snr': 0, 'filename': 'object_generated1043.dat'}, {'label': 'QAM256', 'snr': 0, 'filename': 'object_generated811.dat'}, {'label': 'QAM16', 'snr': 0, 'filename': 'object_generated1281.dat'}, {'label': 'PSK16', 'snr': 0, 'filename': 'object_generated959.dat'}, {'label': 'PSK8', 'snr': 0, 'filename': 'object_generated910.dat'}, {'label': 'PSK2', 'snr': 0, 'filename': 'object_generated468.dat'}, {'label': 'PSK4', 'snr': 0, 'filename': 'object_generated381.dat'}, {'label': 'PSK8', 'snr': 0, 'filename': 'object_generated1126.dat'}, {'label': 'PSK2', 'snr': 0, 'filename': 'object_generated716.dat'}, {'label': 'PSK8', 'snr': 0, 'filename': 'object_generated414.dat'}, {'label': 'QAM16', 'snr': 0, 'filename': 'object_generated121.dat'}, {'label': 'PSK2', 'snr': 0, 'filename': 'object_generated700.dat'}, {'label': 'QAM4', 'snr': 0, 'filename': 'object_generated1080.dat'}, {'label': 'QAM4', 'snr': 0, 'filename': 'object_generated1736.dat'}, {'label': 'QAM16', 'snr': 0, 'filename': 'object_generated1689.dat'}, {'label': 'QAM64', 'snr': 0, 'filename': 'object_generated1578.dat'}, {'label': 'QAM64', 'snr': 0, 'filename': 'object_generated1562.dat'}, {'label': 'PSK16', 'snr': 0, 'filename': 'object_generated1007.dat'}, {'label': 'PSK2', 'snr': 0, 'filename': 'object_generated1204.dat'}, {'label': 'PSK16', 'snr': 0, 'filename': 'object_generated975.dat'}, {'label': 'QAM256', 'snr': 0, 'filename': 'object_generated459.dat'}, {'label': 'PSK2', 'snr': 0, 'filename': 'object_generated300.dat'}, {'label': 'PSK4', 'snr': 0, 'filename': 'object_generated1533.dat'}, {'label': 'PSK16', 'snr': 0, 'filename': 'object_generated735.dat'}, {'label': 'QAM64', 'snr': 0, 'filename': 'object_generated618.dat'}, {'label': 'QAM64', 'snr': 0, 'filename': 'object_generated850.dat'}, {'label': 'QAM16', 'snr': 0, 'filename': 'object_generated697.dat'}, {'label': 'PSK4', 'snr': 0, 'filename': 'object_generated157.dat'}, {'label': 'QAM4', 'snr': 0, 'filename': 'object_generated736.dat'}, {'label': 'PSK16', 'snr': 0, 'filename': 'object_generated1303.dat'}, {'label': 'PSK16', 'snr': 0, 'filename': 'object_generated223.dat'}, {'label': 'QAM256', 'snr': 0, 'filename': 'object_generated403.dat'}, {'label': 'PSK8', 'snr': 0, 'filename': 'object_generated310.dat'}, {'label': 'QAM16', 'snr': 0, 'filename': 'object_generated561.dat'}, {'label': 'PSK4', 'snr': 0, 'filename': 'object_generated885.dat'}, {'label': 'PSK2', 'snr': 0, 'filename': 'object_generated916.dat'}, {'label': 'QAM256', 'snr': 0, 'filename': 'object_generated563.dat'}, {'label': 'QAM16', 'snr': 0, 'filename': 'object_generated393.dat'}, {'label': 'PSK2', 'snr': 0, 'filename': 'object_generated1444.dat'}, {'label': 'QAM16', 'snr': 0, 'filename': 'object_generated313.dat'}, {'label': 'PSK8', 'snr': 0, 'filename': 'object_generated1294.dat'}, {'label': 'QAM64', 'snr': 0, 'filename': 'object_generated922.dat'}, {'label': 'QAM64', 'snr': 0, 'filename': 'object_generated1498.dat'}, {'label': 'QAM64', 'snr': 0, 'filename': 'object_generated898.dat'}, {'label': 'QAM4', 'snr': 0, 'filename': 'object_generated424.dat'}, {'label': 'PSK8', 'snr': 0, 'filename': 'object_generated70.dat'}, {'label': 'PSK8', 'snr': 0, 'filename': 'object_generated662.dat'}, {'label': 'QAM64', 'snr': 0, 'filename': 'object_generated402.dat'}, {'label': 'PSK8', 'snr': 0, 'filename': 'object_generated1518.dat'}, {'label': 'PSK4', 'snr': 0, 'filename': 'object_generated1477.dat'}, {'label': 'QAM256', 'snr': 0, 'filename': 'object_generated75.dat'}, {'label': 'PSK8', 'snr': 0, 'filename': 'object_generated1750.dat'}, {'label': 'PSK8', 'snr': 0, 'filename': 'object_generated238.dat'}, {'label': 'PSK16', 'snr': 0, 'filename': 'object_generated95.dat'}, {'label': 'PSK16', 'snr': 0, 'filename': 'object_generated823.dat'}, {'label': 'QAM16', 'snr': 0, 'filename': 'object_generated1513.dat'}, {'label': 'PSK16', 'snr': 0, 'filename': 'object_generated1471.dat'}, {'label': 'PSK16', 'snr': 0, 'filename': 'object_generated711.dat'}, {'label': 'QAM4', 'snr': 0, 'filename': 'object_generated1072.dat'}, {'label': 'QAM64', 'snr': 0, 'filename': 'object_generated338.dat'}, {'label': 'PSK2', 'snr': 0, 'filename': 'object_generated100.dat'}, {'label': 'QAM256', 'snr': 0, 'filename': 'object_generated1707.dat'}, {'label': 'QAM16', 'snr': 0, 'filename': 'object_generated1553.dat'}, {'label': 'QAM4', 'snr': 0, 'filename': 'object_generated1432.dat'}, {'label': 'PSK8', 'snr': 0, 'filename': 'object_generated1278.dat'}, {'label': 'PSK2', 'snr': 0, 'filename': 'object_generated772.dat'}, {'label': 'QAM4', 'snr': 0, 'filename': 'object_generated1264.dat'}, {'label': 'QAM64', 'snr': 0, 'filename': 'object_generated770.dat'}, {'label': 'PSK16', 'snr': 0, 'filename': 'object_generated919.dat'}, {'label': 'PSK2', 'snr': 0, 'filename': 'object_generated964.dat'}, {'label': 'PSK2', 'snr': 0, 'filename': 'object_generated676.dat'}, {'label': 'QAM16', 'snr': 0, 'filename': 'object_generated1273.dat'}, {'label': 'QAM4', 'snr': 0, 'filename': 'object_generated1648.dat'}, {'label': 'QAM64', 'snr': 0, 'filename': 'object_generated738.dat'}, {'label': 'PSK16', 'snr': 0, 'filename': 'object_generated1799.dat'}, {'label': 'PSK4', 'snr': 0, 'filename': 'object_generated1413.dat'}, {'label': 'QAM64', 'snr': 0, 'filename': 'object_generated1098.dat'}, {'label': 'QAM256', 'snr': 0, 'filename': 'object_generated211.dat'}, {'label': 'PSK4', 'snr': 0, 'filename': 'object_generated1189.dat'}, {'label': 'PSK4', 'snr': 0, 'filename': 'object_generated293.dat'}, {'label': 'QAM64', 'snr': 0, 'filename': 'object_generated826.dat'}, {'label': 'PSK8', 'snr': 0, 'filename': 'object_generated1326.dat'}, {'label': 'PSK8', 'snr': 0, 'filename': 'object_generated862.dat'}, {'label': 'QAM16', 'snr': 0, 'filename': 'object_generated1657.dat'}, {'label': 'QAM256', 'snr': 0, 'filename': 'object_generated1363.dat'}, {'label': 'QAM16', 'snr': 0, 'filename': 'object_generated929.dat'}, {'label': 'PSK2', 'snr': 0, 'filename': 'object_generated340.dat'}, {'label': 'QAM64', 'snr': 0, 'filename': 'object_generated1794.dat'}, {'label': 'PSK2', 'snr': 0, 'filename': 'object_generated292.dat'}, {'label': 'QAM64', 'snr': 0, 'filename': 'object_generated386.dat'}, {'label': 'PSK16', 'snr': 0, 'filename': 'object_generated103.dat'}, {'label': 'QAM64', 'snr': 0, 'filename': 'object_generated290.dat'}, {'label': 'QAM16', 'snr': 0, 'filename': 'object_generated1473.dat'}, {'label': 'PSK8', 'snr': 0, 'filename': 'object_generated1182.dat'}, {'label': 'QAM16', 'snr': 0, 'filename': 'object_generated1377.dat'}, {'label': 'PSK16', 'snr': 0, 'filename': 'object_generated1039.dat'}, {'label': 'PSK16', 'snr': 0, 'filename': 'object_generated1047.dat'}, {'label': 'QAM64', 'snr': 0, 'filename': 'object_generated1634.dat'}, {'label': 'QAM4', 'snr': 0, 'filename': 'object_generated1728.dat'}, {'label': 'PSK4', 'snr': 0, 'filename': 'object_generated285.dat'}, {'label': 'PSK8', 'snr': 0, 'filename': 'object_generated1774.dat'}, {'label': 'PSK4', 'snr': 0, 'filename': 'object_generated1237.dat'}, {'label': 'QAM256', 'snr': 0, 'filename': 'object_generated1291.dat'}, {'label': 'PSK8', 'snr': 0, 'filename': 'object_generated1222.dat'}, {'label': 'PSK16', 'snr': 0, 'filename': 'object_generated399.dat'}, {'label': 'QAM4', 'snr': 0, 'filename': 'object_generated880.dat'}, {'label': 'QAM256', 'snr': 0, 'filename': 'object_generated643.dat'}, {'label': 'PSK8', 'snr': 0, 'filename': 'object_generated1726.dat'}, {'label': 'QAM256', 'snr': 0, 'filename': 'object_generated1379.dat'}, {'label': 'PSK16', 'snr': 0, 'filename': 'object_generated1551.dat'}, {'label': 'PSK4', 'snr': 0, 'filename': 'object_generated1629.dat'}, {'label': 'QAM4', 'snr': 0, 'filename': 'object_generated1392.dat'}, {'label': 'PSK16', 'snr': 0, 'filename': 'object_generated1271.dat'}, {'label': 'QAM4', 'snr': 0, 'filename': 'object_generated608.dat'}, {'label': 'QAM4', 'snr': 0, 'filename': 'object_generated1656.dat'}, {'label': 'QAM16', 'snr': 0, 'filename': 'object_generated1713.dat'}, {'label': 'PSK4', 'snr': 0, 'filename': 'object_generated589.dat'}, {'label': 'QAM64', 'snr': 0, 'filename': 'object_generated1386.dat'}, {'label': 'PSK2', 'snr': 0, 'filename': 'object_generated1140.dat'}, {'label': 'QAM256', 'snr': 0, 'filename': 'object_generated531.dat'}, {'label': 'QAM16', 'snr': 0, 'filename': 'object_generated257.dat'}, {'label': 'QAM64', 'snr': 0, 'filename': 'object_generated986.dat'}, {'label': 'PSK2', 'snr': 0, 'filename': 'object_generated580.dat'}, {'label': 'QAM16', 'snr': 0, 'filename': 'object_generated65.dat'}, {'label': 'QAM64', 'snr': 0, 'filename': 'object_generated66.dat'}, {'label': 'QAM16', 'snr': 0, 'filename': 'object_generated217.dat'}, {'label': 'QAM64', 'snr': 0, 'filename': 'object_generated1138.dat'}, {'label': 'QAM64', 'snr': 0, 'filename': 'object_generated186.dat'}, {'label': 'QAM64', 'snr': 0, 'filename': 'object_generated666.dat'}, {'label': 'QAM64', 'snr': 0, 'filename': 'object_generated1074.dat'}, {'label': 'PSK16', 'snr': 0, 'filename': 'object_generated431.dat'}, {'label': 'QAM16', 'snr': 0, 'filename': 'object_generated1665.dat'}, {'label': 'PSK4', 'snr': 0, 'filename': 'object_generated1581.dat'}, {'label': 'QAM256', 'snr': 0, 'filename': 'object_generated1603.dat'}, {'label': 'PSK8', 'snr': 0, 'filename': 'object_generated1470.dat'}, {'label': 'QAM4', 'snr': 0, 'filename': 'object_generated80.dat'}, {'label': 'QAM64', 'snr': 0, 'filename': 'object_generated218.dat'}, {'label': 'QAM256', 'snr': 0, 'filename': 'object_generated1091.dat'}, {'label': 'QAM16', 'snr': 0, 'filename': 'object_generated457.dat'}, {'label': 'PSK4', 'snr': 0, 'filename': 'object_generated1293.dat'}, {'label': 'QAM16', 'snr': 0, 'filename': 'object_generated137.dat'}, {'label': 'PSK8', 'snr': 0, 'filename': 'object_generated78.dat'}, {'label': 'QAM256', 'snr': 0, 'filename': 'object_generated675.dat'}, {'label': 'QAM64', 'snr': 0, 'filename': 'object_generated1418.dat'}, {'label': 'PSK16', 'snr': 0, 'filename': 'object_generated423.dat'}, {'label': 'QAM4', 'snr': 0, 'filename': 'object_generated1064.dat'}, {'label': 'PSK8', 'snr': 0, 'filename': 'object_generated1174.dat'}, {'label': 'PSK4', 'snr': 0, 'filename': 'object_generated493.dat'}, {'label': 'QAM64', 'snr': 0, 'filename': 'object_generated970.dat'}, {'label': 'QAM4', 'snr': 0, 'filename': 'object_generated1048.dat'}, {'label': 'PSK8', 'snr': 0, 'filename': 'object_generated926.dat'}, {'label': 'PSK8', 'snr': 0, 'filename': 'object_generated334.dat'}, {'label': 'PSK2', 'snr': 0, 'filename': 'object_generated1732.dat'}, {'label': 'PSK4', 'snr': 0, 'filename': 'object_generated1333.dat'}, {'label': 'PSK2', 'snr': 0, 'filename': 'object_generated172.dat'}, {'label': 'QAM4', 'snr': 0, 'filename': 'object_generated664.dat'}, {'label': 'QAM16', 'snr': 0, 'filename': 'object_generated913.dat'}, {'label': 'QAM16', 'snr': 0, 'filename': 'object_generated705.dat'}, {'label': 'QAM64', 'snr': 0, 'filename': 'object_generated1658.dat'}, {'label': 'PSK8', 'snr': 0, 'filename': 'object_generated454.dat'}, {'label': 'PSK2', 'snr': 0, 'filename': 'object_generated1340.dat'}, {'label': 'QAM256', 'snr': 0, 'filename': 'object_generated371.dat'}, {'label': 'QAM256', 'snr': 0, 'filename': 'object_generated1627.dat'}, {'label': 'PSK16', 'snr': 0, 'filename': 'object_generated751.dat'}, {'label': 'PSK16', 'snr': 0, 'filename': 'object_generated935.dat'}, {'label': 'QAM16', 'snr': 0, 'filename': 'object_generated1489.dat'}, {'label': 'PSK8', 'snr': 0, 'filename': 'object_generated1526.dat'}, {'label': 'QAM64', 'snr': 0, 'filename': 'object_generated226.dat'}, {'label': 'PSK4', 'snr': 0, 'filename': 'object_generated461.dat'}, {'label': 'QAM16', 'snr': 0, 'filename': 'object_generated729.dat'}, {'label': 'QAM64', 'snr': 0, 'filename': 'object_generated1050.dat'}, {'label': 'PSK4', 'snr': 0, 'filename': 'object_generated133.dat'}, {'label': 'PSK2', 'snr': 0, 'filename': 'object_generated644.dat'}, {'label': 'PSK16', 'snr': 0, 'filename': 'object_generated383.dat'}, {'label': 'QAM256', 'snr': 0, 'filename': 'object_generated1395.dat'}, {'label': 'PSK16', 'snr': 0, 'filename': 'object_generated1439.dat'}, {'label': 'PSK4', 'snr': 0, 'filename': 'object_generated677.dat'}, {'label': 'PSK16', 'snr': 0, 'filename': 'object_generated247.dat'}, {'label': 'PSK8', 'snr': 0, 'filename': 'object_generated262.dat'}, {'label': 'QAM4', 'snr': 0, 'filename': 'object_generated920.dat'}, {'label': 'PSK2', 'snr': 0, 'filename': 'object_generated1228.dat'}, {'label': 'QAM64', 'snr': 0, 'filename': 'object_generated1146.dat'}, {'label': 'QAM4', 'snr': 0, 'filename': 'object_generated712.dat'}, {'label': 'PSK16', 'snr': 0, 'filename': 'object_generated215.dat'}, {'label': 'PSK4', 'snr': 0, 'filename': 'object_generated613.dat'}, {'label': 'QAM4', 'snr': 0, 'filename': 'object_generated544.dat'}, {'label': 'QAM4', 'snr': 0, 'filename': 'object_generated1232.dat'}, {'label': 'QAM64', 'snr': 0, 'filename': 'object_generated1450.dat'}, {'label': 'PSK2', 'snr': 0, 'filename': 'object_generated572.dat'}, {'label': 'QAM256', 'snr': 0, 'filename': 'object_generated1723.dat'}, {'label': 'PSK4', 'snr': 0, 'filename': 'object_generated765.dat'}, {'label': 'PSK16', 'snr': 0, 'filename': 'object_generated1479.dat'}, {'label': 'PSK16', 'snr': 0, 'filename': 'object_generated1575.dat'}, {'label': 'QAM4', 'snr': 0, 'filename': 'object_generated480.dat'}, {'label': 'PSK16', 'snr': 0, 'filename': 'object_generated1447.dat'}, {'label': 'QAM256', 'snr': 0, 'filename': 'object_generated331.dat'}, {'label': 'QAM256', 'snr': 0, 'filename': 'object_generated475.dat'}, {'label': 'PSK2', 'snr': 0, 'filename': 'object_generated796.dat'}, {'label': 'QAM4', 'snr': 0, 'filename': 'object_generated912.dat'}, {'label': 'PSK8', 'snr': 0, 'filename': 'object_generated46.dat'}, {'label': 'QAM4', 'snr': 0, 'filename': 'object_generated1192.dat'}, {'label': 'PSK2', 'snr': 0, 'filename': 'object_generated348.dat'}, {'label': 'PSK4', 'snr': 0, 'filename': 'object_generated773.dat'}, {'label': 'PSK4', 'snr': 0, 'filename': 'object_generated237.dat'}, {'label': 'QAM4', 'snr': 0, 'filename': 'object_generated1016.dat'}, {'label': 'QAM64', 'snr': 0, 'filename': 'object_generated98.dat'}, {'label': 'QAM16', 'snr': 0, 'filename': 'object_generated1761.dat'}, {'label': 'PSK4', 'snr': 0, 'filename': 'object_generated1509.dat'}, {'label': 'QAM4', 'snr': 0, 'filename': 'object_generated472.dat'}, {'label': 'PSK16', 'snr': 0, 'filename': 'object_generated527.dat'}, {'label': 'PSK8', 'snr': 0, 'filename': 'object_generated830.dat'}, {'label': 'QAM16', 'snr': 0, 'filename': 'object_generated625.dat'}, {'label': 'QAM4', 'snr': 0, 'filename': 'object_generated1200.dat'}, {'label': 'PSK8', 'snr': 0, 'filename': 'object_generated790.dat'}, {'label': 'QAM256', 'snr': 0, 'filename': 'object_generated731.dat'}, {'label': 'PSK2', 'snr': 0, 'filename': 'object_generated196.dat'}, {'label': 'PSK2', 'snr': 0, 'filename': 'object_generated940.dat'}, {'label': 'PSK4', 'snr': 0, 'filename': 'object_generated1693.dat'}, {'label': 'QAM64', 'snr': 0, 'filename': 'object_generated114.dat'}, {'label': 'QAM16', 'snr': 0, 'filename': 'object_generated873.dat'}, {'label': 'PSK8', 'snr': 0, 'filename': 'object_generated934.dat'}, {'label': 'QAM64', 'snr': 0, 'filename': 'object_generated490.dat'}, {'label': 'QAM4', 'snr': 0, 'filename': 'object_generated1512.dat'}, {'label': 'PSK8', 'snr': 0, 'filename': 'object_generated614.dat'}, {'label': 'QAM256', 'snr': 0, 'filename': 'object_generated1571.dat'}, {'label': 'QAM256', 'snr': 0, 'filename': 'object_generated451.dat'}, {'label': 'PSK2', 'snr': 0, 'filename': 'object_generated380.dat'}, {'label': 'PSK4', 'snr': 0, 'filename': 'object_generated1309.dat'}, {'label': 'PSK4', 'snr': 0, 'filename': 'object_generated1741.dat'}, {'label': 'QAM256', 'snr': 0, 'filename': 'object_generated947.dat'}, {'label': 'PSK8', 'snr': 0, 'filename': 'object_generated718.dat'}, {'label': 'PSK2', 'snr': 0, 'filename': 'object_generated268.dat'}, {'label': 'PSK16', 'snr': 0, 'filename': 'object_generated903.dat'}, {'label': 'QAM4', 'snr': 0, 'filename': 'object_generated1008.dat'}, {'label': 'QAM64', 'snr': 0, 'filename': 'object_generated1258.dat'}, {'label': 'PSK2', 'snr': 0, 'filename': 'object_generated788.dat'}, {'label': 'PSK8', 'snr': 0, 'filename': 'object_generated838.dat'}, {'label': 'QAM256', 'snr': 0, 'filename': 'object_generated387.dat'}, {'label': 'QAM256', 'snr': 0, 'filename': 'object_generated1195.dat'}, {'label': 'QAM16', 'snr': 0, 'filename': 'object_generated1297.dat'}, {'label': 'QAM16', 'snr': 0, 'filename': 'object_generated265.dat'}, {'label': 'QAM4', 'snr': 0, 'filename': 'object_generated656.dat'}, {'label': 'QAM256', 'snr': 0, 'filename': 'object_generated1155.dat'}, {'label': 'QAM4', 'snr': 0, 'filename': 'object_generated400.dat'}, {'label': 'PSK16', 'snr': 0, 'filename': 'object_generated439.dat'}, {'label': 'PSK4', 'snr': 0, 'filename': 'object_generated1029.dat'}, {'label': 'QAM4', 'snr': 0, 'filename': 'object_generated504.dat'}, {'label': 'PSK2', 'snr': 0, 'filename': 'object_generated500.dat'}, {'label': 'QAM16', 'snr': 0, 'filename': 'object_generated241.dat'}, {'label': 'QAM4', 'snr': 0, 'filename': 'object_generated184.dat'}, {'label': 'QAM64', 'snr': 0, 'filename': 'object_generated258.dat'}, {'label': 'QAM16', 'snr': 0, 'filename': 'object_generated1633.dat'}, {'label': 'PSK8', 'snr': 0, 'filename': 'object_generated1486.dat'}, {'label': 'PSK8', 'snr': 0, 'filename': 'object_generated774.dat'}, {'label': 'PSK2', 'snr': 0, 'filename': 'object_generated1612.dat'}, {'label': 'QAM16', 'snr': 0, 'filename': 'object_generated609.dat'}, {'label': 'PSK8', 'snr': 0, 'filename': 'object_generated1078.dat'}, {'label': 'PSK16', 'snr': 0, 'filename': 'object_generated1199.dat'}, {'label': 'PSK16', 'snr': 0, 'filename': 'object_generated1511.dat'}, {'label': 'QAM64', 'snr': 0, 'filename': 'object_generated1738.dat'}, {'label': 'QAM4', 'snr': 0, 'filename': 'object_generated1472.dat'}, {'label': 'PSK8', 'snr': 0, 'filename': 'object_generated30.dat'}, {'label': 'PSK4', 'snr': 0, 'filename': 'object_generated45.dat'}, {'label': 'PSK16', 'snr': 0, 'filename': 'object_generated1399.dat'}, {'label': 'QAM64', 'snr': 0, 'filename': 'object_generated1394.dat'}, {'label': 'PSK2', 'snr': 0, 'filename': 'object_generated1276.dat'}, {'label': 'PSK8', 'snr': 0, 'filename': 'object_generated174.dat'}, {'label': 'PSK8', 'snr': 0, 'filename': 'object_generated758.dat'}, {'label': 'PSK2', 'snr': 0, 'filename': 'object_generated1772.dat'}, {'label': 'PSK4', 'snr': 0, 'filename': 'object_generated1621.dat'}, {'label': 'QAM64', 'snr': 0, 'filename': 'object_generated722.dat'}, {'label': 'PSK2', 'snr': 0, 'filename': 'object_generated428.dat'}, {'label': 'PSK8', 'snr': 0, 'filename': 'object_generated142.dat'}, {'label': 'QAM4', 'snr': 0, 'filename': 'object_generated1248.dat'}, {'label': 'QAM4', 'snr': 0, 'filename': 'object_generated1504.dat'}, {'label': 'QAM256', 'snr': 0, 'filename': 'object_generated1387.dat'}, {'label': 'QAM256', 'snr': 0, 'filename': 'object_generated683.dat'}, {'label': 'PSK8', 'snr': 0, 'filename': 'object_generated1734.dat'}, {'label': 'QAM256', 'snr': 0, 'filename': 'object_generated1403.dat'}, {'label': 'QAM256', 'snr': 0, 'filename': 'object_generated1611.dat'}, {'label': 'QAM4', 'snr': 0, 'filename': 'object_generated1520.dat'}, {'label': 'QAM64', 'snr': 0, 'filename': 'object_generated1330.dat'}, {'label': 'QAM16', 'snr': 0, 'filename': 'object_generated1049.dat'}, {'label': 'PSK16', 'snr': 0, 'filename': 'object_generated15.dat'}, {'label': 'PSK4', 'snr': 0, 'filename': 'object_generated917.dat'}, {'label': 'QAM256', 'snr': 0, 'filename': 'object_generated1147.dat'}, {'label': 'QAM4', 'snr': 0, 'filename': 'object_generated128.dat'}, {'label': 'PSK8', 'snr': 0, 'filename': 'object_generated230.dat'}, {'label': 'QAM64', 'snr': 0, 'filename': 'object_generated1194.dat'}, {'label': 'PSK2', 'snr': 0, 'filename': 'object_generated148.dat'}, {'label': 'PSK8', 'snr': 0, 'filename': 'object_generated1494.dat'}, {'label': 'QAM16', 'snr': 0, 'filename': 'object_generated1745.dat'}, {'label': 'PSK4', 'snr': 0, 'filename': 'object_generated1117.dat'}, {'label': 'QAM256', 'snr': 0, 'filename': 'object_generated1579.dat'}, {'label': 'PSK16', 'snr': 0, 'filename': 'object_generated1527.dat'}, {'label': 'PSK16', 'snr': 0, 'filename': 'object_generated687.dat'}, {'label': 'PSK8', 'snr': 0, 'filename': 'object_generated1350.dat'}, {'label': 'PSK16', 'snr': 0, 'filename': 'object_generated47.dat'}, {'label': 'QAM4', 'snr': 0, 'filename': 'object_generated360.dat'}, {'label': 'PSK16', 'snr': 0, 'filename': 'object_generated807.dat'}, {'label': 'QAM64', 'snr': 0, 'filename': 'object_generated42.dat'}, {'label': 'QAM256', 'snr': 0, 'filename': 'object_generated819.dat'}, {'label': 'QAM4', 'snr': 0, 'filename': 'object_generated800.dat'}, {'label': 'QAM16', 'snr': 0, 'filename': 'object_generated1529.dat'}, {'label': 'PSK2', 'snr': 0, 'filename': 'object_generated420.dat'}, {'label': 'QAM16', 'snr': 0, 'filename': 'object_generated297.dat'}, {'label': 'PSK8', 'snr': 0, 'filename': 'object_generated1694.dat'}, {'label': 'PSK16', 'snr': 0, 'filename': 'object_generated1735.dat'}, {'label': 'PSK16', 'snr': 0, 'filename': 'object_generated135.dat'}, {'label': 'QAM256', 'snr': 0, 'filename': 'object_generated1203.dat'}, {'label': 'QAM16', 'snr': 0, 'filename': 'object_generated1593.dat'}, {'label': 'PSK16', 'snr': 0, 'filename': 'object_generated1183.dat'}, {'label': 'QAM16', 'snr': 0, 'filename': 'object_generated1425.dat'}, {'label': 'PSK16', 'snr': 0, 'filename': 'object_generated1567.dat'}, {'label': 'PSK2', 'snr': 0, 'filename': 'object_generated1508.dat'}, {'label': 'PSK2', 'snr': 0, 'filename': 'object_generated1052.dat'}, {'label': 'PSK8', 'snr': 0, 'filename': 'object_generated158.dat'}, {'label': 'PSK4', 'snr': 0, 'filename': 'object_generated565.dat'}, {'label': 'PSK2', 'snr': 0, 'filename': 'object_generated1132.dat'}, {'label': 'QAM256', 'snr': 0, 'filename': 'object_generated539.dat'}, {'label': 'PSK8', 'snr': 0, 'filename': 'object_generated286.dat'}, {'label': 'PSK4', 'snr': 0, 'filename': 'object_generated853.dat'}, {'label': 'QAM16', 'snr': 0, 'filename': 'object_generated905.dat'}, {'label': 'QAM4', 'snr': 0, 'filename': 'object_generated104.dat'}, {'label': 'QAM16', 'snr': 0, 'filename': 'object_generated617.dat'}, {'label': 'PSK8', 'snr': 0, 'filename': 'object_generated1134.dat'}, {'label': 'PSK8', 'snr': 0, 'filename': 'object_generated14.dat'}, {'label': 'PSK8', 'snr': 0, 'filename': 'object_generated1166.dat'}, {'label': 'PSK4', 'snr': 0, 'filename': 'object_generated341.dat'}, {'label': 'QAM256', 'snr': 0, 'filename': 'object_generated1131.dat'}, {'label': 'PSK16', 'snr': 0, 'filename': 'object_generated1687.dat'}, {'label': 'PSK8', 'snr': 0, 'filename': 'object_generated1502.dat'}, {'label': 'QAM4', 'snr': 0, 'filename': 'object_generated968.dat'}, {'label': 'PSK2', 'snr': 0, 'filename': 'object_generated1780.dat'}, {'label': 'PSK8', 'snr': 0, 'filename': 'object_generated1654.dat'}, {'label': 'QAM16', 'snr': 0, 'filename': 'object_generated113.dat'}, {'label': 'QAM4', 'snr': 0, 'filename': 'object_generated1152.dat'}, {'label': 'PSK16', 'snr': 0, 'filename': 'object_generated1343.dat'}, {'label': 'PSK8', 'snr': 0, 'filename': 'object_generated1590.dat'}, {'label': 'PSK16', 'snr': 0, 'filename': 'object_generated1519.dat'}, {'label': 'QAM64', 'snr': 0, 'filename': 'object_generated570.dat'}, {'label': 'QAM64', 'snr': 0, 'filename': 'object_generated1514.dat'}, {'label': 'PSK16', 'snr': 0, 'filename': 'object_generated1319.dat'}, {'label': 'QAM256', 'snr': 0, 'filename': 'object_generated1419.dat'}, {'label': 'PSK16', 'snr': 0, 'filename': 'object_generated647.dat'}, {'label': 'QAM4', 'snr': 0, 'filename': 'object_generated312.dat'}, {'label': 'QAM256', 'snr': 0, 'filename': 'object_generated1075.dat'}, {'label': 'PSK2', 'snr': 0, 'filename': 'object_generated60.dat'}, {'label': 'QAM256', 'snr': 0, 'filename': 'object_generated699.dat'}, {'label': 'QAM4', 'snr': 0, 'filename': 'object_generated1256.dat'}, {'label': 'QAM256', 'snr': 0, 'filename': 'object_generated1003.dat'}, {'label': 'PSK8', 'snr': 0, 'filename': 'object_generated486.dat'}, {'label': 'QAM16', 'snr': 0, 'filename': 'object_generated105.dat'}, {'label': 'QAM16', 'snr': 0, 'filename': 'object_generated1265.dat'}, {'label': 'PSK8', 'snr': 0, 'filename': 'object_generated1718.dat'}, {'label': 'QAM256', 'snr': 0, 'filename': 'object_generated1083.dat'}, {'label': 'QAM4', 'snr': 0, 'filename': 'object_generated64.dat'}, {'label': 'PSK16', 'snr': 0, 'filename': 'object_generated463.dat'}, {'label': 'QAM4', 'snr': 0, 'filename': 'object_generated904.dat'}, {'label': 'QAM4', 'snr': 0, 'filename': 'object_generated512.dat'}, {'label': 'PSK8', 'snr': 0, 'filename': 'object_generated526.dat'}, {'label': 'QAM256', 'snr': 0, 'filename': 'object_generated35.dat'}, {'label': 'QAM4', 'snr': 0, 'filename': 'object_generated1400.dat'}, {'label': 'QAM16', 'snr': 0, 'filename': 'object_generated1169.dat'}, {'label': 'QAM64', 'snr': 0, 'filename': 'object_generated74.dat'}, {'label': 'PSK2', 'snr': 0, 'filename': 'object_generated596.dat'}, {'label': 'PSK4', 'snr': 0, 'filename': 'object_generated485.dat'}, {'label': 'PSK16', 'snr': 0, 'filename': 'object_generated143.dat'}, {'label': 'QAM16', 'snr': 0, 'filename': 'object_generated1393.dat'}, {'label': 'PSK4', 'snr': 0, 'filename': 'object_generated1013.dat'}, {'label': 'QAM4', 'snr': 0, 'filename': 'object_generated680.dat'}, {'label': 'PSK2', 'snr': 0, 'filename': 'object_generated972.dat'}, {'label': 'QAM16', 'snr': 0, 'filename': 'object_generated1753.dat'}, {'label': 'QAM16', 'snr': 0, 'filename': 'object_generated1.dat'}, {'label': 'PSK16', 'snr': 0, 'filename': 'object_generated1631.dat'}, {'label': 'PSK4', 'snr': 0, 'filename': 'object_generated405.dat'}, {'label': 'PSK4', 'snr': 0, 'filename': 'object_generated69.dat'}, {'label': 'PSK2', 'snr': 0, 'filename': 'object_generated1548.dat'}, {'label': 'PSK4', 'snr': 0, 'filename': 'object_generated1589.dat'}, {'label': 'QAM16', 'snr': 0, 'filename': 'object_generated1337.dat'}, {'label': 'QAM256', 'snr': 0, 'filename': 'object_generated1227.dat'}, {'label': 'QAM256', 'snr': 0, 'filename': 'object_generated1443.dat'}, {'label': 'PSK8', 'snr': 0, 'filename': 'object_generated1198.dat'}, {'label': 'PSK8', 'snr': 0, 'filename': 'object_generated950.dat'}, {'label': 'QAM64', 'snr': 0, 'filename': 'object_generated26.dat'}, {'label': 'QAM64', 'snr': 0, 'filename': 'object_generated658.dat'}, {'label': 'QAM64', 'snr': 0, 'filename': 'object_generated1114.dat'}, {'label': 'QAM4', 'snr': 0, 'filename': 'object_generated600.dat'}, {'label': 'PSK8', 'snr': 0, 'filename': 'object_generated814.dat'}, {'label': 'PSK2', 'snr': 0, 'filename': 'object_generated228.dat'}, {'label': 'PSK4', 'snr': 0, 'filename': 'object_generated1093.dat'}, {'label': 'PSK8', 'snr': 0, 'filename': 'object_generated1462.dat'}, {'label': 'QAM16', 'snr': 0, 'filename': 'object_generated1161.dat'}, {'label': 'PSK8', 'snr': 0, 'filename': 'object_generated1214.dat'}, {'label': 'PSK16', 'snr': 0, 'filename': 'object_generated7.dat'}, {'label': 'QAM256', 'snr': 0, 'filename': 'object_generated1299.dat'}, {'label': 'PSK16', 'snr': 0, 'filename': 'object_generated583.dat'}, {'label': 'QAM64', 'snr': 0, 'filename': 'object_generated1338.dat'}, {'label': 'QAM256', 'snr': 0, 'filename': 'object_generated1699.dat'}, {'label': 'PSK8', 'snr': 0, 'filename': 'object_generated798.dat'}, {'label': 'QAM4', 'snr': 0, 'filename': 'object_generated392.dat'}, {'label': 'QAM256', 'snr': 0, 'filename': 'object_generated883.dat'}, {'label': 'PSK8', 'snr': 0, 'filename': 'object_generated998.dat'}, {'label': 'QAM4', 'snr': 0, 'filename': 'object_generated1632.dat'}, {'label': 'PSK2', 'snr': 0, 'filename': 'object_generated1700.dat'}, {'label': 'PSK4', 'snr': 0, 'filename': 'object_generated1365.dat'}, {'label': 'QAM4', 'snr': 0, 'filename': 'object_generated1744.dat'}, {'label': 'QAM4', 'snr': 0, 'filename': 'object_generated560.dat'}, {'label': 'QAM16', 'snr': 0, 'filename': 'object_generated1153.dat'}, {'label': 'PSK4', 'snr': 0, 'filename': 'object_generated1157.dat'}, {'label': 'PSK16', 'snr': 0, 'filename': 'object_generated719.dat'}, {'label': 'QAM256', 'snr': 0, 'filename': 'object_generated1507.dat'}, {'label': 'PSK16', 'snr': 0, 'filename': 'object_generated1079.dat'}, {'label': 'QAM16', 'snr': 0, 'filename': 'object_generated1241.dat'}, {'label': 'PSK2', 'snr': 0, 'filename': 'object_generated1724.dat'}, {'label': 'PSK8', 'snr': 0, 'filename': 'object_generated702.dat'}, {'label': 'PSK8', 'snr': 0, 'filename': 'object_generated1766.dat'}, {'label': 'PSK16', 'snr': 0, 'filename': 'object_generated1175.dat'}, {'label': 'PSK8', 'snr': 0, 'filename': 'object_generated1158.dat'}, {'label': 'PSK4', 'snr': 0, 'filename': 'object_generated837.dat'}, {'label': 'PSK16', 'snr': 0, 'filename': 'object_generated1119.dat'}, {'label': 'QAM64', 'snr': 0, 'filename': 'object_generated1506.dat'}, {'label': 'PSK4', 'snr': 0, 'filename': 'object_generated645.dat'}, {'label': 'PSK8', 'snr': 0, 'filename': 'object_generated822.dat'}, {'label': 'QAM64', 'snr': 0, 'filename': 'object_generated746.dat'}, {'label': 'PSK8', 'snr': 0, 'filename': 'object_generated1230.dat'}, {'label': 'PSK16', 'snr': 0, 'filename': 'object_generated567.dat'}, {'label': 'PSK2', 'snr': 0, 'filename': 'object_generated1028.dat'}, {'label': 'QAM256', 'snr': 0, 'filename': 'object_generated955.dat'}, {'label': 'PSK16', 'snr': 0, 'filename': 'object_generated1535.dat'}, {'label': 'PSK16', 'snr': 0, 'filename': 'object_generated543.dat'}, {'label': 'QAM4', 'snr': 0, 'filename': 'object_generated208.dat'}, {'label': 'PSK2', 'snr': 0, 'filename': 'object_generated84.dat'}, {'label': 'PSK4', 'snr': 0, 'filename': 'object_generated1445.dat'}, {'label': 'QAM64', 'snr': 0, 'filename': 'object_generated866.dat'}, {'label': 'QAM256', 'snr': 0, 'filename': 'object_generated627.dat'}, {'label': 'QAM256', 'snr': 0, 'filename': 'object_generated171.dat'}, {'label': 'QAM64', 'snr': 0, 'filename': 'object_generated1522.dat'}, {'label': 'PSK8', 'snr': 0, 'filename': 'object_generated542.dat'}, {'label': 'PSK2', 'snr': 0, 'filename': 'object_generated372.dat'}, {'label': 'PSK16', 'snr': 0, 'filename': 'object_generated1423.dat'}, {'label': 'QAM256', 'snr': 0, 'filename': 'object_generated787.dat'}, {'label': 'PSK4', 'snr': 0, 'filename': 'object_generated125.dat'}, {'label': 'PSK8', 'snr': 0, 'filename': 'object_generated1606.dat'}, {'label': 'QAM256', 'snr': 0, 'filename': 'object_generated1099.dat'}, {'label': 'QAM4', 'snr': 0, 'filename': 'object_generated640.dat'}, {'label': 'QAM4', 'snr': 0, 'filename': 'object_generated976.dat'}, {'label': 'QAM4', 'snr': 0, 'filename': 'object_generated1344.dat'}, {'label': 'QAM16', 'snr': 0, 'filename': 'object_generated401.dat'}, {'label': 'QAM16', 'snr': 0, 'filename': 'object_generated1209.dat'}, {'label': 'QAM16', 'snr': 0, 'filename': 'object_generated577.dat'}, {'label': 'PSK8', 'snr': 0, 'filename': 'object_generated1310.dat'}, {'label': 'QAM64', 'snr': 0, 'filename': 'object_generated802.dat'}, {'label': 'QAM16', 'snr': 0, 'filename': 'object_generated1193.dat'}, {'label': 'PSK2', 'snr': 0, 'filename': 'object_generated1308.dat'}, {'label': 'PSK4', 'snr': 0, 'filename': 'object_generated1285.dat'}, {'label': 'PSK4', 'snr': 0, 'filename': 'object_generated789.dat'}, {'label': 'QAM16', 'snr': 0, 'filename': 'object_generated441.dat'}, {'label': 'QAM256', 'snr': 0, 'filename': 'object_generated1451.dat'}, {'label': 'PSK2', 'snr': 0, 'filename': 'object_generated948.dat'}, {'label': 'QAM16', 'snr': 0, 'filename': 'object_generated1121.dat'}, {'label': 'PSK4', 'snr': 0, 'filename': 'object_generated925.dat'}, {'label': 'QAM64', 'snr': 0, 'filename': 'object_generated954.dat'}, {'label': 'PSK2', 'snr': 0, 'filename': 'object_generated1580.dat'}, {'label': 'PSK8', 'snr': 0, 'filename': 'object_generated446.dat'}, {'label': 'QAM4', 'snr': 0, 'filename': 'object_generated1560.dat'}, {'label': 'PSK4', 'snr': 0, 'filename': 'object_generated1517.dat'}, {'label': 'QAM4', 'snr': 0, 'filename': 'object_generated960.dat'}, {'label': 'PSK4', 'snr': 0, 'filename': 'object_generated1053.dat'}, {'label': 'PSK8', 'snr': 0, 'filename': 'object_generated1646.dat'}, {'label': 'PSK16', 'snr': 0, 'filename': 'object_generated1655.dat'}, {'label': 'PSK8', 'snr': 0, 'filename': 'object_generated854.dat'}, {'label': 'PSK16', 'snr': 0, 'filename': 'object_generated1063.dat'}, {'label': 'PSK8', 'snr': 0, 'filename': 'object_generated974.dat'}, {'label': 'QAM16', 'snr': 0, 'filename': 'object_generated481.dat'}, {'label': 'QAM16', 'snr': 0, 'filename': 'object_generated161.dat'}, {'label': 'PSK4', 'snr': 0, 'filename': 'object_generated701.dat'}, {'label': 'QAM64', 'snr': 0, 'filename': 'object_generated242.dat'}, {'label': 'QAM16', 'snr': 0, 'filename': 'object_generated1081.dat'}, {'label': 'PSK8', 'snr': 0, 'filename': 'object_generated558.dat'}, {'label': 'PSK16', 'snr': 0, 'filename': 'object_generated1695.dat'}, {'label': 'PSK8', 'snr': 0, 'filename': 'object_generated1510.dat'}, {'label': 'QAM256', 'snr': 0, 'filename': 'object_generated347.dat'}, {'label': 'QAM4', 'snr': 0, 'filename': 'object_generated248.dat'}, {'label': 'PSK8', 'snr': 0, 'filename': 'object_generated1318.dat'}, {'label': 'PSK16', 'snr': 0, 'filename': 'object_generated847.dat'}, {'label': 'QAM256', 'snr': 0, 'filename': 'object_generated603.dat'}, {'label': 'PSK16', 'snr': 0, 'filename': 'object_generated199.dat'}, {'label': 'QAM256', 'snr': 0, 'filename': 'object_generated339.dat'}, {'label': 'QAM64', 'snr': 0, 'filename': 'object_generated370.dat'}, {'label': 'QAM64', 'snr': 0, 'filename': 'object_generated842.dat'}, {'label': 'PSK2', 'snr': 0, 'filename': 'object_generated452.dat'}, {'label': 'PSK4', 'snr': 0, 'filename': 'object_generated749.dat'}, {'label': 'PSK16', 'snr': 0, 'filename': 'object_generated815.dat'}, {'label': 'PSK2', 'snr': 0, 'filename': 'object_generated1348.dat'}, {'label': 'PSK2', 'snr': 0, 'filename': 'object_generated1180.dat'}, {'label': 'PSK4', 'snr': 0, 'filename': 'object_generated877.dat'}, {'label': 'PSK4', 'snr': 0, 'filename': 'object_generated1101.dat'}, {'label': 'QAM64', 'snr': 0, 'filename': 'object_generated346.dat'}]\n"
     ]
    }
   ],
   "source": [
    "print train_set.datapoints"
   ]
  },
  {
   "cell_type": "markdown",
   "metadata": {},
   "source": [
    "# Train the Model"
   ]
  },
  {
   "cell_type": "code",
   "execution_count": null,
   "metadata": {
    "scrolled": false
   },
   "outputs": [
    {
     "name": "stdout",
     "output_type": "stream",
     "text": [
      "Epoch 1/100\n"
     ]
    }
   ],
   "source": [
    "\n",
    "#%%capture output\n",
    "# perform training ...\n",
    "#   - call the main training loop in keras for our network+dataset\n",
    "filepath = 'spectrumCNN.wts.h5'\n",
    "history = model.fit_generator(generator = train_set_gen,\n",
    "    steps_per_epoch=int(11000/batch_size),\n",
    "    epochs=nb_epoch,\n",
    "    verbose=2,\n",
    "    validation_data = test_set_gen,\n",
    "    validation_steps = 100,\n",
    "    pickle_safe = True,\n",
    "    workers = 4,                                        \n",
    "    callbacks = [\n",
    "        keras.callbacks.ModelCheckpoint(filepath, monitor='val_loss', verbose=0, save_best_only=True, mode='auto'),\n",
    "        keras.callbacks.EarlyStopping(monitor='val_loss', patience=10, verbose=2, mode='auto')\n",
    "    ])\n",
    "# we re-load the best weights once training is finished\n",
    "model.load_weights(filepath)"
   ]
  },
  {
   "cell_type": "code",
   "execution_count": 15,
   "metadata": {},
   "outputs": [
    {
     "name": "stdout",
     "output_type": "stream",
     "text": [
      "Epoch 1/100\n",
      "72s - loss: 2.0050 - acc: 0.1666 - val_loss: 2.1549 - val_acc: 0.1369\n",
      "Epoch 2/100\n",
      "69s - loss: 1.4169 - acc: 0.3915 - val_loss: 3.2672 - val_acc: 0.1797\n",
      "Epoch 3/100\n",
      "68s - loss: 0.8774 - acc: 0.5907 - val_loss: 4.3218 - val_acc: 0.1625\n",
      "Epoch 4/100\n",
      "68s - loss: 0.6182 - acc: 0.7123 - val_loss: 3.6445 - val_acc: 0.2253\n",
      "Epoch 5/100\n",
      "68s - loss: 0.4249 - acc: 0.7995 - val_loss: 4.2952 - val_acc: 0.1837\n",
      "Epoch 6/100\n",
      "69s - loss: 0.3090 - acc: 0.8681 - val_loss: 4.7565 - val_acc: 0.1981\n",
      "Epoch 7/100\n",
      "69s - loss: 0.2115 - acc: 0.9169 - val_loss: 6.1973 - val_acc: 0.1647\n",
      "Epoch 8/100\n",
      "69s - loss: 0.1455 - acc: 0.9483 - val_loss: 6.3023 - val_acc: 0.1806\n",
      "Epoch 9/100\n",
      "69s - loss: 0.0649 - acc: 0.9803 - val_loss: 5.4546 - val_acc: 0.2297\n",
      "Epoch 10/100\n",
      "69s - loss: 0.1052 - acc: 0.9673 - val_loss: 7.1324 - val_acc: 0.1713\n",
      "Epoch 11/100\n",
      "70s - loss: 0.0014 - acc: 0.9998 - val_loss: 7.5032 - val_acc: 0.1853\n",
      "Epoch 12/100\n",
      "69s - loss: 1.6291e-04 - acc: 1.0000 - val_loss: 7.7580 - val_acc: 0.1850\n",
      "Epoch 00011: early stopping\n"
     ]
    }
   ],
   "source": [
    "output.show()"
   ]
  },
  {
   "cell_type": "code",
   "execution_count": 3,
   "metadata": {},
   "outputs": [
    {
     "name": "stdout",
     "output_type": "stream",
     "text": [
      "[0, 3, 0, 5, 6, 1, 1, 5, 3, 0, 4, 3, 1, 3, 1, 5, 7, 1, 1, 0, 6, 2, 4, 4, 1, 4, 0, 7, 3, 4, 0, 0]\n",
      "[[ 1.  0.  0.  0.  0.  0.  0.  0.]\n",
      " [ 0.  0.  0.  1.  0.  0.  0.  0.]\n",
      " [ 1.  0.  0.  0.  0.  0.  0.  0.]\n",
      " [ 0.  0.  0.  0.  0.  1.  0.  0.]\n",
      " [ 0.  0.  0.  0.  0.  0.  1.  0.]\n",
      " [ 0.  1.  0.  0.  0.  0.  0.  0.]\n",
      " [ 0.  1.  0.  0.  0.  0.  0.  0.]\n",
      " [ 0.  0.  0.  0.  0.  1.  0.  0.]\n",
      " [ 0.  0.  0.  1.  0.  0.  0.  0.]\n",
      " [ 1.  0.  0.  0.  0.  0.  0.  0.]\n",
      " [ 0.  0.  0.  0.  1.  0.  0.  0.]\n",
      " [ 0.  0.  0.  1.  0.  0.  0.  0.]\n",
      " [ 0.  1.  0.  0.  0.  0.  0.  0.]\n",
      " [ 0.  0.  0.  1.  0.  0.  0.  0.]\n",
      " [ 0.  1.  0.  0.  0.  0.  0.  0.]\n",
      " [ 0.  0.  0.  0.  0.  1.  0.  0.]\n",
      " [ 0.  0.  0.  0.  0.  0.  0.  1.]\n",
      " [ 0.  1.  0.  0.  0.  0.  0.  0.]\n",
      " [ 0.  1.  0.  0.  0.  0.  0.  0.]\n",
      " [ 1.  0.  0.  0.  0.  0.  0.  0.]\n",
      " [ 0.  0.  0.  0.  0.  0.  1.  0.]\n",
      " [ 0.  0.  1.  0.  0.  0.  0.  0.]\n",
      " [ 0.  0.  0.  0.  1.  0.  0.  0.]\n",
      " [ 0.  0.  0.  0.  1.  0.  0.  0.]\n",
      " [ 0.  1.  0.  0.  0.  0.  0.  0.]\n",
      " [ 0.  0.  0.  0.  1.  0.  0.  0.]\n",
      " [ 1.  0.  0.  0.  0.  0.  0.  0.]\n",
      " [ 0.  0.  0.  0.  0.  0.  0.  1.]\n",
      " [ 0.  0.  0.  1.  0.  0.  0.  0.]\n",
      " [ 0.  0.  0.  0.  1.  0.  0.  0.]\n",
      " [ 1.  0.  0.  0.  0.  0.  0.  0.]\n",
      " [ 1.  0.  0.  0.  0.  0.  0.  0.]]\n"
     ]
    }
   ],
   "source": [
    "# test = cPickle.load(file('trainingdataset/object_generated12.dat'))\n",
    "# p = model.predict(np.array([test['data']]))\n",
    "# print p\n",
    "# print(test['objects'])\n",
    "datapoints_copy = list(train_set.datapoints)\n",
    "batch_labels = [train_set.class_types.index(point['label']) for point in datapoints_copy[0:32]]\n",
    "print batch_labels\n",
    "batch_labels_onehot = train_set.to_onehot(batch_labels)\n",
    "print batch_labels_onehot"
   ]
  },
  {
   "cell_type": "markdown",
   "metadata": {},
   "source": [
    "# Evaluate and Plot Model Performance"
   ]
  },
  {
   "cell_type": "code",
   "execution_count": 16,
   "metadata": {},
   "outputs": [
    {
     "ename": "NameError",
     "evalue": "name 'X_test' is not defined",
     "output_type": "error",
     "traceback": [
      "\u001b[0;31m---------------------------------------------------------------------------\u001b[0m",
      "\u001b[0;31mNameError\u001b[0m                                 Traceback (most recent call last)",
      "\u001b[0;32m<ipython-input-16-31debbfc7d3e>\u001b[0m in \u001b[0;36m<module>\u001b[0;34m()\u001b[0m\n\u001b[1;32m      1\u001b[0m \u001b[0;31m# Show simple version of performance\u001b[0m\u001b[0;34m\u001b[0m\u001b[0;34m\u001b[0m\u001b[0m\n\u001b[0;32m----> 2\u001b[0;31m \u001b[0mscore\u001b[0m \u001b[0;34m=\u001b[0m \u001b[0mmodel\u001b[0m\u001b[0;34m.\u001b[0m\u001b[0mevaluate\u001b[0m\u001b[0;34m(\u001b[0m\u001b[0mX_test\u001b[0m\u001b[0;34m,\u001b[0m \u001b[0mY_test\u001b[0m\u001b[0;34m,\u001b[0m \u001b[0mverbose\u001b[0m\u001b[0;34m=\u001b[0m\u001b[0;36m0\u001b[0m\u001b[0;34m,\u001b[0m \u001b[0mbatch_size\u001b[0m\u001b[0;34m=\u001b[0m\u001b[0mbatch_size\u001b[0m\u001b[0;34m)\u001b[0m\u001b[0;34m\u001b[0m\u001b[0m\n\u001b[0m\u001b[1;32m      3\u001b[0m \u001b[0;32mprint\u001b[0m \u001b[0mscore\u001b[0m\u001b[0;34m\u001b[0m\u001b[0m\n",
      "\u001b[0;31mNameError\u001b[0m: name 'X_test' is not defined"
     ]
    }
   ],
   "source": [
    "# Show simple version of performance\n",
    "score = model.evaluate(X_test, Y_test, verbose=0, batch_size=batch_size)\n",
    "print score"
   ]
  },
  {
   "cell_type": "code",
   "execution_count": 17,
   "metadata": {},
   "outputs": [
    {
     "data": {
      "text/plain": [
       "<matplotlib.legend.Legend at 0x7fa3e8aec190>"
      ]
     },
     "execution_count": 17,
     "metadata": {},
     "output_type": "execute_result"
    },
    {
     "data": {
      "image/png": "[encoded data removed]",
      "text/plain": [
       "<matplotlib.figure.Figure at 0x7fa4e421f7d0>"
      ]
     },
     "metadata": {},
     "output_type": "display_data"
    }
   ],
   "source": [
    "# Show loss curves \n",
    "plt.figure()\n",
    "plt.title('Training performance')\n",
    "plt.plot(history.epoch, history.history['loss'], label='train loss+error')\n",
    "plt.plot(history.epoch, history.history['val_loss'], label='val_error')\n",
    "plt.plot(history.epoch, history.history['val_acc'], label='val_accuracy')\n",
    "plt.legend()"
   ]
  },
  {
   "cell_type": "code",
   "execution_count": 18,
   "metadata": {},
   "outputs": [],
   "source": [
    "def plot_confusion_matrix(cm, title='Confusion matrix', cmap=plt.cm.Blues, labels=[]):\n",
    "    plt.imshow(cm, interpolation='nearest', cmap=cmap)\n",
    "    plt.title(title)\n",
    "    plt.colorbar()\n",
    "    tick_marks = np.arange(len(labels))\n",
    "    plt.xticks(tick_marks, labels, rotation=45)\n",
    "    plt.yticks(tick_marks, labels)\n",
    "    plt.tight_layout()\n",
    "    plt.ylabel('True label')\n",
    "    plt.xlabel('Predicted label')"
   ]
  },
  {
   "cell_type": "code",
   "execution_count": 19,
   "metadata": {},
   "outputs": [
    {
     "ename": "NameError",
     "evalue": "name 'X_test' is not defined",
     "output_type": "error",
     "traceback": [
      "\u001b[0;31m---------------------------------------------------------------------------\u001b[0m",
      "\u001b[0;31mNameError\u001b[0m                                 Traceback (most recent call last)",
      "\u001b[0;32m<ipython-input-19-52a7646347bd>\u001b[0m in \u001b[0;36m<module>\u001b[0;34m()\u001b[0m\n\u001b[1;32m      1\u001b[0m \u001b[0;31m# Plot confusion matrix\u001b[0m\u001b[0;34m\u001b[0m\u001b[0;34m\u001b[0m\u001b[0m\n\u001b[0;32m----> 2\u001b[0;31m \u001b[0mtest_Y_hat\u001b[0m \u001b[0;34m=\u001b[0m \u001b[0mmodel\u001b[0m\u001b[0;34m.\u001b[0m\u001b[0mpredict\u001b[0m\u001b[0;34m(\u001b[0m\u001b[0mX_test\u001b[0m\u001b[0;34m,\u001b[0m \u001b[0mbatch_size\u001b[0m\u001b[0;34m=\u001b[0m\u001b[0mbatch_size\u001b[0m\u001b[0;34m)\u001b[0m\u001b[0;34m\u001b[0m\u001b[0m\n\u001b[0m\u001b[1;32m      3\u001b[0m \u001b[0mconf\u001b[0m \u001b[0;34m=\u001b[0m \u001b[0mnp\u001b[0m\u001b[0;34m.\u001b[0m\u001b[0mzeros\u001b[0m\u001b[0;34m(\u001b[0m\u001b[0;34m[\u001b[0m\u001b[0mlen\u001b[0m\u001b[0;34m(\u001b[0m\u001b[0mclasses\u001b[0m\u001b[0;34m)\u001b[0m\u001b[0;34m,\u001b[0m\u001b[0mlen\u001b[0m\u001b[0;34m(\u001b[0m\u001b[0mclasses\u001b[0m\u001b[0;34m)\u001b[0m\u001b[0;34m]\u001b[0m\u001b[0;34m)\u001b[0m\u001b[0;34m\u001b[0m\u001b[0m\n\u001b[1;32m      4\u001b[0m \u001b[0mconfnorm\u001b[0m \u001b[0;34m=\u001b[0m \u001b[0mnp\u001b[0m\u001b[0;34m.\u001b[0m\u001b[0mzeros\u001b[0m\u001b[0;34m(\u001b[0m\u001b[0;34m[\u001b[0m\u001b[0mlen\u001b[0m\u001b[0;34m(\u001b[0m\u001b[0mclasses\u001b[0m\u001b[0;34m)\u001b[0m\u001b[0;34m,\u001b[0m\u001b[0mlen\u001b[0m\u001b[0;34m(\u001b[0m\u001b[0mclasses\u001b[0m\u001b[0;34m)\u001b[0m\u001b[0;34m]\u001b[0m\u001b[0;34m)\u001b[0m\u001b[0;34m\u001b[0m\u001b[0m\n\u001b[1;32m      5\u001b[0m \u001b[0;32mfor\u001b[0m \u001b[0mi\u001b[0m \u001b[0;32min\u001b[0m \u001b[0mrange\u001b[0m\u001b[0;34m(\u001b[0m\u001b[0;36m0\u001b[0m\u001b[0;34m,\u001b[0m\u001b[0mX_test\u001b[0m\u001b[0;34m.\u001b[0m\u001b[0mshape\u001b[0m\u001b[0;34m[\u001b[0m\u001b[0;36m0\u001b[0m\u001b[0;34m]\u001b[0m\u001b[0;34m)\u001b[0m\u001b[0;34m:\u001b[0m\u001b[0;34m\u001b[0m\u001b[0m\n",
      "\u001b[0;31mNameError\u001b[0m: name 'X_test' is not defined"
     ]
    }
   ],
   "source": [
    "# Plot confusion matrix\n",
    "test_Y_hat = model.predict(X_test, batch_size=batch_size)\n",
    "conf = np.zeros([len(classes),len(classes)])\n",
    "confnorm = np.zeros([len(classes),len(classes)])\n",
    "for i in range(0,X_test.shape[0]):\n",
    "    j = list(Y_test[i,:]).index(1)\n",
    "    k = int(np.argmax(test_Y_hat[i,:]))\n",
    "    conf[j,k] = conf[j,k] + 1\n",
    "for i in range(0,len(classes)):\n",
    "    confnorm[i,:] = conf[i,:] / np.sum(conf[i,:])\n",
    "plot_confusion_matrix(confnorm, labels=classes)\n",
    "\n"
   ]
  },
  {
   "cell_type": "code",
   "execution_count": 20,
   "metadata": {
    "scrolled": false
   },
   "outputs": [
    {
     "ename": "NameError",
     "evalue": "name 'snrs' is not defined",
     "output_type": "error",
     "traceback": [
      "\u001b[0;31m---------------------------------------------------------------------------\u001b[0m",
      "\u001b[0;31mNameError\u001b[0m                                 Traceback (most recent call last)",
      "\u001b[0;32m<ipython-input-20-866fc0e850b6>\u001b[0m in \u001b[0;36m<module>\u001b[0;34m()\u001b[0m\n\u001b[1;32m      1\u001b[0m \u001b[0;31m# Plot confusion matrix\u001b[0m\u001b[0;34m\u001b[0m\u001b[0;34m\u001b[0m\u001b[0m\n\u001b[1;32m      2\u001b[0m \u001b[0macc\u001b[0m \u001b[0;34m=\u001b[0m \u001b[0;34m{\u001b[0m\u001b[0;34m}\u001b[0m\u001b[0;34m\u001b[0m\u001b[0m\n\u001b[0;32m----> 3\u001b[0;31m \u001b[0;32mfor\u001b[0m \u001b[0msnr\u001b[0m \u001b[0;32min\u001b[0m \u001b[0msnrs\u001b[0m\u001b[0;34m:\u001b[0m\u001b[0;34m\u001b[0m\u001b[0m\n\u001b[0m\u001b[1;32m      4\u001b[0m     \u001b[0;32mprint\u001b[0m \u001b[0msnr\u001b[0m\u001b[0;34m\u001b[0m\u001b[0m\n\u001b[1;32m      5\u001b[0m \u001b[0;34m\u001b[0m\u001b[0m\n",
      "\u001b[0;31mNameError\u001b[0m: name 'snrs' is not defined"
     ]
    }
   ],
   "source": [
    "# Plot confusion matrix\n",
    "acc = {}\n",
    "for snr in snrs:\n",
    "    print snr\n",
    "\n",
    "    # extract classes @ SNR\n",
    "    test_SNRs = map(lambda x: lbl[x][1], test_idx)\n",
    "    test_X_i = X_test[np.where(np.array(test_SNRs)==snr)]\n",
    "    test_Y_i = Y_test[np.where(np.array(test_SNRs)==snr)]    \n",
    "\n",
    "    # estimate classes\n",
    "    test_Y_i_hat = model.predict(test_X_i)\n",
    "    conf = np.zeros([len(classes),len(classes)])\n",
    "    confnorm = np.zeros([len(classes),len(classes)])\n",
    "    for i in range(0,test_X_i.shape[0]):\n",
    "        j = list(test_Y_i[i,:]).index(1)\n",
    "        k = int(np.argmax(test_Y_i_hat[i,:]))\n",
    "        conf[j,k] = conf[j,k] + 1\n",
    "    for i in range(0,len(classes)):\n",
    "        confnorm[i,:] = conf[i,:] / np.sum(conf[i,:])\n",
    "    plt.figure()\n",
    "    plot_confusion_matrix(confnorm, labels=classes, title=\"ConvNet Confusion Matrix (SNR=%d)\"%(snr))\n",
    "    \n",
    "    cor = np.sum(np.diag(conf))\n",
    "    ncor = np.sum(conf) - cor\n",
    "    print \"Overall Accuracy: \", cor / (cor+ncor)\n",
    "    acc[snr] = 1.0*cor/(cor+ncor)\n",
    "    "
   ]
  },
  {
   "cell_type": "code",
   "execution_count": 21,
   "metadata": {
    "scrolled": false
   },
   "outputs": [
    {
     "name": "stdout",
     "output_type": "stream",
     "text": [
      "{}\n"
     ]
    }
   ],
   "source": [
    "# Save results to a pickle file for plotting later\n",
    "print acc\n",
    "fd = open('results_cnn2_d0.5.dat','wb')\n",
    "cPickle.dump( (\"CNN2\", 0.5, acc) , fd )"
   ]
  },
  {
   "cell_type": "code",
   "execution_count": 22,
   "metadata": {
    "scrolled": true
   },
   "outputs": [
    {
     "ename": "NameError",
     "evalue": "name 'snrs' is not defined",
     "output_type": "error",
     "traceback": [
      "\u001b[0;31m---------------------------------------------------------------------------\u001b[0m",
      "\u001b[0;31mNameError\u001b[0m                                 Traceback (most recent call last)",
      "\u001b[0;32m<ipython-input-22-a2a04f026a29>\u001b[0m in \u001b[0;36m<module>\u001b[0;34m()\u001b[0m\n\u001b[1;32m      1\u001b[0m \u001b[0;31m# Plot accuracy curve\u001b[0m\u001b[0;34m\u001b[0m\u001b[0;34m\u001b[0m\u001b[0m\n\u001b[0;32m----> 2\u001b[0;31m \u001b[0mplt\u001b[0m\u001b[0;34m.\u001b[0m\u001b[0mplot\u001b[0m\u001b[0;34m(\u001b[0m\u001b[0msnrs\u001b[0m\u001b[0;34m,\u001b[0m \u001b[0mmap\u001b[0m\u001b[0;34m(\u001b[0m\u001b[0;32mlambda\u001b[0m \u001b[0mx\u001b[0m\u001b[0;34m:\u001b[0m \u001b[0macc\u001b[0m\u001b[0;34m[\u001b[0m\u001b[0mx\u001b[0m\u001b[0;34m]\u001b[0m\u001b[0;34m,\u001b[0m \u001b[0msnrs\u001b[0m\u001b[0;34m)\u001b[0m\u001b[0;34m)\u001b[0m\u001b[0;34m\u001b[0m\u001b[0m\n\u001b[0m\u001b[1;32m      3\u001b[0m \u001b[0mplt\u001b[0m\u001b[0;34m.\u001b[0m\u001b[0mxlabel\u001b[0m\u001b[0;34m(\u001b[0m\u001b[0;34m\"Signal to Noise Ratio\"\u001b[0m\u001b[0;34m)\u001b[0m\u001b[0;34m\u001b[0m\u001b[0m\n\u001b[1;32m      4\u001b[0m \u001b[0mplt\u001b[0m\u001b[0;34m.\u001b[0m\u001b[0mylabel\u001b[0m\u001b[0;34m(\u001b[0m\u001b[0;34m\"Classification Accuracy\"\u001b[0m\u001b[0;34m)\u001b[0m\u001b[0;34m\u001b[0m\u001b[0m\n\u001b[1;32m      5\u001b[0m \u001b[0mplt\u001b[0m\u001b[0;34m.\u001b[0m\u001b[0mtitle\u001b[0m\u001b[0;34m(\u001b[0m\u001b[0;34m\"CNN2 Classification Accuracy on RadioML 2016.10 Alpha\"\u001b[0m\u001b[0;34m)\u001b[0m\u001b[0;34m\u001b[0m\u001b[0m\n",
      "\u001b[0;31mNameError\u001b[0m: name 'snrs' is not defined"
     ]
    }
   ],
   "source": [
    "# Plot accuracy curve\n",
    "plt.plot(snrs, map(lambda x: acc[x], snrs))\n",
    "plt.xlabel(\"Signal to Noise Ratio\")\n",
    "plt.ylabel(\"Classification Accuracy\")\n",
    "plt.title(\"CNN2 Classification Accuracy on RadioML 2016.10 Alpha\")"
   ]
  },
  {
   "cell_type": "code",
   "execution_count": null,
   "metadata": {},
   "outputs": [],
   "source": []
  }
 ],
 "metadata": {
  "kernelspec": {
   "display_name": "Python 2",
   "language": "python",
   "name": "python2"
  },
  "language_info": {
   "codemirror_mode": {
    "name": "ipython",
    "version": 2
   },
   "file_extension": ".py",
   "mimetype": "text/x-python",
   "name": "python",
   "nbconvert_exporter": "python",
   "pygments_lexer": "ipython2",
   "version": "2.7.12"
  }
 },
 "nbformat": 4,
 "nbformat_minor": 1
}
